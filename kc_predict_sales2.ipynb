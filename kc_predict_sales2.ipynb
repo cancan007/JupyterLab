{
 "cells": [
  {
   "cell_type": "code",
   "execution_count": 1,
   "id": "expected-muscle",
   "metadata": {},
   "outputs": [
    {
     "data": {
      "text/plain": [
       "'\\n# This Python 3 environment comes with many helpful analytics libraries installed\\n# It is defined by the kaggle/python Docker image: https://github.com/kaggle/docker-python\\n# For example, here\\'s several helpful packages to load\\n\\nimport numpy as np # linear algebra\\nimport pandas as pd # data processing, CSV file I/O (e.g. pd.read_csv)\\nfrom sklearn.preprocessing import LabelEncoder\\nfrom itertools import product\\nimport gc\\nimport re\\n\\n# Input data files are available in the read-only \"../input/\" directory\\n# For example, running this (by clicking run or pressing Shift+Enter) will list all files under the input directory\\n\\nimport os\\nfor dirname, _, filenames in os.walk(\\'/kaggle/input\\'):\\n    for filename in filenames:\\n        print(os.path.join(dirname, filename))\\n\\n# You can write up to 20GB to the current directory (/kaggle/working/) that gets preserved as output when you create a version using \"Save & Run All\" \\n# You can also write temporary files to /kaggle/temp/, but they won\\'t be saved outside of the current session\\n'"
      ]
     },
     "execution_count": 1,
     "metadata": {},
     "output_type": "execute_result"
    }
   ],
   "source": [
    "\"\"\"\n",
    "# This Python 3 environment comes with many helpful analytics libraries installed\n",
    "# It is defined by the kaggle/python Docker image: https://github.com/kaggle/docker-python\n",
    "# For example, here's several helpful packages to load\n",
    "\n",
    "import numpy as np # linear algebra\n",
    "import pandas as pd # data processing, CSV file I/O (e.g. pd.read_csv)\n",
    "from sklearn.preprocessing import LabelEncoder\n",
    "from itertools import product\n",
    "import gc\n",
    "import re\n",
    "\n",
    "# Input data files are available in the read-only \"../input/\" directory\n",
    "# For example, running this (by clicking run or pressing Shift+Enter) will list all files under the input directory\n",
    "\n",
    "import os\n",
    "for dirname, _, filenames in os.walk('/kaggle/input'):\n",
    "    for filename in filenames:\n",
    "        print(os.path.join(dirname, filename))\n",
    "\n",
    "# You can write up to 20GB to the current directory (/kaggle/working/) that gets preserved as output when you create a version using \"Save & Run All\" \n",
    "# You can also write temporary files to /kaggle/temp/, but they won't be saved outside of the current session\n",
    "\"\"\""
   ]
  },
  {
   "cell_type": "code",
   "execution_count": 2,
   "id": "renewable-student",
   "metadata": {},
   "outputs": [],
   "source": [
    "# https://www.kaggle.com/yiyangevandai/predict-future-sales\n",
    "import numpy as np\n",
    "import pandas as pd\n",
    "from sklearn.preprocessing import LabelEncoder\n",
    "from itertools import product\n",
    "import gc    #ガベージコレクション用のモジュール(メモリを動的に確保すること)\n",
    "import re\n",
    "import os\n",
    "from xgboost import XGBRegressor, plot_importance   #xgboost: treeの勾配ブースティングによる高性能な分類・予測モデル。kaggleで大人気(詳しい説明は下へ)\n",
    "import matplotlib.pyplot as plt"
   ]
  },
  {
   "cell_type": "code",
   "execution_count": 3,
   "id": "hungry-patrol",
   "metadata": {},
   "outputs": [
    {
     "name": "stdout",
     "output_type": "stream",
     "text": [
      "C:\\Users\\shota\\OneDrive\\ドキュメント\\Data\\Kaggle\\kc_Predict_Future_Sales\\items.csv\n",
      "C:\\Users\\shota\\OneDrive\\ドキュメント\\Data\\Kaggle\\kc_Predict_Future_Sales\\item_categories.csv\n",
      "C:\\Users\\shota\\OneDrive\\ドキュメント\\Data\\Kaggle\\kc_Predict_Future_Sales\\sales_train.csv\n",
      "C:\\Users\\shota\\OneDrive\\ドキュメント\\Data\\Kaggle\\kc_Predict_Future_Sales\\sample_submission.csv\n",
      "C:\\Users\\shota\\OneDrive\\ドキュメント\\Data\\Kaggle\\kc_Predict_Future_Sales\\shops.csv\n",
      "C:\\Users\\shota\\OneDrive\\ドキュメント\\Data\\Kaggle\\kc_Predict_Future_Sales\\test.csv\n"
     ]
    }
   ],
   "source": [
    "DATA_PATH = 'C:\\\\Users\\\\shota\\\\OneDrive\\\\ドキュメント\\\\Data\\\\Kaggle\\\\kc_Predict_Future_Sales\\\\'\n",
    "for dirname, _, filenames in os.walk(DATA_PATH):\n",
    "    for filename in filenames:\n",
    "        print(os.path.join(dirname, filename))"
   ]
  },
  {
   "cell_type": "code",
   "execution_count": 4,
   "id": "short-sunrise",
   "metadata": {},
   "outputs": [
    {
     "data": {
      "text/plain": [
       "\"\\nitems_df = pd.read_csv('/kaggle/input/competitive-data-science-predict-future-sales/items.csv')\\nitem_categories_df = pd.read_csv('/kaggle/input/competitive-data-science-predict-future-sales/item_categories.csv')\\nsales_df = pd.read_csv('/kaggle/input/competitive-data-science-predict-future-sales/sales_train.csv')\\nshops_df = pd.read_csv('/kaggle/input/competitive-data-science-predict-future-sales/shops.csv')\\ntest_df = pd.read_csv('/kaggle/input/competitive-data-science-predict-future-sales/test.csv')\\n\""
      ]
     },
     "execution_count": 4,
     "metadata": {},
     "output_type": "execute_result"
    }
   ],
   "source": [
    "\"\"\"\n",
    "items_df = pd.read_csv('/kaggle/input/competitive-data-science-predict-future-sales/items.csv')\n",
    "item_categories_df = pd.read_csv('/kaggle/input/competitive-data-science-predict-future-sales/item_categories.csv')\n",
    "sales_df = pd.read_csv('/kaggle/input/competitive-data-science-predict-future-sales/sales_train.csv')\n",
    "shops_df = pd.read_csv('/kaggle/input/competitive-data-science-predict-future-sales/shops.csv')\n",
    "test_df = pd.read_csv('/kaggle/input/competitive-data-science-predict-future-sales/test.csv')\n",
    "\"\"\""
   ]
  },
  {
   "cell_type": "code",
   "execution_count": 5,
   "id": "vertical-richards",
   "metadata": {},
   "outputs": [],
   "source": [
    "#Load Data\n",
    "items_df = pd.read_csv(DATA_PATH + 'items.csv')\n",
    "item_categories_df = pd.read_csv(DATA_PATH + 'item_categories.csv')\n",
    "sales_df = pd.read_csv(DATA_PATH + 'sales_train.csv')\n",
    "shops_df = pd.read_csv(DATA_PATH + 'shops.csv')\n",
    "test_df = pd.read_csv(DATA_PATH + 'test.csv')"
   ]
  },
  {
   "cell_type": "code",
   "execution_count": 6,
   "id": "honey-prince",
   "metadata": {},
   "outputs": [
    {
     "data": {
      "text/plain": [
       "'\\ndef downcast_dtypes(df):\\n    \\'\\'\\'\\n        Changes column types in the dataframe: \\n                \\n                `float64` type to `float32`\\n                `int64`   type to `int32`\\n    \\'\\'\\'\\n    \\n    # Select columns to downcast\\n    float_cols = [c for c in df if df[c].dtype == \"float64\"]\\n    int_cols =   [c for c in df if df[c].dtype == \"int64\"]\\n    \\n    # Downcast\\n    df[float_cols] = df[float_cols].astype(np.float32)\\n    df[int_cols]   = df[int_cols].astype(np.int32)\\n    \\n    return df\\n'"
      ]
     },
     "execution_count": 6,
     "metadata": {},
     "output_type": "execute_result"
    }
   ],
   "source": [
    "\"\"\"\n",
    "def downcast_dtypes(df):\n",
    "    '''\n",
    "        Changes column types in the dataframe: \n",
    "                \n",
    "                `float64` type to `float32`\n",
    "                `int64`   type to `int32`\n",
    "    '''\n",
    "    \n",
    "    # Select columns to downcast\n",
    "    float_cols = [c for c in df if df[c].dtype == \"float64\"]\n",
    "    int_cols =   [c for c in df if df[c].dtype == \"int64\"]\n",
    "    \n",
    "    # Downcast\n",
    "    df[float_cols] = df[float_cols].astype(np.float32)\n",
    "    df[int_cols]   = df[int_cols].astype(np.int32)\n",
    "    \n",
    "    return df\n",
    "\"\"\""
   ]
  },
  {
   "cell_type": "code",
   "execution_count": 7,
   "id": "cooked-bermuda",
   "metadata": {},
   "outputs": [],
   "source": [
    "def downcast_dtypes(df):\n",
    "    float_cols = [c for c in df if df[c].dtype == 'float64']\n",
    "    int_cols = [c for c in df if df[c].dtype == 'int64']\n",
    "    \n",
    "    df[float_cols] = df[float_cols].astype(np.float32)\n",
    "    df[int_cols] = df[int_cols].astype(np.int32)\n",
    "    \n",
    "    return df"
   ]
  },
  {
   "cell_type": "code",
   "execution_count": 8,
   "id": "wooden-institute",
   "metadata": {},
   "outputs": [
    {
     "data": {
      "text/plain": [
       "\"\\n# get the type of the items and label them\\nitem_categories_df['type'] = item_categories_df['item_category_name'].str.split('-').map(lambda x:x[0])\\nitem_categories_df['type_code'] = LabelEncoder().fit_transform(item_categories_df['type'])\\n\\n# get the sub type of the items and label them\\nitem_categories_df['sub_type'] = item_categories_df['item_category_name'].str.split('-').map(lambda x:x[1].strip() \\n                                                                                             if len(x) > 1 else x[0].strip())\\nitem_categories_df['sub_type_code'] = LabelEncoder().fit_transform(item_categories_df['sub_type'])\\nitem_categories_df.head()\\n\\n\""
      ]
     },
     "execution_count": 8,
     "metadata": {},
     "output_type": "execute_result"
    }
   ],
   "source": [
    "\"\"\"\n",
    "# get the type of the items and label them\n",
    "item_categories_df['type'] = item_categories_df['item_category_name'].str.split('-').map(lambda x:x[0])\n",
    "item_categories_df['type_code'] = LabelEncoder().fit_transform(item_categories_df['type'])\n",
    "\n",
    "# get the sub type of the items and label them\n",
    "item_categories_df['sub_type'] = item_categories_df['item_category_name'].str.split('-').map(lambda x:x[1].strip() \n",
    "                                                                                             if len(x) > 1 else x[0].strip())\n",
    "item_categories_df['sub_type_code'] = LabelEncoder().fit_transform(item_categories_df['sub_type'])\n",
    "item_categories_df.head()\n",
    "\n",
    "\"\"\""
   ]
  },
  {
   "cell_type": "code",
   "execution_count": 9,
   "id": "settled-genius",
   "metadata": {},
   "outputs": [],
   "source": [
    "# Preprcoess item_categories_df"
   ]
  },
  {
   "cell_type": "code",
   "execution_count": 10,
   "id": "involved-killing",
   "metadata": {},
   "outputs": [
    {
     "data": {
      "text/html": [
       "<div>\n",
       "<style scoped>\n",
       "    .dataframe tbody tr th:only-of-type {\n",
       "        vertical-align: middle;\n",
       "    }\n",
       "\n",
       "    .dataframe tbody tr th {\n",
       "        vertical-align: top;\n",
       "    }\n",
       "\n",
       "    .dataframe thead th {\n",
       "        text-align: right;\n",
       "    }\n",
       "</style>\n",
       "<table border=\"1\" class=\"dataframe\">\n",
       "  <thead>\n",
       "    <tr style=\"text-align: right;\">\n",
       "      <th></th>\n",
       "      <th>item_category_name</th>\n",
       "      <th>item_category_id</th>\n",
       "      <th>type</th>\n",
       "      <th>type_code</th>\n",
       "      <th>sub_type</th>\n",
       "      <th>sub_type_code</th>\n",
       "    </tr>\n",
       "  </thead>\n",
       "  <tbody>\n",
       "    <tr>\n",
       "      <th>0</th>\n",
       "      <td>PC - Гарнитуры/Наушники</td>\n",
       "      <td>0</td>\n",
       "      <td>PC</td>\n",
       "      <td>0</td>\n",
       "      <td>Гарнитуры/Наушники</td>\n",
       "      <td>29</td>\n",
       "    </tr>\n",
       "    <tr>\n",
       "      <th>1</th>\n",
       "      <td>Аксессуары - PS2</td>\n",
       "      <td>1</td>\n",
       "      <td>Аксессуары</td>\n",
       "      <td>1</td>\n",
       "      <td>PS2</td>\n",
       "      <td>9</td>\n",
       "    </tr>\n",
       "    <tr>\n",
       "      <th>2</th>\n",
       "      <td>Аксессуары - PS3</td>\n",
       "      <td>2</td>\n",
       "      <td>Аксессуары</td>\n",
       "      <td>1</td>\n",
       "      <td>PS3</td>\n",
       "      <td>10</td>\n",
       "    </tr>\n",
       "    <tr>\n",
       "      <th>3</th>\n",
       "      <td>Аксессуары - PS4</td>\n",
       "      <td>3</td>\n",
       "      <td>Аксессуары</td>\n",
       "      <td>1</td>\n",
       "      <td>PS4</td>\n",
       "      <td>11</td>\n",
       "    </tr>\n",
       "    <tr>\n",
       "      <th>4</th>\n",
       "      <td>Аксессуары - PSP</td>\n",
       "      <td>4</td>\n",
       "      <td>Аксессуары</td>\n",
       "      <td>1</td>\n",
       "      <td>PSP</td>\n",
       "      <td>13</td>\n",
       "    </tr>\n",
       "  </tbody>\n",
       "</table>\n",
       "</div>"
      ],
      "text/plain": [
       "        item_category_name  item_category_id         type  type_code  \\\n",
       "0  PC - Гарнитуры/Наушники                 0          PC           0   \n",
       "1         Аксессуары - PS2                 1  Аксессуары           1   \n",
       "2         Аксессуары - PS3                 2  Аксессуары           1   \n",
       "3         Аксессуары - PS4                 3  Аксессуары           1   \n",
       "4         Аксессуары - PSP                 4  Аксессуары           1   \n",
       "\n",
       "             sub_type  sub_type_code  \n",
       "0  Гарнитуры/Наушники             29  \n",
       "1                 PS2              9  \n",
       "2                 PS3             10  \n",
       "3                 PS4             11  \n",
       "4                 PSP             13  "
      ]
     },
     "execution_count": 10,
     "metadata": {},
     "output_type": "execute_result"
    }
   ],
   "source": [
    "item_categories_df['type'] = item_categories_df['item_category_name'].str.split('-').map(lambda x: x[0])\n",
    "item_categories_df['type_code'] = LabelEncoder().fit_transform(item_categories_df['type'])   \n",
    "# LabelEncoder()の例: ['positive', 'negative', 'positive'] は [0, 1, 0] が出力される (#リストの各要素は文字列でも良いですし，数値でも良いです)\n",
    "\n",
    "item_categories_df['sub_type'] = item_categories_df['item_category_name'].str.split('-').map(lambda x:x[1].strip()\n",
    "                                                                                              if len(x) > 1 else x[0].strip())\n",
    "item_categories_df['sub_type_code'] = LabelEncoder().fit_transform(item_categories_df['sub_type'])\n",
    "\"\"\"\n",
    "fit_transform()\n",
    "fit()とtransform()を一気に行う場合，fit_transform()を使うと楽です．\n",
    "\n",
    "入力がラベルの一次元リスト，出力がラベルIDの一次元リストになっています\n",
    "\"\"\"\n",
    "item_categories_df.head()"
   ]
  },
  {
   "cell_type": "code",
   "execution_count": 11,
   "id": "aquatic-wheel",
   "metadata": {},
   "outputs": [
    {
     "data": {
      "text/plain": [
       "'\\nshops_df.loc[shops_df[\\'shop_name\\']==\\'Сергиев Посад ТЦ \"7Я\"\\',\\'shop_name\\'] = \\'СергиевПосад ТЦ \"7Я\"\\'\\nshops_df[\\'city\\'] = shops_df[\\'shop_name\\'].str.split(\\' \\').map(lambda x:x[0])\\nshops_df.loc[shops_df[\\'city\\'] == \\'!Якутск\\',\\'city\\']=\\'Якутск\\'\\nshops_df[\\'city_code\\'] = LabelEncoder().fit_transform(shops_df[\\'city\\'])\\nshops_df.head()\\n'"
      ]
     },
     "execution_count": 11,
     "metadata": {},
     "output_type": "execute_result"
    }
   ],
   "source": [
    "\"\"\"\n",
    "shops_df.loc[shops_df['shop_name']=='Сергиев Посад ТЦ \"7Я\"','shop_name'] = 'СергиевПосад ТЦ \"7Я\"'\n",
    "shops_df['city'] = shops_df['shop_name'].str.split(' ').map(lambda x:x[0])\n",
    "shops_df.loc[shops_df['city'] == '!Якутск','city']='Якутск'\n",
    "shops_df['city_code'] = LabelEncoder().fit_transform(shops_df['city'])\n",
    "shops_df.head()\n",
    "\"\"\""
   ]
  },
  {
   "cell_type": "code",
   "execution_count": 12,
   "id": "interstate-benefit",
   "metadata": {},
   "outputs": [],
   "source": [
    "#Preprcoess shops_df"
   ]
  },
  {
   "cell_type": "code",
   "execution_count": 13,
   "id": "grateful-nylon",
   "metadata": {},
   "outputs": [
    {
     "data": {
      "text/html": [
       "<div>\n",
       "<style scoped>\n",
       "    .dataframe tbody tr th:only-of-type {\n",
       "        vertical-align: middle;\n",
       "    }\n",
       "\n",
       "    .dataframe tbody tr th {\n",
       "        vertical-align: top;\n",
       "    }\n",
       "\n",
       "    .dataframe thead th {\n",
       "        text-align: right;\n",
       "    }\n",
       "</style>\n",
       "<table border=\"1\" class=\"dataframe\">\n",
       "  <thead>\n",
       "    <tr style=\"text-align: right;\">\n",
       "      <th></th>\n",
       "      <th>shop_name</th>\n",
       "      <th>shop_id</th>\n",
       "      <th>city</th>\n",
       "      <th>city_code</th>\n",
       "    </tr>\n",
       "  </thead>\n",
       "  <tbody>\n",
       "    <tr>\n",
       "      <th>0</th>\n",
       "      <td>!Якутск Орджоникидзе, 56 фран</td>\n",
       "      <td>0</td>\n",
       "      <td>Якутск</td>\n",
       "      <td>29</td>\n",
       "    </tr>\n",
       "    <tr>\n",
       "      <th>1</th>\n",
       "      <td>!Якутск ТЦ \"Центральный\" фран</td>\n",
       "      <td>1</td>\n",
       "      <td>Якутск</td>\n",
       "      <td>29</td>\n",
       "    </tr>\n",
       "    <tr>\n",
       "      <th>2</th>\n",
       "      <td>Адыгея ТЦ \"Мега\"</td>\n",
       "      <td>2</td>\n",
       "      <td>Адыгея</td>\n",
       "      <td>0</td>\n",
       "    </tr>\n",
       "    <tr>\n",
       "      <th>3</th>\n",
       "      <td>Балашиха ТРК \"Октябрь-Киномир\"</td>\n",
       "      <td>3</td>\n",
       "      <td>Балашиха</td>\n",
       "      <td>1</td>\n",
       "    </tr>\n",
       "    <tr>\n",
       "      <th>4</th>\n",
       "      <td>Волжский ТЦ \"Волга Молл\"</td>\n",
       "      <td>4</td>\n",
       "      <td>Волжский</td>\n",
       "      <td>2</td>\n",
       "    </tr>\n",
       "  </tbody>\n",
       "</table>\n",
       "</div>"
      ],
      "text/plain": [
       "                        shop_name  shop_id      city  city_code\n",
       "0   !Якутск Орджоникидзе, 56 фран        0    Якутск         29\n",
       "1   !Якутск ТЦ \"Центральный\" фран        1    Якутск         29\n",
       "2                Адыгея ТЦ \"Мега\"        2    Адыгея          0\n",
       "3  Балашиха ТРК \"Октябрь-Киномир\"        3  Балашиха          1\n",
       "4        Волжский ТЦ \"Волга Молл\"        4  Волжский          2"
      ]
     },
     "execution_count": 13,
     "metadata": {},
     "output_type": "execute_result"
    }
   ],
   "source": [
    "shops_df.loc[shops_df['shop_name']=='Сергиев Посад ТЦ \"7Я\"','shop_name'] = 'СергиевПосад ТЦ \"7Я\"'    #split時に困るため、書き直した\n",
    "shops_df['city'] = shops_df['shop_name'].str.split(' ').map(lambda x:x[0])\n",
    "shops_df.loc[shops_df['city'] == '!Якутск','city']='Якутск'\n",
    "shops_df['city_code'] = LabelEncoder().fit_transform(shops_df['city'])\n",
    "shops_df.head()"
   ]
  },
  {
   "cell_type": "code",
   "execution_count": 14,
   "id": "radical-sword",
   "metadata": {},
   "outputs": [
    {
     "data": {
      "text/plain": [
       "'\\n# replace the negative item_price to mean value\\nmean = sales_df[(sales_df[\"shop_id\"] == 32) & (sales_df[\"item_id\"] == 2973) & \\n                (sales_df[\"date_block_num\"] == 4) & (sales_df[\"item_price\"] > 0)][\"item_price\"].mean()\\nsales_df.loc[sales_df.item_price < 0, \\'item_price\\'] = mean\\n\\n# clean the outliers\\nsales_df = sales_df[sales_df[\"item_price\"] < np.percentile(sales_df[\"item_price\"], q = 100)]\\nsales_df = sales_df[(sales_df[\"item_cnt_day\"] >= 0) & (sales_df[\"item_cnt_day\"] < np.percentile(sales_df[\"item_cnt_day\"], q = 100))]\\n\\n# change the format of date\\nsales_df[\"date\"] = pd.to_datetime(sales_df[\"date\"], format = \"%d.%m.%Y\")\\nsales_df.head()\\n'"
      ]
     },
     "execution_count": 14,
     "metadata": {},
     "output_type": "execute_result"
    }
   ],
   "source": [
    "\"\"\"\n",
    "# replace the negative item_price to mean value\n",
    "mean = sales_df[(sales_df[\"shop_id\"] == 32) & (sales_df[\"item_id\"] == 2973) & \n",
    "                (sales_df[\"date_block_num\"] == 4) & (sales_df[\"item_price\"] > 0)][\"item_price\"].mean()\n",
    "sales_df.loc[sales_df.item_price < 0, 'item_price'] = mean\n",
    "\n",
    "# clean the outliers\n",
    "sales_df = sales_df[sales_df[\"item_price\"] < np.percentile(sales_df[\"item_price\"], q = 100)]\n",
    "sales_df = sales_df[(sales_df[\"item_cnt_day\"] >= 0) & (sales_df[\"item_cnt_day\"] < np.percentile(sales_df[\"item_cnt_day\"], q = 100))]\n",
    "\n",
    "# change the format of date\n",
    "sales_df[\"date\"] = pd.to_datetime(sales_df[\"date\"], format = \"%d.%m.%Y\")\n",
    "sales_df.head()\n",
    "\"\"\""
   ]
  },
  {
   "cell_type": "code",
   "execution_count": 15,
   "id": "impressed-austria",
   "metadata": {},
   "outputs": [],
   "source": [
    "#Preprcoess sales_df"
   ]
  },
  {
   "cell_type": "code",
   "execution_count": 16,
   "id": "flexible-officer",
   "metadata": {},
   "outputs": [
    {
     "data": {
      "text/html": [
       "<div>\n",
       "<style scoped>\n",
       "    .dataframe tbody tr th:only-of-type {\n",
       "        vertical-align: middle;\n",
       "    }\n",
       "\n",
       "    .dataframe tbody tr th {\n",
       "        vertical-align: top;\n",
       "    }\n",
       "\n",
       "    .dataframe thead th {\n",
       "        text-align: right;\n",
       "    }\n",
       "</style>\n",
       "<table border=\"1\" class=\"dataframe\">\n",
       "  <thead>\n",
       "    <tr style=\"text-align: right;\">\n",
       "      <th></th>\n",
       "      <th>date</th>\n",
       "      <th>date_block_num</th>\n",
       "      <th>shop_id</th>\n",
       "      <th>item_id</th>\n",
       "      <th>item_price</th>\n",
       "      <th>item_cnt_day</th>\n",
       "    </tr>\n",
       "  </thead>\n",
       "  <tbody>\n",
       "    <tr>\n",
       "      <th>484682</th>\n",
       "      <td>23.05.2013</td>\n",
       "      <td>4</td>\n",
       "      <td>32</td>\n",
       "      <td>2973</td>\n",
       "      <td>1249.0</td>\n",
       "      <td>1.0</td>\n",
       "    </tr>\n",
       "    <tr>\n",
       "      <th>484684</th>\n",
       "      <td>06.05.2013</td>\n",
       "      <td>4</td>\n",
       "      <td>32</td>\n",
       "      <td>2973</td>\n",
       "      <td>2499.0</td>\n",
       "      <td>1.0</td>\n",
       "    </tr>\n",
       "  </tbody>\n",
       "</table>\n",
       "</div>"
      ],
      "text/plain": [
       "              date  date_block_num  shop_id  item_id  item_price  item_cnt_day\n",
       "484682  23.05.2013               4       32     2973      1249.0           1.0\n",
       "484684  06.05.2013               4       32     2973      2499.0           1.0"
      ]
     },
     "execution_count": 16,
     "metadata": {},
     "output_type": "execute_result"
    }
   ],
   "source": [
    "sales_df[(sales_df[\"shop_id\"] == 32) & (sales_df['item_id'] == 2973) &\n",
    "                (sales_df['date_block_num'] == 4) & (sales_df['item_price'] > 0)]"
   ]
  },
  {
   "cell_type": "code",
   "execution_count": 17,
   "id": "iraqi-string",
   "metadata": {},
   "outputs": [
    {
     "data": {
      "text/html": [
       "<div>\n",
       "<style scoped>\n",
       "    .dataframe tbody tr th:only-of-type {\n",
       "        vertical-align: middle;\n",
       "    }\n",
       "\n",
       "    .dataframe tbody tr th {\n",
       "        vertical-align: top;\n",
       "    }\n",
       "\n",
       "    .dataframe thead th {\n",
       "        text-align: right;\n",
       "    }\n",
       "</style>\n",
       "<table border=\"1\" class=\"dataframe\">\n",
       "  <thead>\n",
       "    <tr style=\"text-align: right;\">\n",
       "      <th></th>\n",
       "      <th>date</th>\n",
       "      <th>date_block_num</th>\n",
       "      <th>shop_id</th>\n",
       "      <th>item_id</th>\n",
       "      <th>item_price</th>\n",
       "      <th>item_cnt_day</th>\n",
       "    </tr>\n",
       "  </thead>\n",
       "  <tbody>\n",
       "    <tr>\n",
       "      <th>0</th>\n",
       "      <td>2013-01-02</td>\n",
       "      <td>0</td>\n",
       "      <td>59</td>\n",
       "      <td>22154</td>\n",
       "      <td>999.00</td>\n",
       "      <td>1.0</td>\n",
       "    </tr>\n",
       "    <tr>\n",
       "      <th>1</th>\n",
       "      <td>2013-01-03</td>\n",
       "      <td>0</td>\n",
       "      <td>25</td>\n",
       "      <td>2552</td>\n",
       "      <td>899.00</td>\n",
       "      <td>1.0</td>\n",
       "    </tr>\n",
       "    <tr>\n",
       "      <th>3</th>\n",
       "      <td>2013-01-06</td>\n",
       "      <td>0</td>\n",
       "      <td>25</td>\n",
       "      <td>2554</td>\n",
       "      <td>1709.05</td>\n",
       "      <td>1.0</td>\n",
       "    </tr>\n",
       "    <tr>\n",
       "      <th>4</th>\n",
       "      <td>2013-01-15</td>\n",
       "      <td>0</td>\n",
       "      <td>25</td>\n",
       "      <td>2555</td>\n",
       "      <td>1099.00</td>\n",
       "      <td>1.0</td>\n",
       "    </tr>\n",
       "    <tr>\n",
       "      <th>5</th>\n",
       "      <td>2013-01-10</td>\n",
       "      <td>0</td>\n",
       "      <td>25</td>\n",
       "      <td>2564</td>\n",
       "      <td>349.00</td>\n",
       "      <td>1.0</td>\n",
       "    </tr>\n",
       "  </tbody>\n",
       "</table>\n",
       "</div>"
      ],
      "text/plain": [
       "        date  date_block_num  shop_id  item_id  item_price  item_cnt_day\n",
       "0 2013-01-02               0       59    22154      999.00           1.0\n",
       "1 2013-01-03               0       25     2552      899.00           1.0\n",
       "3 2013-01-06               0       25     2554     1709.05           1.0\n",
       "4 2013-01-15               0       25     2555     1099.00           1.0\n",
       "5 2013-01-10               0       25     2564      349.00           1.0"
      ]
     },
     "execution_count": 17,
     "metadata": {},
     "output_type": "execute_result"
    }
   ],
   "source": [
    "mean = sales_df[(sales_df[\"shop_id\"] == 32) & (sales_df['item_id'] == 2973) &\n",
    "                (sales_df['date_block_num'] == 4) & (sales_df['item_price'] > 0)]['item_price'].mean()  #値段が変わっているので、その中央値を当てはめる\n",
    "sales_df.loc[sales_df.item_price < 0, 'item_price'] = mean\n",
    "\n",
    "sales_df = sales_df[sales_df['item_price'] < np.percentile(sales_df['item_price'], q=100)]   #幾つかの数値データを小さい順に並べたとき、小さい方から数えて全体のX%に位置する値をXパーセンタイルと言います。\n",
    "sales_df = sales_df[(sales_df['item_cnt_day'] >= 0) & (sales_df['item_cnt_day'] < np.percentile(sales_df['item_cnt_day'], q=100))]\n",
    "\n",
    "sales_df['date'] = pd.to_datetime(sales_df['date'], format='%d.%m.%Y')\n",
    "sales_df.head()"
   ]
  },
  {
   "cell_type": "code",
   "execution_count": 18,
   "id": "purple-cream",
   "metadata": {},
   "outputs": [
    {
     "data": {
      "text/plain": [
       "\"\\nfor i in [(0, 57), (1, 58), (10, 11)]:\\n    sales_df.loc[sales_df['shop_id'] == i[0], 'shop_id'] = i[1]\\n    test_df.loc[test_df['shop_id'] == i[0], 'shop_id'] = i[1]\\n\""
      ]
     },
     "execution_count": 18,
     "metadata": {},
     "output_type": "execute_result"
    }
   ],
   "source": [
    "\"\"\"\n",
    "for i in [(0, 57), (1, 58), (10, 11)]:\n",
    "    sales_df.loc[sales_df['shop_id'] == i[0], 'shop_id'] = i[1]\n",
    "    test_df.loc[test_df['shop_id'] == i[0], 'shop_id'] = i[1]\n",
    "\"\"\""
   ]
  },
  {
   "cell_type": "code",
   "execution_count": 19,
   "id": "interior-shower",
   "metadata": {},
   "outputs": [
    {
     "name": "stdout",
     "output_type": "stream",
     "text": [
      "(0, 57)\n",
      "(1, 58)\n",
      "(10, 11)\n"
     ]
    }
   ],
   "source": [
    "for i in [(0,57), (1, 58), (10, 11)]:\n",
    "    print(i)"
   ]
  },
  {
   "cell_type": "code",
   "execution_count": 20,
   "id": "indirect-bridge",
   "metadata": {},
   "outputs": [],
   "source": [
    "for i in [(0,57), (1, 58), (10, 11)]:\n",
    "    sales_df.loc[sales_df['shop_id'] == i[0], 'shop_id'] = i[1]\n",
    "    test_df.loc[test_df['shop_id'] == i[0], 'shop_id'] = i[1]"
   ]
  },
  {
   "cell_type": "code",
   "execution_count": 21,
   "id": "sweet-travel",
   "metadata": {},
   "outputs": [
    {
     "data": {
      "text/plain": [
       "\"\\nsales_df['revenue'] = sales_df['item_cnt_day'] * sales_df['item_price']\\n\""
      ]
     },
     "execution_count": 21,
     "metadata": {},
     "output_type": "execute_result"
    }
   ],
   "source": [
    "\"\"\"\n",
    "sales_df['revenue'] = sales_df['item_cnt_day'] * sales_df['item_price']\n",
    "\"\"\""
   ]
  },
  {
   "cell_type": "code",
   "execution_count": 22,
   "id": "retained-python",
   "metadata": {},
   "outputs": [],
   "source": [
    "sales_df['revenue'] = sales_df['item_cnt_day'] * sales_df['item_price']"
   ]
  },
  {
   "cell_type": "code",
   "execution_count": 23,
   "id": "raising-cinema",
   "metadata": {},
   "outputs": [
    {
     "data": {
      "text/plain": [
       "\"\\ndef name_correction(x):\\n    x = x.lower() #lower case\\n    x = x.partition('[')[0] # partition by square brackets\\n    x = x.partition('(')[0] # partition by curly brackets\\n    x = re.sub('[^A-Za-z0-9А-Яа-я]+', ' ', x) # remove special characters\\n    x = x.replace('  ', ' ') # replace double spaces with single spaces\\n    x = x.strip() # remove leading and trailing white space\\n    return x\\n\\n\""
      ]
     },
     "execution_count": 23,
     "metadata": {},
     "output_type": "execute_result"
    }
   ],
   "source": [
    "\"\"\"\n",
    "def name_correction(x):\n",
    "    x = x.lower() #lower case\n",
    "    x = x.partition('[')[0] # partition by square brackets\n",
    "    x = x.partition('(')[0] # partition by curly brackets\n",
    "    x = re.sub('[^A-Za-z0-9А-Яа-я]+', ' ', x) # remove special characters\n",
    "    x = x.replace('  ', ' ') # replace double spaces with single spaces\n",
    "    x = x.strip() # remove leading and trailing white space\n",
    "    return x\n",
    "\n",
    "\"\"\""
   ]
  },
  {
   "cell_type": "code",
   "execution_count": 24,
   "id": "adequate-morgan",
   "metadata": {},
   "outputs": [],
   "source": [
    "# Preprcoess items_df"
   ]
  },
  {
   "cell_type": "code",
   "execution_count": 25,
   "id": "parliamentary-resource",
   "metadata": {},
   "outputs": [],
   "source": [
    "def name_correction(x):\n",
    "    x = x.lower()    #小文字に変換\n",
    "    x = x.partition('[')[0]   \n",
    "    x = x.partition('(')[0]\n",
    "    x = re.sub('[^A-Za-z0-9A-Яа-я]+', ' ', x)   #re.sub()では第一引数に正規表現パターン、第二引数に置換先文字列、第三引数に処理対象の文字列を指定する。\n",
    "    x = x.replace('  ', ' ')\n",
    "    x = x.strip()  # 空白を除去\n",
    "    return x"
   ]
  },
  {
   "cell_type": "code",
   "execution_count": 26,
   "id": "banned-saskatchewan",
   "metadata": {},
   "outputs": [
    {
     "data": {
      "text/plain": [
       "'\\n# split item names by first bracket\\nitems_df[\\'name1\\'], items_df[\\'name2\\'] = items_df[\\'item_name\\'].str.split(\\'[\\', 1).str\\nitems_df[\\'name1\\'], items_df[\\'name3\\'] = items_df[\\'item_name\\'].str.split(\\'(\\', 1).str\\n\\n# replace special characters and turn to lower case\\nitems_df[\\'name2\\'] = items_df[\\'name2\\'].str.replace(\\'[^A-Za-z0-9А-Яа-я]+\\', \" \").str.lower()\\nitems_df[\\'name3\\'] = items_df[\\'name3\\'].str.replace(\\'[^A-Za-z0-9А-Яа-я]+\\', \" \").str.lower()\\n\\n# fill nulls with \\'0\\'\\nitems_df = items_df.fillna(\\'0\\')\\n\\nitems_df[\\'item_name\\'] = items_df[\\'item_name\\'].apply(lambda x: name_correction(x))\\n\\n# return all characters except the last if name 2 is not \"0\" - the closing bracket\\nitems_df[\\'name2\\'] = items_df[\\'name2\\'].apply(lambda x: x[:-1] if x != \\'0\\' else \\'0\\')\\n'"
      ]
     },
     "execution_count": 26,
     "metadata": {},
     "output_type": "execute_result"
    }
   ],
   "source": [
    "\"\"\"\n",
    "# split item names by first bracket\n",
    "items_df['name1'], items_df['name2'] = items_df['item_name'].str.split('[', 1).str\n",
    "items_df['name1'], items_df['name3'] = items_df['item_name'].str.split('(', 1).str\n",
    "\n",
    "# replace special characters and turn to lower case\n",
    "items_df['name2'] = items_df['name2'].str.replace('[^A-Za-z0-9А-Яа-я]+', \" \").str.lower()\n",
    "items_df['name3'] = items_df['name3'].str.replace('[^A-Za-z0-9А-Яа-я]+', \" \").str.lower()\n",
    "\n",
    "# fill nulls with '0'\n",
    "items_df = items_df.fillna('0')\n",
    "\n",
    "items_df['item_name'] = items_df['item_name'].apply(lambda x: name_correction(x))\n",
    "\n",
    "# return all characters except the last if name 2 is not \"0\" - the closing bracket\n",
    "items_df['name2'] = items_df['name2'].apply(lambda x: x[:-1] if x != '0' else '0')\n",
    "\"\"\""
   ]
  },
  {
   "cell_type": "code",
   "execution_count": 27,
   "id": "fantastic-alias",
   "metadata": {},
   "outputs": [
    {
     "name": "stderr",
     "output_type": "stream",
     "text": [
      "<ipython-input-27-a8466b510f5b>:1: FutureWarning: Columnar iteration over characters will be deprecated in future releases.\n",
      "  items_df['name1'], items_df['name2'] = items_df['item_name'].str.split('[', 1).str\n",
      "<ipython-input-27-a8466b510f5b>:2: FutureWarning: Columnar iteration over characters will be deprecated in future releases.\n",
      "  items_df['name1'], items_df['name3'] = items_df['item_name'].str.split('(', 1).str\n",
      "<ipython-input-27-a8466b510f5b>:4: FutureWarning: The default value of regex will change from True to False in a future version.\n",
      "  items_df['name2'] = items_df['name2'].str.replace('[^A-Za-z0-9A-Яа-я]+', \" \").str.lower()\n",
      "<ipython-input-27-a8466b510f5b>:5: FutureWarning: The default value of regex will change from True to False in a future version.\n",
      "  items_df['name3'] = items_df['name3'].str.replace('[^A-Za-z0-9A-Яа-я]+', \" \").str.lower()\n"
     ]
    }
   ],
   "source": [
    "items_df['name1'], items_df['name2'] = items_df['item_name'].str.split('[', 1).str\n",
    "items_df['name1'], items_df['name3'] = items_df['item_name'].str.split('(', 1).str\n",
    "\n",
    "items_df['name2'] = items_df['name2'].str.replace('[^A-Za-z0-9A-Яа-я]+', \" \").str.lower()\n",
    "items_df['name3'] = items_df['name3'].str.replace('[^A-Za-z0-9A-Яа-я]+', \" \").str.lower()\n",
    "\n",
    "items_df = items_df.fillna('0')   # fill nulls with '0'\n",
    "\n",
    "items_df['item_name'] = items_df['item_name'].apply(lambda x: name_correction(x))\n",
    "\n",
    "items_df['name2'] = items_df['name2'].apply(lambda x: x[:-1] if x != '0' else '0')"
   ]
  },
  {
   "cell_type": "code",
   "execution_count": 28,
   "id": "banned-sauce",
   "metadata": {},
   "outputs": [
    {
     "data": {
      "text/html": [
       "<div>\n",
       "<style scoped>\n",
       "    .dataframe tbody tr th:only-of-type {\n",
       "        vertical-align: middle;\n",
       "    }\n",
       "\n",
       "    .dataframe tbody tr th {\n",
       "        vertical-align: top;\n",
       "    }\n",
       "\n",
       "    .dataframe thead th {\n",
       "        text-align: right;\n",
       "    }\n",
       "</style>\n",
       "<table border=\"1\" class=\"dataframe\">\n",
       "  <thead>\n",
       "    <tr style=\"text-align: right;\">\n",
       "      <th></th>\n",
       "      <th>item_name</th>\n",
       "      <th>item_id</th>\n",
       "      <th>item_category_id</th>\n",
       "      <th>name1</th>\n",
       "      <th>name2</th>\n",
       "      <th>name3</th>\n",
       "    </tr>\n",
       "  </thead>\n",
       "  <tbody>\n",
       "    <tr>\n",
       "      <th>0</th>\n",
       "      <td>во власти наваждения</td>\n",
       "      <td>0</td>\n",
       "      <td>40</td>\n",
       "      <td>! ВО ВЛАСТИ НАВАЖДЕНИЯ</td>\n",
       "      <td>0</td>\n",
       "      <td>пласт d</td>\n",
       "    </tr>\n",
       "    <tr>\n",
       "      <th>1</th>\n",
       "      <td>abbyy finereader 12 professional edition full</td>\n",
       "      <td>1</td>\n",
       "      <td>76</td>\n",
       "      <td>!ABBYY FineReader 12 Professional Edition Full...</td>\n",
       "      <td>pc цифровая версия</td>\n",
       "      <td>0</td>\n",
       "    </tr>\n",
       "    <tr>\n",
       "      <th>2</th>\n",
       "      <td>в лучах славы</td>\n",
       "      <td>2</td>\n",
       "      <td>40</td>\n",
       "      <td>***В ЛУЧАХ СЛАВЫ</td>\n",
       "      <td>0</td>\n",
       "      <td>unv d</td>\n",
       "    </tr>\n",
       "    <tr>\n",
       "      <th>3</th>\n",
       "      <td>голубая волна</td>\n",
       "      <td>3</td>\n",
       "      <td>40</td>\n",
       "      <td>***ГОЛУБАЯ ВОЛНА</td>\n",
       "      <td>0</td>\n",
       "      <td>univ d</td>\n",
       "    </tr>\n",
       "    <tr>\n",
       "      <th>4</th>\n",
       "      <td>коробка</td>\n",
       "      <td>4</td>\n",
       "      <td>40</td>\n",
       "      <td>***КОРОБКА</td>\n",
       "      <td>0</td>\n",
       "      <td>стекло d</td>\n",
       "    </tr>\n",
       "  </tbody>\n",
       "</table>\n",
       "</div>"
      ],
      "text/plain": [
       "                                       item_name  item_id  item_category_id  \\\n",
       "0                           во власти наваждения        0                40   \n",
       "1  abbyy finereader 12 professional edition full        1                76   \n",
       "2                                  в лучах славы        2                40   \n",
       "3                                  голубая волна        3                40   \n",
       "4                                        коробка        4                40   \n",
       "\n",
       "                                               name1               name2  \\\n",
       "0                            ! ВО ВЛАСТИ НАВАЖДЕНИЯ                    0   \n",
       "1  !ABBYY FineReader 12 Professional Edition Full...  pc цифровая версия   \n",
       "2                                ***В ЛУЧАХ СЛАВЫ                      0   \n",
       "3                                 ***ГОЛУБАЯ ВОЛНА                     0   \n",
       "4                                        ***КОРОБКА                    0   \n",
       "\n",
       "      name3  \n",
       "0   пласт d  \n",
       "1         0  \n",
       "2     unv d  \n",
       "3    univ d  \n",
       "4  стекло d  "
      ]
     },
     "execution_count": 28,
     "metadata": {},
     "output_type": "execute_result"
    }
   ],
   "source": [
    "items_df.head()"
   ]
  },
  {
   "cell_type": "code",
   "execution_count": 29,
   "id": "second-spiritual",
   "metadata": {},
   "outputs": [
    {
     "data": {
      "text/plain": [
       "\"\\nitems_df['type'] = (items_df['name2'].apply(lambda x: x[0:8] if x.split(' ')[0] == 'xbox' else x.split(' ')[0]))\\n\\nitems_df.loc[(items_df['type'] == 'x360')|(items_df['type'] == 'xbox360')|(items_df['type'] == 'xbox 360'),'type'] = 'xbox 360'\\nitems_df.loc[items_df['type'] == '', 'type'] = 'mac'\\nitems_df.type = (items_df['type'].apply(lambda x: x.replace(' ', '')))\\nitems_df.loc[(items_df['type'] == 'pc' )|(items_df['type'] == 'pс')|(items_df['type'] == 'pс'),'type'] = 'pс'\\n\\nitems_df.loc[items_df['type'] == 'рs3' , 'type'] = 'рs3'\\n\""
      ]
     },
     "execution_count": 29,
     "metadata": {},
     "output_type": "execute_result"
    }
   ],
   "source": [
    "\"\"\"\n",
    "items_df['type'] = (items_df['name2'].apply(lambda x: x[0:8] if x.split(' ')[0] == 'xbox' else x.split(' ')[0]))\n",
    "\n",
    "items_df.loc[(items_df['type'] == 'x360')|(items_df['type'] == 'xbox360')|(items_df['type'] == 'xbox 360'),'type'] = 'xbox 360'\n",
    "items_df.loc[items_df['type'] == '', 'type'] = 'mac'\n",
    "items_df.type = (items_df['type'].apply(lambda x: x.replace(' ', '')))\n",
    "items_df.loc[(items_df['type'] == 'pc' )|(items_df['type'] == 'pс')|(items_df['type'] == 'pс'),'type'] = 'pс'\n",
    "\n",
    "items_df.loc[items_df['type'] == 'рs3' , 'type'] = 'рs3'\n",
    "\"\"\""
   ]
  },
  {
   "cell_type": "code",
   "execution_count": 30,
   "id": "bronze-korean",
   "metadata": {},
   "outputs": [],
   "source": [
    "items_df['type'] = (items_df['name2'].apply(lambda x: x[0:8] if x.split(' ')[0] == 'xbox' else x.split(' ')[0]))\n",
    "\n",
    "items_df.loc[(items_df['type'] == 'x360')|(items_df['type'] == 'xbox360')|(items_df['type'] == 'xbox 360'), 'type'] = 'xbox 360'\n",
    "items_df.loc[items_df['type'] == '', 'type'] = 'mac'\n",
    "items_df.type = (items_df['type'].apply(lambda x: x.replace(' ', '')))\n",
    "items_df.loc[(items_df['type'] == 'pc')|(items_df['type'] == 'pc')|(items_df['type'] == 'pc'), 'type'] = 'pc'\n",
    "\n",
    "items_df.loc[items_df['type'] == 'ps3', 'type'] = 'ps3'"
   ]
  },
  {
   "cell_type": "code",
   "execution_count": 31,
   "id": "annual-category",
   "metadata": {},
   "outputs": [
    {
     "data": {
      "text/plain": [
       "0               0\n",
       "1              pc\n",
       "2               0\n",
       "3               0\n",
       "4               0\n",
       "           ...   \n",
       "22165          pc\n",
       "22166    цифровая\n",
       "22167           0\n",
       "22168           0\n",
       "22169           0\n",
       "Name: type, Length: 22170, dtype: object"
      ]
     },
     "execution_count": 31,
     "metadata": {},
     "output_type": "execute_result"
    }
   ],
   "source": [
    "items_df['type']"
   ]
  },
  {
   "cell_type": "code",
   "execution_count": 32,
   "id": "proper-angola",
   "metadata": {},
   "outputs": [
    {
     "data": {
      "text/plain": [
       "0               0\n",
       "1              pc\n",
       "2               0\n",
       "3               0\n",
       "4               0\n",
       "           ...   \n",
       "22165          pc\n",
       "22166    цифровая\n",
       "22167           0\n",
       "22168           0\n",
       "22169           0\n",
       "Name: type, Length: 22170, dtype: object"
      ]
     },
     "execution_count": 32,
     "metadata": {},
     "output_type": "execute_result"
    }
   ],
   "source": [
    "items_df.type"
   ]
  },
  {
   "cell_type": "code",
   "execution_count": 33,
   "id": "visible-spokesman",
   "metadata": {},
   "outputs": [
    {
     "data": {
      "text/plain": [
       "\"\\ngroup_sum = (items_df.groupby('type').agg({'item_id': 'count'}).reset_index())\\n\\ndrop_cols = []\\nfor categ in group_sum['type'].unique():\\n    if group_sum.loc[(group_sum['type'] == categ), 'item_id'].values[0] <= 39:\\n        drop_cols.append(categ)\\n\\nitems_df['name2'] = (items_df['name2'].apply(lambda x: 'other' if x in drop_cols else x))\\nitems_df = items_df.drop(['type'], axis=1)\\n\""
      ]
     },
     "execution_count": 33,
     "metadata": {},
     "output_type": "execute_result"
    }
   ],
   "source": [
    "\"\"\"\n",
    "group_sum = (items_df.groupby('type').agg({'item_id': 'count'}).reset_index())\n",
    "\n",
    "drop_cols = []\n",
    "for categ in group_sum['type'].unique():\n",
    "    if group_sum.loc[(group_sum['type'] == categ), 'item_id'].values[0] <= 39:\n",
    "        drop_cols.append(categ)\n",
    "\n",
    "items_df['name2'] = (items_df['name2'].apply(lambda x: 'other' if x in drop_cols else x))\n",
    "items_df = items_df.drop(['type'], axis=1)\n",
    "\"\"\""
   ]
  },
  {
   "cell_type": "code",
   "execution_count": 34,
   "id": "invisible-jones",
   "metadata": {},
   "outputs": [],
   "source": [
    "group_sum = (items_df.groupby('type').agg({'item_id': 'count'}).reset_index())\n",
    "\n",
    "drop_cols = []\n",
    "for categ in group_sum['type'].unique():\n",
    "    if group_sum.loc[(group_sum['type'] == categ), 'item_id'].values[0] <= 39:\n",
    "        drop_cols.append(categ)\n",
    "        \n",
    "items_df['name2'] = (items_df['name2'].apply(lambda x: 'other' if x in drop_cols else x))\n",
    "items_df = items_df.drop(['type'], 1)"
   ]
  },
  {
   "cell_type": "code",
   "execution_count": 35,
   "id": "isolated-livestock",
   "metadata": {},
   "outputs": [
    {
     "data": {
      "text/html": [
       "<div>\n",
       "<style scoped>\n",
       "    .dataframe tbody tr th:only-of-type {\n",
       "        vertical-align: middle;\n",
       "    }\n",
       "\n",
       "    .dataframe tbody tr th {\n",
       "        vertical-align: top;\n",
       "    }\n",
       "\n",
       "    .dataframe thead th {\n",
       "        text-align: right;\n",
       "    }\n",
       "</style>\n",
       "<table border=\"1\" class=\"dataframe\">\n",
       "  <thead>\n",
       "    <tr style=\"text-align: right;\">\n",
       "      <th></th>\n",
       "      <th>type</th>\n",
       "      <th>item_id</th>\n",
       "    </tr>\n",
       "  </thead>\n",
       "  <tbody>\n",
       "    <tr>\n",
       "      <th>0</th>\n",
       "      <td>0</td>\n",
       "      <td>17661</td>\n",
       "    </tr>\n",
       "    <tr>\n",
       "      <th>1</th>\n",
       "      <td>5c5</td>\n",
       "      <td>1</td>\n",
       "    </tr>\n",
       "    <tr>\n",
       "      <th>2</th>\n",
       "      <td>5c7</td>\n",
       "      <td>2</td>\n",
       "    </tr>\n",
       "    <tr>\n",
       "      <th>3</th>\n",
       "      <td>5f4</td>\n",
       "      <td>1</td>\n",
       "    </tr>\n",
       "    <tr>\n",
       "      <th>4</th>\n",
       "      <td>6dv</td>\n",
       "      <td>1</td>\n",
       "    </tr>\n",
       "    <tr>\n",
       "      <th>5</th>\n",
       "      <td>6jv</td>\n",
       "      <td>1</td>\n",
       "    </tr>\n",
       "    <tr>\n",
       "      <th>6</th>\n",
       "      <td>6l6</td>\n",
       "      <td>1</td>\n",
       "    </tr>\n",
       "    <tr>\n",
       "      <th>7</th>\n",
       "      <td>[pc</td>\n",
       "      <td>3</td>\n",
       "    </tr>\n",
       "    <tr>\n",
       "      <th>8</th>\n",
       "      <td>android</td>\n",
       "      <td>3</td>\n",
       "    </tr>\n",
       "    <tr>\n",
       "      <th>9</th>\n",
       "      <td>hm3</td>\n",
       "      <td>1</td>\n",
       "    </tr>\n",
       "    <tr>\n",
       "      <th>10</th>\n",
       "      <td>j72</td>\n",
       "      <td>4</td>\n",
       "    </tr>\n",
       "    <tr>\n",
       "      <th>11</th>\n",
       "      <td>kf6</td>\n",
       "      <td>1</td>\n",
       "    </tr>\n",
       "    <tr>\n",
       "      <th>12</th>\n",
       "      <td>kf7</td>\n",
       "      <td>1</td>\n",
       "    </tr>\n",
       "    <tr>\n",
       "      <th>13</th>\n",
       "      <td>kg4</td>\n",
       "      <td>1</td>\n",
       "    </tr>\n",
       "    <tr>\n",
       "      <th>14</th>\n",
       "      <td>mac</td>\n",
       "      <td>40</td>\n",
       "    </tr>\n",
       "    <tr>\n",
       "      <th>15</th>\n",
       "      <td>pc</td>\n",
       "      <td>2564</td>\n",
       "    </tr>\n",
       "    <tr>\n",
       "      <th>16</th>\n",
       "      <td>ps</td>\n",
       "      <td>79</td>\n",
       "    </tr>\n",
       "    <tr>\n",
       "      <th>17</th>\n",
       "      <td>ps2</td>\n",
       "      <td>2</td>\n",
       "    </tr>\n",
       "    <tr>\n",
       "      <th>18</th>\n",
       "      <td>ps3</td>\n",
       "      <td>610</td>\n",
       "    </tr>\n",
       "    <tr>\n",
       "      <th>19</th>\n",
       "      <td>ps4</td>\n",
       "      <td>174</td>\n",
       "    </tr>\n",
       "    <tr>\n",
       "      <th>20</th>\n",
       "      <td>psp</td>\n",
       "      <td>115</td>\n",
       "    </tr>\n",
       "    <tr>\n",
       "      <th>21</th>\n",
       "      <td>pс</td>\n",
       "      <td>64</td>\n",
       "    </tr>\n",
       "    <tr>\n",
       "      <th>22</th>\n",
       "      <td>s3v</td>\n",
       "      <td>1</td>\n",
       "    </tr>\n",
       "    <tr>\n",
       "      <th>23</th>\n",
       "      <td>s4v</td>\n",
       "      <td>1</td>\n",
       "    </tr>\n",
       "    <tr>\n",
       "      <th>24</th>\n",
       "      <td>xbox360</td>\n",
       "      <td>466</td>\n",
       "    </tr>\n",
       "    <tr>\n",
       "      <th>25</th>\n",
       "      <td>xboxone</td>\n",
       "      <td>123</td>\n",
       "    </tr>\n",
       "    <tr>\n",
       "      <th>26</th>\n",
       "      <td>англ</td>\n",
       "      <td>1</td>\n",
       "    </tr>\n",
       "    <tr>\n",
       "      <th>27</th>\n",
       "      <td>рs3</td>\n",
       "      <td>1</td>\n",
       "    </tr>\n",
       "    <tr>\n",
       "      <th>28</th>\n",
       "      <td>рс</td>\n",
       "      <td>14</td>\n",
       "    </tr>\n",
       "    <tr>\n",
       "      <th>29</th>\n",
       "      <td>русская</td>\n",
       "      <td>1</td>\n",
       "    </tr>\n",
       "    <tr>\n",
       "      <th>30</th>\n",
       "      <td>только</td>\n",
       "      <td>9</td>\n",
       "    </tr>\n",
       "    <tr>\n",
       "      <th>31</th>\n",
       "      <td>цифро</td>\n",
       "      <td>1</td>\n",
       "    </tr>\n",
       "    <tr>\n",
       "      <th>32</th>\n",
       "      <td>цифровая</td>\n",
       "      <td>222</td>\n",
       "    </tr>\n",
       "  </tbody>\n",
       "</table>\n",
       "</div>"
      ],
      "text/plain": [
       "        type  item_id\n",
       "0          0    17661\n",
       "1        5c5        1\n",
       "2        5c7        2\n",
       "3        5f4        1\n",
       "4        6dv        1\n",
       "5        6jv        1\n",
       "6        6l6        1\n",
       "7        [pc        3\n",
       "8    android        3\n",
       "9        hm3        1\n",
       "10       j72        4\n",
       "11       kf6        1\n",
       "12       kf7        1\n",
       "13       kg4        1\n",
       "14       mac       40\n",
       "15        pc     2564\n",
       "16        ps       79\n",
       "17       ps2        2\n",
       "18       ps3      610\n",
       "19       ps4      174\n",
       "20       psp      115\n",
       "21        pс       64\n",
       "22       s3v        1\n",
       "23       s4v        1\n",
       "24   xbox360      466\n",
       "25   xboxone      123\n",
       "26      англ        1\n",
       "27       рs3        1\n",
       "28        рс       14\n",
       "29   русская        1\n",
       "30    только        9\n",
       "31     цифро        1\n",
       "32  цифровая      222"
      ]
     },
     "execution_count": 35,
     "metadata": {},
     "output_type": "execute_result"
    }
   ],
   "source": [
    "group_sum"
   ]
  },
  {
   "cell_type": "code",
   "execution_count": 36,
   "id": "fourth-hollow",
   "metadata": {},
   "outputs": [
    {
     "data": {
      "text/plain": [
       "\"\\nitems_df['name2'] = LabelEncoder().fit_transform(items_df['name2'])\\nitems_df['name3'] = LabelEncoder().fit_transform(items_df['name3'])\\n\\nitems_df.drop(['item_name', 'name1'], axis=1, inplace=True)\\nitems_df.head()\\n\\n\""
      ]
     },
     "execution_count": 36,
     "metadata": {},
     "output_type": "execute_result"
    }
   ],
   "source": [
    "\"\"\"\n",
    "items_df['name2'] = LabelEncoder().fit_transform(items_df['name2'])\n",
    "items_df['name3'] = LabelEncoder().fit_transform(items_df['name3'])\n",
    "\n",
    "items_df.drop(['item_name', 'name1'], axis=1, inplace=True)\n",
    "items_df.head()\n",
    "\n",
    "\"\"\""
   ]
  },
  {
   "cell_type": "code",
   "execution_count": 37,
   "id": "rational-teens",
   "metadata": {},
   "outputs": [
    {
     "data": {
      "text/html": [
       "<div>\n",
       "<style scoped>\n",
       "    .dataframe tbody tr th:only-of-type {\n",
       "        vertical-align: middle;\n",
       "    }\n",
       "\n",
       "    .dataframe tbody tr th {\n",
       "        vertical-align: top;\n",
       "    }\n",
       "\n",
       "    .dataframe thead th {\n",
       "        text-align: right;\n",
       "    }\n",
       "</style>\n",
       "<table border=\"1\" class=\"dataframe\">\n",
       "  <thead>\n",
       "    <tr style=\"text-align: right;\">\n",
       "      <th></th>\n",
       "      <th>item_id</th>\n",
       "      <th>item_category_id</th>\n",
       "      <th>name2</th>\n",
       "      <th>name3</th>\n",
       "    </tr>\n",
       "  </thead>\n",
       "  <tbody>\n",
       "    <tr>\n",
       "      <th>0</th>\n",
       "      <td>0</td>\n",
       "      <td>40</td>\n",
       "      <td>5</td>\n",
       "      <td>1335</td>\n",
       "    </tr>\n",
       "    <tr>\n",
       "      <th>1</th>\n",
       "      <td>1</td>\n",
       "      <td>76</td>\n",
       "      <td>67</td>\n",
       "      <td>42</td>\n",
       "    </tr>\n",
       "    <tr>\n",
       "      <th>2</th>\n",
       "      <td>2</td>\n",
       "      <td>40</td>\n",
       "      <td>5</td>\n",
       "      <td>1012</td>\n",
       "    </tr>\n",
       "    <tr>\n",
       "      <th>3</th>\n",
       "      <td>3</td>\n",
       "      <td>40</td>\n",
       "      <td>5</td>\n",
       "      <td>1011</td>\n",
       "    </tr>\n",
       "    <tr>\n",
       "      <th>4</th>\n",
       "      <td>4</td>\n",
       "      <td>40</td>\n",
       "      <td>5</td>\n",
       "      <td>1576</td>\n",
       "    </tr>\n",
       "  </tbody>\n",
       "</table>\n",
       "</div>"
      ],
      "text/plain": [
       "   item_id  item_category_id  name2  name3\n",
       "0        0                40      5   1335\n",
       "1        1                76     67     42\n",
       "2        2                40      5   1012\n",
       "3        3                40      5   1011\n",
       "4        4                40      5   1576"
      ]
     },
     "execution_count": 37,
     "metadata": {},
     "output_type": "execute_result"
    }
   ],
   "source": [
    "items_df['name2'] = LabelEncoder().fit_transform(items_df['name2'])\n",
    "items_df['name3'] = LabelEncoder().fit_transform(items_df['name3'])\n",
    "\n",
    "items_df.drop(['item_name', 'name1'], axis=1, inplace=True)\n",
    "items_df.head()"
   ]
  },
  {
   "cell_type": "code",
   "execution_count": 38,
   "id": "synthetic-delivery",
   "metadata": {},
   "outputs": [],
   "source": [
    "# Preprocessing Data"
   ]
  },
  {
   "cell_type": "code",
   "execution_count": 39,
   "id": "incoming-graduate",
   "metadata": {},
   "outputs": [
    {
     "data": {
      "text/plain": [
       "'\\n# Create \"grid\" with columns\\nindex_cols = [\\'shop_id\\', \\'item_id\\', \\'date_block_num\\']\\n\\n# For every month we create a grid from all shops/items combinations from that month\\ngrid = [] \\nfor month in sales_df[\\'date_block_num\\'].unique():\\n    cur_shops = sales_df.loc[sales_df[\\'date_block_num\\'] == month, \\'shop_id\\'].unique()\\n    cur_items = sales_df.loc[sales_df[\\'date_block_num\\'] == month, \\'item_id\\'].unique()\\n    grid.append(np.array(list(product(*[cur_shops, cur_items, [month]])),dtype=\\'int32\\'))\\n\\n# Turn the grid into a dataframe\\ngrid = pd.DataFrame(np.vstack(grid), columns = index_cols,dtype=np.int32)\\n\\n# Groupby data to get shop-item-month aggregates\\ngb = sales_df.groupby(index_cols,as_index=False).agg({\\'item_cnt_day\\':\\'sum\\'})\\ngb.rename(columns ={\\'item_cnt_day\\':\\'item_cnt_month\\'},inplace = True)\\ntrain_data = pd.merge(grid, gb, how=\\'left\\', on=index_cols).fillna(0)\\n\\n#Clip target values\\ntrain_data[\\'item_cnt_month\\'] = np.clip(train_data[\\'item_cnt_month\\'],0,20)\\ntrain_data.sort_values(index_cols, inplace = True)\\n\\n# Downcast dtypes from 64 to 32 bit to save memory\\ntrain_data = downcast_dtypes(train_data)\\ndel grid, gb \\ngc.collect();\\n'"
      ]
     },
     "execution_count": 39,
     "metadata": {},
     "output_type": "execute_result"
    }
   ],
   "source": [
    "\"\"\"\n",
    "# Create \"grid\" with columns\n",
    "index_cols = ['shop_id', 'item_id', 'date_block_num']\n",
    "\n",
    "# For every month we create a grid from all shops/items combinations from that month\n",
    "grid = [] \n",
    "for month in sales_df['date_block_num'].unique():\n",
    "    cur_shops = sales_df.loc[sales_df['date_block_num'] == month, 'shop_id'].unique()\n",
    "    cur_items = sales_df.loc[sales_df['date_block_num'] == month, 'item_id'].unique()\n",
    "    grid.append(np.array(list(product(*[cur_shops, cur_items, [month]])),dtype='int32'))\n",
    "\n",
    "# Turn the grid into a dataframe\n",
    "grid = pd.DataFrame(np.vstack(grid), columns = index_cols,dtype=np.int32)\n",
    "\n",
    "# Groupby data to get shop-item-month aggregates\n",
    "gb = sales_df.groupby(index_cols,as_index=False).agg({'item_cnt_day':'sum'})\n",
    "gb.rename(columns ={'item_cnt_day':'item_cnt_month'},inplace = True)\n",
    "train_data = pd.merge(grid, gb, how='left', on=index_cols).fillna(0)\n",
    "\n",
    "#Clip target values\n",
    "train_data['item_cnt_month'] = np.clip(train_data['item_cnt_month'],0,20)\n",
    "train_data.sort_values(index_cols, inplace = True)\n",
    "\n",
    "# Downcast dtypes from 64 to 32 bit to save memory\n",
    "train_data = downcast_dtypes(train_data)\n",
    "del grid, gb \n",
    "gc.collect();\n",
    "\"\"\""
   ]
  },
  {
   "cell_type": "code",
   "execution_count": 40,
   "id": "combined-content",
   "metadata": {},
   "outputs": [],
   "source": [
    "index_cols = ['shop_id', 'item_id', 'date_block_num']    #date_block_numとは、月ごとに1増えている\n",
    "\n",
    "grid = []\n",
    "for month in sales_df['date_block_num'].unique():\n",
    "    cur_shops = sales_df.loc[sales_df['date_block_num'] == month, 'shop_id'].unique()\n",
    "    cur_items = sales_df.loc[sales_df['date_block_num'] == month, 'item_id'].unique()\n",
    "    grid.append(np.array(list(product(*[cur_shops, cur_items, [month]])), dtype='int32'))\n",
    "    \n",
    "# Turn the grid into a dataframe\n",
    "grid = pd.DataFrame(np.vstack(grid), columns = index_cols, dtype=np.int32)\n",
    "\n",
    "# Groupby data to get shop-item-month aggregates\n",
    "gb = sales_df.groupby(index_cols,as_index=False).agg({'item_cnt_day':'sum'})     #agg({X:y}) で Xにのみyを適用\n",
    "gb.rename(columns ={'item_cnt_day':'item_cnt_month'}, inplace=True)\n",
    "train_data = pd.merge(grid, gb, how='left', on=index_cols).fillna(0)\n",
    "\n",
    "#Clip target values\n",
    "train_data['item_cnt_month'] = np.clip(train_data['item_cnt_month'],0,20)    #NumPy配列ndarrayの要素の値を任意の範囲内に収めるクリッピング処理を行う(引数に最小値と最大値を指定すると、その範囲外の値は最小値または最大値に置き換えられる)\n",
    "train_data.sort_values(index_cols, inplace = True)\n",
    "\n",
    "# Downcast dtypes from 64 to 32 bit to save memory\n",
    "train_data = downcast_dtypes(train_data)\n",
    "del grid, gb\n",
    "gc.collect();     #明示的にガベージコレクションを行うにはgcモジュールのcollect関数を呼び出します"
   ]
  },
  {
   "cell_type": "code",
   "execution_count": 41,
   "id": "innocent-conflict",
   "metadata": {},
   "outputs": [
    {
     "data": {
      "text/html": [
       "<div>\n",
       "<style scoped>\n",
       "    .dataframe tbody tr th:only-of-type {\n",
       "        vertical-align: middle;\n",
       "    }\n",
       "\n",
       "    .dataframe tbody tr th {\n",
       "        vertical-align: top;\n",
       "    }\n",
       "\n",
       "    .dataframe thead th {\n",
       "        text-align: right;\n",
       "    }\n",
       "</style>\n",
       "<table border=\"1\" class=\"dataframe\">\n",
       "  <thead>\n",
       "    <tr style=\"text-align: right;\">\n",
       "      <th></th>\n",
       "      <th>shop_id</th>\n",
       "      <th>item_id</th>\n",
       "      <th>date_block_num</th>\n",
       "      <th>item_cnt_month</th>\n",
       "    </tr>\n",
       "  </thead>\n",
       "  <tbody>\n",
       "    <tr>\n",
       "      <th>7159061</th>\n",
       "      <td>2</td>\n",
       "      <td>0</td>\n",
       "      <td>20</td>\n",
       "      <td>0.0</td>\n",
       "    </tr>\n",
       "    <tr>\n",
       "      <th>5653929</th>\n",
       "      <td>2</td>\n",
       "      <td>1</td>\n",
       "      <td>15</td>\n",
       "      <td>0.0</td>\n",
       "    </tr>\n",
       "    <tr>\n",
       "      <th>6745389</th>\n",
       "      <td>2</td>\n",
       "      <td>1</td>\n",
       "      <td>18</td>\n",
       "      <td>0.0</td>\n",
       "    </tr>\n",
       "    <tr>\n",
       "      <th>7066288</th>\n",
       "      <td>2</td>\n",
       "      <td>1</td>\n",
       "      <td>19</td>\n",
       "      <td>0.0</td>\n",
       "    </tr>\n",
       "    <tr>\n",
       "      <th>7161376</th>\n",
       "      <td>2</td>\n",
       "      <td>1</td>\n",
       "      <td>20</td>\n",
       "      <td>0.0</td>\n",
       "    </tr>\n",
       "    <tr>\n",
       "      <th>...</th>\n",
       "      <td>...</td>\n",
       "      <td>...</td>\n",
       "      <td>...</td>\n",
       "      <td>...</td>\n",
       "    </tr>\n",
       "    <tr>\n",
       "      <th>5953</th>\n",
       "      <td>59</td>\n",
       "      <td>22168</td>\n",
       "      <td>0</td>\n",
       "      <td>0.0</td>\n",
       "    </tr>\n",
       "    <tr>\n",
       "      <th>442094</th>\n",
       "      <td>59</td>\n",
       "      <td>22168</td>\n",
       "      <td>1</td>\n",
       "      <td>0.0</td>\n",
       "    </tr>\n",
       "    <tr>\n",
       "      <th>1103980</th>\n",
       "      <td>59</td>\n",
       "      <td>22168</td>\n",
       "      <td>2</td>\n",
       "      <td>0.0</td>\n",
       "    </tr>\n",
       "    <tr>\n",
       "      <th>3330000</th>\n",
       "      <td>59</td>\n",
       "      <td>22168</td>\n",
       "      <td>8</td>\n",
       "      <td>0.0</td>\n",
       "    </tr>\n",
       "    <tr>\n",
       "      <th>5245182</th>\n",
       "      <td>59</td>\n",
       "      <td>22169</td>\n",
       "      <td>14</td>\n",
       "      <td>0.0</td>\n",
       "    </tr>\n",
       "  </tbody>\n",
       "</table>\n",
       "<p>10884508 rows × 4 columns</p>\n",
       "</div>"
      ],
      "text/plain": [
       "         shop_id  item_id  date_block_num  item_cnt_month\n",
       "7159061        2        0              20             0.0\n",
       "5653929        2        1              15             0.0\n",
       "6745389        2        1              18             0.0\n",
       "7066288        2        1              19             0.0\n",
       "7161376        2        1              20             0.0\n",
       "...          ...      ...             ...             ...\n",
       "5953          59    22168               0             0.0\n",
       "442094        59    22168               1             0.0\n",
       "1103980       59    22168               2             0.0\n",
       "3330000       59    22168               8             0.0\n",
       "5245182       59    22169              14             0.0\n",
       "\n",
       "[10884508 rows x 4 columns]"
      ]
     },
     "execution_count": 41,
     "metadata": {},
     "output_type": "execute_result"
    }
   ],
   "source": [
    "train_data"
   ]
  },
  {
   "cell_type": "code",
   "execution_count": 42,
   "id": "knowing-oliver",
   "metadata": {},
   "outputs": [
    {
     "data": {
      "text/plain": [
       "\"\\n# combine test set by date_block_num\\ntest_df.insert(loc=3, column='date_block_num', value=34)\\ntrain_data = train_data.append(test_df.drop('ID', axis = 1)).fillna(0)\\ntrain_data.head().append(train_data.tail())\\n\""
      ]
     },
     "execution_count": 42,
     "metadata": {},
     "output_type": "execute_result"
    }
   ],
   "source": [
    "\"\"\"\n",
    "# combine test set by date_block_num\n",
    "test_df.insert(loc=3, column='date_block_num', value=34)\n",
    "train_data = train_data.append(test_df.drop('ID', axis = 1)).fillna(0)\n",
    "train_data.head().append(train_data.tail())\n",
    "\"\"\""
   ]
  },
  {
   "cell_type": "code",
   "execution_count": 43,
   "id": "blond-person",
   "metadata": {},
   "outputs": [
    {
     "data": {
      "text/html": [
       "<div>\n",
       "<style scoped>\n",
       "    .dataframe tbody tr th:only-of-type {\n",
       "        vertical-align: middle;\n",
       "    }\n",
       "\n",
       "    .dataframe tbody tr th {\n",
       "        vertical-align: top;\n",
       "    }\n",
       "\n",
       "    .dataframe thead th {\n",
       "        text-align: right;\n",
       "    }\n",
       "</style>\n",
       "<table border=\"1\" class=\"dataframe\">\n",
       "  <thead>\n",
       "    <tr style=\"text-align: right;\">\n",
       "      <th></th>\n",
       "      <th>shop_id</th>\n",
       "      <th>item_id</th>\n",
       "      <th>date_block_num</th>\n",
       "      <th>item_cnt_month</th>\n",
       "    </tr>\n",
       "  </thead>\n",
       "  <tbody>\n",
       "    <tr>\n",
       "      <th>7159061</th>\n",
       "      <td>2</td>\n",
       "      <td>0</td>\n",
       "      <td>20</td>\n",
       "      <td>0.0</td>\n",
       "    </tr>\n",
       "    <tr>\n",
       "      <th>5653929</th>\n",
       "      <td>2</td>\n",
       "      <td>1</td>\n",
       "      <td>15</td>\n",
       "      <td>0.0</td>\n",
       "    </tr>\n",
       "    <tr>\n",
       "      <th>6745389</th>\n",
       "      <td>2</td>\n",
       "      <td>1</td>\n",
       "      <td>18</td>\n",
       "      <td>0.0</td>\n",
       "    </tr>\n",
       "    <tr>\n",
       "      <th>7066288</th>\n",
       "      <td>2</td>\n",
       "      <td>1</td>\n",
       "      <td>19</td>\n",
       "      <td>0.0</td>\n",
       "    </tr>\n",
       "    <tr>\n",
       "      <th>7161376</th>\n",
       "      <td>2</td>\n",
       "      <td>1</td>\n",
       "      <td>20</td>\n",
       "      <td>0.0</td>\n",
       "    </tr>\n",
       "    <tr>\n",
       "      <th>214195</th>\n",
       "      <td>45</td>\n",
       "      <td>18454</td>\n",
       "      <td>34</td>\n",
       "      <td>0.0</td>\n",
       "    </tr>\n",
       "    <tr>\n",
       "      <th>214196</th>\n",
       "      <td>45</td>\n",
       "      <td>16188</td>\n",
       "      <td>34</td>\n",
       "      <td>0.0</td>\n",
       "    </tr>\n",
       "    <tr>\n",
       "      <th>214197</th>\n",
       "      <td>45</td>\n",
       "      <td>15757</td>\n",
       "      <td>34</td>\n",
       "      <td>0.0</td>\n",
       "    </tr>\n",
       "    <tr>\n",
       "      <th>214198</th>\n",
       "      <td>45</td>\n",
       "      <td>19648</td>\n",
       "      <td>34</td>\n",
       "      <td>0.0</td>\n",
       "    </tr>\n",
       "    <tr>\n",
       "      <th>214199</th>\n",
       "      <td>45</td>\n",
       "      <td>969</td>\n",
       "      <td>34</td>\n",
       "      <td>0.0</td>\n",
       "    </tr>\n",
       "  </tbody>\n",
       "</table>\n",
       "</div>"
      ],
      "text/plain": [
       "         shop_id  item_id  date_block_num  item_cnt_month\n",
       "7159061        2        0              20             0.0\n",
       "5653929        2        1              15             0.0\n",
       "6745389        2        1              18             0.0\n",
       "7066288        2        1              19             0.0\n",
       "7161376        2        1              20             0.0\n",
       "214195        45    18454              34             0.0\n",
       "214196        45    16188              34             0.0\n",
       "214197        45    15757              34             0.0\n",
       "214198        45    19648              34             0.0\n",
       "214199        45      969              34             0.0"
      ]
     },
     "execution_count": 43,
     "metadata": {},
     "output_type": "execute_result"
    }
   ],
   "source": [
    "test_df.insert(loc=3, column='date_block_num', value=34)  #リストに要素を挿入する(リスト.insert(位置, 要素))\n",
    "train_data = train_data.append(test_df.drop('ID', axis=1)).fillna(0)\n",
    "train_data.head().append(train_data.tail())   #初めと最後の部分を表示"
   ]
  },
  {
   "cell_type": "code",
   "execution_count": 44,
   "id": "coordinate-phone",
   "metadata": {},
   "outputs": [
    {
     "data": {
      "text/html": [
       "<div>\n",
       "<style scoped>\n",
       "    .dataframe tbody tr th:only-of-type {\n",
       "        vertical-align: middle;\n",
       "    }\n",
       "\n",
       "    .dataframe tbody tr th {\n",
       "        vertical-align: top;\n",
       "    }\n",
       "\n",
       "    .dataframe thead th {\n",
       "        text-align: right;\n",
       "    }\n",
       "</style>\n",
       "<table border=\"1\" class=\"dataframe\">\n",
       "  <thead>\n",
       "    <tr style=\"text-align: right;\">\n",
       "      <th></th>\n",
       "      <th>ID</th>\n",
       "      <th>shop_id</th>\n",
       "      <th>item_id</th>\n",
       "      <th>date_block_num</th>\n",
       "    </tr>\n",
       "  </thead>\n",
       "  <tbody>\n",
       "    <tr>\n",
       "      <th>0</th>\n",
       "      <td>0</td>\n",
       "      <td>5</td>\n",
       "      <td>5037</td>\n",
       "      <td>34</td>\n",
       "    </tr>\n",
       "    <tr>\n",
       "      <th>1</th>\n",
       "      <td>1</td>\n",
       "      <td>5</td>\n",
       "      <td>5320</td>\n",
       "      <td>34</td>\n",
       "    </tr>\n",
       "    <tr>\n",
       "      <th>2</th>\n",
       "      <td>2</td>\n",
       "      <td>5</td>\n",
       "      <td>5233</td>\n",
       "      <td>34</td>\n",
       "    </tr>\n",
       "    <tr>\n",
       "      <th>3</th>\n",
       "      <td>3</td>\n",
       "      <td>5</td>\n",
       "      <td>5232</td>\n",
       "      <td>34</td>\n",
       "    </tr>\n",
       "    <tr>\n",
       "      <th>4</th>\n",
       "      <td>4</td>\n",
       "      <td>5</td>\n",
       "      <td>5268</td>\n",
       "      <td>34</td>\n",
       "    </tr>\n",
       "    <tr>\n",
       "      <th>...</th>\n",
       "      <td>...</td>\n",
       "      <td>...</td>\n",
       "      <td>...</td>\n",
       "      <td>...</td>\n",
       "    </tr>\n",
       "    <tr>\n",
       "      <th>214195</th>\n",
       "      <td>214195</td>\n",
       "      <td>45</td>\n",
       "      <td>18454</td>\n",
       "      <td>34</td>\n",
       "    </tr>\n",
       "    <tr>\n",
       "      <th>214196</th>\n",
       "      <td>214196</td>\n",
       "      <td>45</td>\n",
       "      <td>16188</td>\n",
       "      <td>34</td>\n",
       "    </tr>\n",
       "    <tr>\n",
       "      <th>214197</th>\n",
       "      <td>214197</td>\n",
       "      <td>45</td>\n",
       "      <td>15757</td>\n",
       "      <td>34</td>\n",
       "    </tr>\n",
       "    <tr>\n",
       "      <th>214198</th>\n",
       "      <td>214198</td>\n",
       "      <td>45</td>\n",
       "      <td>19648</td>\n",
       "      <td>34</td>\n",
       "    </tr>\n",
       "    <tr>\n",
       "      <th>214199</th>\n",
       "      <td>214199</td>\n",
       "      <td>45</td>\n",
       "      <td>969</td>\n",
       "      <td>34</td>\n",
       "    </tr>\n",
       "  </tbody>\n",
       "</table>\n",
       "<p>214200 rows × 4 columns</p>\n",
       "</div>"
      ],
      "text/plain": [
       "            ID  shop_id  item_id  date_block_num\n",
       "0            0        5     5037              34\n",
       "1            1        5     5320              34\n",
       "2            2        5     5233              34\n",
       "3            3        5     5232              34\n",
       "4            4        5     5268              34\n",
       "...        ...      ...      ...             ...\n",
       "214195  214195       45    18454              34\n",
       "214196  214196       45    16188              34\n",
       "214197  214197       45    15757              34\n",
       "214198  214198       45    19648              34\n",
       "214199  214199       45      969              34\n",
       "\n",
       "[214200 rows x 4 columns]"
      ]
     },
     "execution_count": 44,
     "metadata": {},
     "output_type": "execute_result"
    }
   ],
   "source": [
    "test_df"
   ]
  },
  {
   "cell_type": "code",
   "execution_count": 45,
   "id": "steady-community",
   "metadata": {},
   "outputs": [],
   "source": [
    "# Combine tables"
   ]
  },
  {
   "cell_type": "code",
   "execution_count": 46,
   "id": "appointed-projector",
   "metadata": {},
   "outputs": [
    {
     "data": {
      "text/plain": [
       "\"\\n# add shops_df\\ntrain_data = pd.merge(train_data,shops_df.drop(['city','shop_name'], axis = 1), on=['shop_id'], how='left') \\n\\n# add items_df\\ntrain_data = pd.merge(train_data, items_df, on=['item_id'], how='left') \\n\\n# add item_categories_df\\ntrain_data = pd.merge(train_data, item_categories_df.drop(['item_category_name','type','sub_type'], axis = 1), on=['item_category_id'], how='left') \\n\""
      ]
     },
     "execution_count": 46,
     "metadata": {},
     "output_type": "execute_result"
    }
   ],
   "source": [
    "\"\"\"\n",
    "# add shops_df\n",
    "train_data = pd.merge(train_data,shops_df.drop(['city','shop_name'], axis = 1), on=['shop_id'], how='left') \n",
    "\n",
    "# add items_df\n",
    "train_data = pd.merge(train_data, items_df, on=['item_id'], how='left') \n",
    "\n",
    "# add item_categories_df\n",
    "train_data = pd.merge(train_data, item_categories_df.drop(['item_category_name','type','sub_type'], axis = 1), on=['item_category_id'], how='left') \n",
    "\"\"\""
   ]
  },
  {
   "cell_type": "code",
   "execution_count": 47,
   "id": "constitutional-cuisine",
   "metadata": {},
   "outputs": [],
   "source": [
    "train_data = pd.merge(train_data, shops_df.drop(['city', 'shop_name'], axis=1), on=['shop_id'], how='left')\n",
    "train_data = pd.merge(train_data, items_df, on=['item_id'], how='left')\n",
    "train_data = pd.merge(train_data, item_categories_df.drop(['item_category_name','type','sub_type'], axis=1), on=['item_category_id'], how='left')"
   ]
  },
  {
   "cell_type": "code",
   "execution_count": 48,
   "id": "elegant-consistency",
   "metadata": {},
   "outputs": [
    {
     "data": {
      "text/html": [
       "<div>\n",
       "<style scoped>\n",
       "    .dataframe tbody tr th:only-of-type {\n",
       "        vertical-align: middle;\n",
       "    }\n",
       "\n",
       "    .dataframe tbody tr th {\n",
       "        vertical-align: top;\n",
       "    }\n",
       "\n",
       "    .dataframe thead th {\n",
       "        text-align: right;\n",
       "    }\n",
       "</style>\n",
       "<table border=\"1\" class=\"dataframe\">\n",
       "  <thead>\n",
       "    <tr style=\"text-align: right;\">\n",
       "      <th></th>\n",
       "      <th>shop_id</th>\n",
       "      <th>item_id</th>\n",
       "      <th>date_block_num</th>\n",
       "      <th>item_cnt_month</th>\n",
       "      <th>city_code</th>\n",
       "      <th>item_category_id</th>\n",
       "      <th>name2</th>\n",
       "      <th>name3</th>\n",
       "      <th>type_code</th>\n",
       "      <th>sub_type_code</th>\n",
       "    </tr>\n",
       "  </thead>\n",
       "  <tbody>\n",
       "    <tr>\n",
       "      <th>0</th>\n",
       "      <td>2</td>\n",
       "      <td>0</td>\n",
       "      <td>20</td>\n",
       "      <td>0.0</td>\n",
       "      <td>0</td>\n",
       "      <td>40</td>\n",
       "      <td>5</td>\n",
       "      <td>1335</td>\n",
       "      <td>11</td>\n",
       "      <td>4</td>\n",
       "    </tr>\n",
       "    <tr>\n",
       "      <th>1</th>\n",
       "      <td>2</td>\n",
       "      <td>1</td>\n",
       "      <td>15</td>\n",
       "      <td>0.0</td>\n",
       "      <td>0</td>\n",
       "      <td>76</td>\n",
       "      <td>67</td>\n",
       "      <td>42</td>\n",
       "      <td>15</td>\n",
       "      <td>31</td>\n",
       "    </tr>\n",
       "    <tr>\n",
       "      <th>2</th>\n",
       "      <td>2</td>\n",
       "      <td>1</td>\n",
       "      <td>18</td>\n",
       "      <td>0.0</td>\n",
       "      <td>0</td>\n",
       "      <td>76</td>\n",
       "      <td>67</td>\n",
       "      <td>42</td>\n",
       "      <td>15</td>\n",
       "      <td>31</td>\n",
       "    </tr>\n",
       "    <tr>\n",
       "      <th>3</th>\n",
       "      <td>2</td>\n",
       "      <td>1</td>\n",
       "      <td>19</td>\n",
       "      <td>0.0</td>\n",
       "      <td>0</td>\n",
       "      <td>76</td>\n",
       "      <td>67</td>\n",
       "      <td>42</td>\n",
       "      <td>15</td>\n",
       "      <td>31</td>\n",
       "    </tr>\n",
       "    <tr>\n",
       "      <th>4</th>\n",
       "      <td>2</td>\n",
       "      <td>1</td>\n",
       "      <td>20</td>\n",
       "      <td>0.0</td>\n",
       "      <td>0</td>\n",
       "      <td>76</td>\n",
       "      <td>67</td>\n",
       "      <td>42</td>\n",
       "      <td>15</td>\n",
       "      <td>31</td>\n",
       "    </tr>\n",
       "  </tbody>\n",
       "</table>\n",
       "</div>"
      ],
      "text/plain": [
       "   shop_id  item_id  date_block_num  item_cnt_month  city_code  \\\n",
       "0        2        0              20             0.0          0   \n",
       "1        2        1              15             0.0          0   \n",
       "2        2        1              18             0.0          0   \n",
       "3        2        1              19             0.0          0   \n",
       "4        2        1              20             0.0          0   \n",
       "\n",
       "   item_category_id  name2  name3  type_code  sub_type_code  \n",
       "0                40      5   1335         11              4  \n",
       "1                76     67     42         15             31  \n",
       "2                76     67     42         15             31  \n",
       "3                76     67     42         15             31  \n",
       "4                76     67     42         15             31  "
      ]
     },
     "execution_count": 48,
     "metadata": {},
     "output_type": "execute_result"
    }
   ],
   "source": [
    "train_data.head()"
   ]
  },
  {
   "cell_type": "code",
   "execution_count": 49,
   "id": "neural-diana",
   "metadata": {},
   "outputs": [
    {
     "data": {
      "text/plain": [
       "\"\\n# add month, days, and holidays\\ntrain_data['month'] = train_data['date_block_num'] % 12\\ndays = pd.Series([31,28,31,30,31,30,31,31,30,31,30,31])\\ntrain_data['days'] = train_data['month'].map(days)\\n\""
      ]
     },
     "execution_count": 49,
     "metadata": {},
     "output_type": "execute_result"
    }
   ],
   "source": [
    "\"\"\"\n",
    "# add month, days, and holidays\n",
    "train_data['month'] = train_data['date_block_num'] % 12\n",
    "days = pd.Series([31,28,31,30,31,30,31,31,30,31,30,31])\n",
    "train_data['days'] = train_data['month'].map(days)\n",
    "\"\"\""
   ]
  },
  {
   "cell_type": "code",
   "execution_count": 50,
   "id": "conscious-martial",
   "metadata": {},
   "outputs": [],
   "source": [
    "train_data['month'] = train_data['date_block_num'] %12\n",
    "days = pd.Series([31,28,31,30,31,30,31,31,30,31,30,31])\n",
    "train_data['days'] = train_data['month'].map(days)"
   ]
  },
  {
   "cell_type": "code",
   "execution_count": 51,
   "id": "naughty-knight",
   "metadata": {},
   "outputs": [
    {
     "data": {
      "text/html": [
       "<div>\n",
       "<style scoped>\n",
       "    .dataframe tbody tr th:only-of-type {\n",
       "        vertical-align: middle;\n",
       "    }\n",
       "\n",
       "    .dataframe tbody tr th {\n",
       "        vertical-align: top;\n",
       "    }\n",
       "\n",
       "    .dataframe thead th {\n",
       "        text-align: right;\n",
       "    }\n",
       "</style>\n",
       "<table border=\"1\" class=\"dataframe\">\n",
       "  <thead>\n",
       "    <tr style=\"text-align: right;\">\n",
       "      <th></th>\n",
       "      <th>shop_id</th>\n",
       "      <th>item_id</th>\n",
       "      <th>date_block_num</th>\n",
       "      <th>item_cnt_month</th>\n",
       "      <th>city_code</th>\n",
       "      <th>item_category_id</th>\n",
       "      <th>name2</th>\n",
       "      <th>name3</th>\n",
       "      <th>type_code</th>\n",
       "      <th>sub_type_code</th>\n",
       "      <th>month</th>\n",
       "      <th>days</th>\n",
       "    </tr>\n",
       "  </thead>\n",
       "  <tbody>\n",
       "    <tr>\n",
       "      <th>0</th>\n",
       "      <td>2</td>\n",
       "      <td>0</td>\n",
       "      <td>20</td>\n",
       "      <td>0.0</td>\n",
       "      <td>0</td>\n",
       "      <td>40</td>\n",
       "      <td>5</td>\n",
       "      <td>1335</td>\n",
       "      <td>11</td>\n",
       "      <td>4</td>\n",
       "      <td>8</td>\n",
       "      <td>30</td>\n",
       "    </tr>\n",
       "    <tr>\n",
       "      <th>1</th>\n",
       "      <td>2</td>\n",
       "      <td>1</td>\n",
       "      <td>15</td>\n",
       "      <td>0.0</td>\n",
       "      <td>0</td>\n",
       "      <td>76</td>\n",
       "      <td>67</td>\n",
       "      <td>42</td>\n",
       "      <td>15</td>\n",
       "      <td>31</td>\n",
       "      <td>3</td>\n",
       "      <td>30</td>\n",
       "    </tr>\n",
       "    <tr>\n",
       "      <th>2</th>\n",
       "      <td>2</td>\n",
       "      <td>1</td>\n",
       "      <td>18</td>\n",
       "      <td>0.0</td>\n",
       "      <td>0</td>\n",
       "      <td>76</td>\n",
       "      <td>67</td>\n",
       "      <td>42</td>\n",
       "      <td>15</td>\n",
       "      <td>31</td>\n",
       "      <td>6</td>\n",
       "      <td>31</td>\n",
       "    </tr>\n",
       "    <tr>\n",
       "      <th>3</th>\n",
       "      <td>2</td>\n",
       "      <td>1</td>\n",
       "      <td>19</td>\n",
       "      <td>0.0</td>\n",
       "      <td>0</td>\n",
       "      <td>76</td>\n",
       "      <td>67</td>\n",
       "      <td>42</td>\n",
       "      <td>15</td>\n",
       "      <td>31</td>\n",
       "      <td>7</td>\n",
       "      <td>31</td>\n",
       "    </tr>\n",
       "    <tr>\n",
       "      <th>4</th>\n",
       "      <td>2</td>\n",
       "      <td>1</td>\n",
       "      <td>20</td>\n",
       "      <td>0.0</td>\n",
       "      <td>0</td>\n",
       "      <td>76</td>\n",
       "      <td>67</td>\n",
       "      <td>42</td>\n",
       "      <td>15</td>\n",
       "      <td>31</td>\n",
       "      <td>8</td>\n",
       "      <td>30</td>\n",
       "    </tr>\n",
       "  </tbody>\n",
       "</table>\n",
       "</div>"
      ],
      "text/plain": [
       "   shop_id  item_id  date_block_num  item_cnt_month  city_code  \\\n",
       "0        2        0              20             0.0          0   \n",
       "1        2        1              15             0.0          0   \n",
       "2        2        1              18             0.0          0   \n",
       "3        2        1              19             0.0          0   \n",
       "4        2        1              20             0.0          0   \n",
       "\n",
       "   item_category_id  name2  name3  type_code  sub_type_code  month  days  \n",
       "0                40      5   1335         11              4      8    30  \n",
       "1                76     67     42         15             31      3    30  \n",
       "2                76     67     42         15             31      6    31  \n",
       "3                76     67     42         15             31      7    31  \n",
       "4                76     67     42         15             31      8    30  "
      ]
     },
     "execution_count": 51,
     "metadata": {},
     "output_type": "execute_result"
    }
   ],
   "source": [
    "train_data.head()"
   ]
  },
  {
   "cell_type": "code",
   "execution_count": 52,
   "id": "elementary-nylon",
   "metadata": {},
   "outputs": [],
   "source": [
    "# Feature Engineering  (特徴エンジニアリング:生データから新しい特徴を作成して、学習アルゴリズムの予測能力を向上させるプロセス)\n",
    "#Lag Feature  (今の時間の特徴だけに注目せずに過去の特徴を用いて現在のデータの特徴量を増やす方法(新たなデータを生成))"
   ]
  },
  {
   "cell_type": "code",
   "execution_count": 53,
   "id": "industrial-clock",
   "metadata": {},
   "outputs": [
    {
     "data": {
      "text/plain": [
       "\"\\ndef generate_lag(df, lags, lag_col):\\n    for i in lags:\\n        shifted = df[['date_block_num','shop_id','item_id',lag_col]].copy()\\n        shifted.columns = ['date_block_num','shop_id','item_id', lag_col+'_lag_'+str(i)]\\n        shifted['date_block_num'] += i\\n        df = pd.merge(df, shifted, on=['date_block_num','shop_id','item_id'], how='left')\\n    return df\\n\""
      ]
     },
     "execution_count": 53,
     "metadata": {},
     "output_type": "execute_result"
    }
   ],
   "source": [
    "\"\"\"\n",
    "def generate_lag(df, lags, lag_col):\n",
    "    for i in lags:\n",
    "        shifted = df[['date_block_num','shop_id','item_id',lag_col]].copy()\n",
    "        shifted.columns = ['date_block_num','shop_id','item_id', lag_col+'_lag_'+str(i)]\n",
    "        shifted['date_block_num'] += i\n",
    "        df = pd.merge(df, shifted, on=['date_block_num','shop_id','item_id'], how='left')\n",
    "    return df\n",
    "\"\"\""
   ]
  },
  {
   "cell_type": "code",
   "execution_count": 54,
   "id": "dated-program",
   "metadata": {},
   "outputs": [],
   "source": [
    "# https://cpp-learning.com/preprocess-time-series/  (参考)\n",
    "def generate_lag(df, lags, lag_col):\n",
    "    for i in lags:\n",
    "        shifted = df[['date_block_num','shop_id','item_id',lag_col]].copy()\n",
    "        shifted.columns = ['date_block_num','shop_id','item_id', lag_col+'_lag_'+str(i)]\n",
    "        shifted['date_block_num'] += i\n",
    "        df = pd.merge(df, shifted, on=['date_block_num','shop_id','item_id'], how='left')\n",
    "    return df"
   ]
  },
  {
   "cell_type": "code",
   "execution_count": 55,
   "id": "thorough-maple",
   "metadata": {},
   "outputs": [],
   "source": [
    "train_data = generate_lag(train_data, [1,2,3,6,12], 'item_cnt_month')"
   ]
  },
  {
   "cell_type": "code",
   "execution_count": 56,
   "id": "impaired-advantage",
   "metadata": {},
   "outputs": [],
   "source": [
    "# Part one: lag feature with date_block_num"
   ]
  },
  {
   "cell_type": "code",
   "execution_count": 57,
   "id": "psychological-assignment",
   "metadata": {},
   "outputs": [
    {
     "data": {
      "text/plain": [
       "\"\\ngroup = train_data.groupby(['date_block_num','item_id'])['item_cnt_month'].mean().rename('date_item_avg_cnt').reset_index()\\ntrain_data = pd.merge(train_data, group, on=['date_block_num', 'item_id'], how='left')\\ntrain_data = generate_lag(train_data, [1,2,3,6,12], 'date_item_avg_cnt')\\ntrain_data.drop(['date_item_avg_cnt'], axis=1, inplace=True)\\n\""
      ]
     },
     "execution_count": 57,
     "metadata": {},
     "output_type": "execute_result"
    }
   ],
   "source": [
    "\"\"\"\n",
    "group = train_data.groupby(['date_block_num','item_id'])['item_cnt_month'].mean().rename('date_item_avg_cnt').reset_index()\n",
    "train_data = pd.merge(train_data, group, on=['date_block_num', 'item_id'], how='left')\n",
    "train_data = generate_lag(train_data, [1,2,3,6,12], 'date_item_avg_cnt')\n",
    "train_data.drop(['date_item_avg_cnt'], axis=1, inplace=True)\n",
    "\"\"\""
   ]
  },
  {
   "cell_type": "code",
   "execution_count": 58,
   "id": "usual-patient",
   "metadata": {},
   "outputs": [],
   "source": [
    "group = train_data.groupby(['date_block_num','item_id'])['item_cnt_month'].mean().rename('date_item_avg_cnt').reset_index()\n",
    "train_data = pd.merge(train_data, group, on=['date_block_num', 'item_id'], how='left')\n",
    "train_data = generate_lag(train_data, [1,2,3,6,12], 'date_item_avg_cnt')\n",
    "train_data.drop(['date_item_avg_cnt'], axis=1, inplace=True)"
   ]
  },
  {
   "cell_type": "code",
   "execution_count": 59,
   "id": "civil-anthropology",
   "metadata": {},
   "outputs": [
    {
     "data": {
      "text/plain": [
       "\"\\ngroup = train_data.groupby(['date_block_num','shop_id'])['item_cnt_month'].mean().rename('date_shop_avg_cnt').reset_index()\\ntrain_data = pd.merge(train_data, group, on=['date_block_num', 'shop_id'], how='left')\\ntrain_data = generate_lag(train_data, [1,2,3,6,12], 'date_shop_avg_cnt')\\ntrain_data.drop(['date_shop_avg_cnt'], axis=1, inplace=True)\\n\""
      ]
     },
     "execution_count": 59,
     "metadata": {},
     "output_type": "execute_result"
    }
   ],
   "source": [
    "\"\"\"\n",
    "group = train_data.groupby(['date_block_num','shop_id'])['item_cnt_month'].mean().rename('date_shop_avg_cnt').reset_index()\n",
    "train_data = pd.merge(train_data, group, on=['date_block_num', 'shop_id'], how='left')\n",
    "train_data = generate_lag(train_data, [1,2,3,6,12], 'date_shop_avg_cnt')\n",
    "train_data.drop(['date_shop_avg_cnt'], axis=1, inplace=True)\n",
    "\"\"\""
   ]
  },
  {
   "cell_type": "code",
   "execution_count": 60,
   "id": "intense-license",
   "metadata": {},
   "outputs": [],
   "source": [
    "group = train_data.groupby(['date_block_num','shop_id'])['item_cnt_month'].mean().rename('date_shop_avg_cnt').reset_index()\n",
    "train_data = pd.merge(train_data, group, on=['date_block_num', 'shop_id'], how='left')\n",
    "train_data = generate_lag(train_data, [1,2,3,6,12], 'date_shop_avg_cnt')\n",
    "train_data.drop(['date_shop_avg_cnt'], axis=1, inplace=True)"
   ]
  },
  {
   "cell_type": "code",
   "execution_count": 61,
   "id": "muslim-modem",
   "metadata": {},
   "outputs": [
    {
     "data": {
      "text/plain": [
       "\"\\ngroup = train_data.groupby(['date_block_num','item_category_id'])['item_cnt_month'].mean().rename('date_itemcat_avg_cnt').reset_index()\\ntrain_data = pd.merge(train_data, group, on=['date_block_num','item_category_id'], how='left')\\ntrain_data = generate_lag(train_data, [1,2], 'date_itemcat_avg_cnt')\\ntrain_data.drop(['date_itemcat_avg_cnt'], axis=1, inplace=True)\\n\""
      ]
     },
     "execution_count": 61,
     "metadata": {},
     "output_type": "execute_result"
    }
   ],
   "source": [
    "\"\"\"\n",
    "group = train_data.groupby(['date_block_num','item_category_id'])['item_cnt_month'].mean().rename('date_itemcat_avg_cnt').reset_index()\n",
    "train_data = pd.merge(train_data, group, on=['date_block_num','item_category_id'], how='left')\n",
    "train_data = generate_lag(train_data, [1,2], 'date_itemcat_avg_cnt')\n",
    "train_data.drop(['date_itemcat_avg_cnt'], axis=1, inplace=True)\n",
    "\"\"\""
   ]
  },
  {
   "cell_type": "code",
   "execution_count": 62,
   "id": "catholic-education",
   "metadata": {},
   "outputs": [],
   "source": [
    "group = train_data.groupby(['date_block_num', 'item_category_id'])['item_cnt_month'].mean().rename('date_itemcat_avg_cnt').reset_index()\n",
    "train_data = pd.merge(train_data, group, on=['date_block_num', 'item_category_id'], how='left')\n",
    "train_data = generate_lag(train_data, [1,2], 'date_itemcat_avg_cnt')\n",
    "train_data.drop(['date_itemcat_avg_cnt'], axis=1, inplace=True)"
   ]
  },
  {
   "cell_type": "code",
   "execution_count": 63,
   "id": "minus-reducing",
   "metadata": {},
   "outputs": [],
   "source": [
    "group = train_data.groupby(['date_block_num'])['item_cnt_month'].mean().rename('date_avg_cnt').reset_index()\n",
    "train_data = pd.merge(train_data, group, on=['date_block_num'], how='left')\n",
    "train_data = generate_lag(train_data, [1], 'date_avg_cnt')\n",
    "train_data.drop(['date_avg_cnt'], axis=1, inplace=True)"
   ]
  },
  {
   "cell_type": "code",
   "execution_count": 64,
   "id": "cloudy-heaven",
   "metadata": {},
   "outputs": [
    {
     "data": {
      "text/plain": [
       "\"\\ngroup = train_data.groupby(['date_block_num','city_code'])['item_cnt_month'].mean().rename('date_city_avg_cnt').reset_index()\\ntrain_data = pd.merge(train_data, group, on=['date_block_num', 'city_code'], how='left')\\ntrain_data = generate_lag(train_data, [1], 'date_city_avg_cnt')\\ntrain_data.drop(['date_city_avg_cnt'], axis=1, inplace=True)\\n\""
      ]
     },
     "execution_count": 64,
     "metadata": {},
     "output_type": "execute_result"
    }
   ],
   "source": [
    "\"\"\"\n",
    "group = train_data.groupby(['date_block_num','city_code'])['item_cnt_month'].mean().rename('date_city_avg_cnt').reset_index()\n",
    "train_data = pd.merge(train_data, group, on=['date_block_num', 'city_code'], how='left')\n",
    "train_data = generate_lag(train_data, [1], 'date_city_avg_cnt')\n",
    "train_data.drop(['date_city_avg_cnt'], axis=1, inplace=True)\n",
    "\"\"\""
   ]
  },
  {
   "cell_type": "code",
   "execution_count": 65,
   "id": "unexpected-samuel",
   "metadata": {},
   "outputs": [],
   "source": [
    "group = train_data.groupby(['date_block_num','city_code'])['item_cnt_month'].mean().rename('date_city_avg_cnt').reset_index()\n",
    "train_data = pd.merge(train_data, group, on=['date_block_num', 'city_code'], how='left')\n",
    "train_data = generate_lag(train_data, [1], 'date_city_avg_cnt')\n",
    "train_data.drop(['date_city_avg_cnt'], axis=1, inplace=True)"
   ]
  },
  {
   "cell_type": "code",
   "execution_count": 66,
   "id": "later-stream",
   "metadata": {},
   "outputs": [
    {
     "data": {
      "text/plain": [
       "\"\\ngroup = train_data.groupby(['date_block_num','city_code','item_id'])['item_cnt_month'].mean().rename('date_city_item_avg_cnt').reset_index()\\ntrain_data = pd.merge(train_data, group, on=['date_block_num', 'city_code','item_id'], how='left')\\ntrain_data = generate_lag(train_data, [1], 'date_city_item_avg_cnt')\\ntrain_data.drop(['date_city_item_avg_cnt'], axis=1, inplace=True)\\n\""
      ]
     },
     "execution_count": 66,
     "metadata": {},
     "output_type": "execute_result"
    }
   ],
   "source": [
    "\"\"\"\n",
    "group = train_data.groupby(['date_block_num','city_code','item_id'])['item_cnt_month'].mean().rename('date_city_item_avg_cnt').reset_index()\n",
    "train_data = pd.merge(train_data, group, on=['date_block_num', 'city_code','item_id'], how='left')\n",
    "train_data = generate_lag(train_data, [1], 'date_city_item_avg_cnt')\n",
    "train_data.drop(['date_city_item_avg_cnt'], axis=1, inplace=True)\n",
    "\"\"\""
   ]
  },
  {
   "cell_type": "code",
   "execution_count": 67,
   "id": "reasonable-glucose",
   "metadata": {},
   "outputs": [],
   "source": [
    "group = train_data.groupby(['date_block_num','city_code','item_id'])['item_cnt_month'].mean().rename('date_city_item_avg_cnt').reset_index()\n",
    "train_data = pd.merge(train_data, group, on=['date_block_num', 'city_code', 'item_id'], how='left')\n",
    "train_data = generate_lag(train_data, [1], 'date_city_item_avg_cnt')\n",
    "train_data.drop(['date_city_item_avg_cnt'], axis=1, inplace=True)"
   ]
  },
  {
   "cell_type": "code",
   "execution_count": 68,
   "id": "worldwide-tiffany",
   "metadata": {},
   "outputs": [],
   "source": [
    "group = train_data.groupby(['date_block_num','shop_id','item_id'])['item_cnt_month'].mean().rename('date_shop_item_avg_cnt').reset_index()\n",
    "train_data = pd.merge(train_data, group, on=['date_block_num', 'shop_id','item_id'], how='left')\n",
    "train_data = generate_lag(train_data, [1,2,3], 'date_shop_item_avg_cnt')\n",
    "train_data.drop(['date_shop_item_avg_cnt'], axis=1, inplace=True)"
   ]
  },
  {
   "cell_type": "code",
   "execution_count": 69,
   "id": "elegant-provincial",
   "metadata": {},
   "outputs": [],
   "source": [
    "group = train_data.groupby(['date_block_num','shop_id','sub_type_code'])['item_cnt_month'].mean().rename('date_shop_subtype_avg_cnt').reset_index()\n",
    "train_data = pd.merge(train_data, group, on=['date_block_num', 'shop_id','sub_type_code'], how='left')\n",
    "train_data = generate_lag(train_data, [1], 'date_shop_subtype_avg_cnt')\n",
    "train_data.drop(['date_shop_subtype_avg_cnt'], axis=1, inplace=True)"
   ]
  },
  {
   "cell_type": "code",
   "execution_count": 70,
   "id": "improved-jumping",
   "metadata": {},
   "outputs": [
    {
     "data": {
      "text/plain": [
       "'\\n#Cleaning works\\ntrain_data.fillna(0,inplace = True)\\ntrain_data = downcast_dtypes(train_data)\\ngc.collect()\\n\\n'"
      ]
     },
     "execution_count": 70,
     "metadata": {},
     "output_type": "execute_result"
    }
   ],
   "source": [
    "\"\"\"\n",
    "#Cleaning works\n",
    "train_data.fillna(0,inplace = True)\n",
    "train_data = downcast_dtypes(train_data)\n",
    "gc.collect()\n",
    "\n",
    "\"\"\""
   ]
  },
  {
   "cell_type": "code",
   "execution_count": 71,
   "id": "subject-dayton",
   "metadata": {},
   "outputs": [
    {
     "data": {
      "text/plain": [
       "14"
      ]
     },
     "execution_count": 71,
     "metadata": {},
     "output_type": "execute_result"
    }
   ],
   "source": [
    "train_data.fillna(0, inplace=True)\n",
    "train_data = downcast_dtypes(train_data)\n",
    "gc.collect()"
   ]
  },
  {
   "cell_type": "code",
   "execution_count": 72,
   "id": "compound-rover",
   "metadata": {},
   "outputs": [],
   "source": [
    "#Part two: lag feature with month"
   ]
  },
  {
   "cell_type": "code",
   "execution_count": 73,
   "id": "quantitative-response",
   "metadata": {},
   "outputs": [
    {
     "data": {
      "text/plain": [
       "\"\\ngroup = train_data.groupby(['month','item_id'])['item_cnt_month'].mean().rename('month_item_avg_cnt').reset_index()\\ntrain_data = pd.merge(train_data, group, on=['month', 'item_id'], how='left')\\ntrain_data = generate_lag(train_data, [1,2,3], 'month_item_avg_cnt')\\ntrain_data.drop(['month_item_avg_cnt'], axis=1, inplace=True)\\n\""
      ]
     },
     "execution_count": 73,
     "metadata": {},
     "output_type": "execute_result"
    }
   ],
   "source": [
    "\"\"\"\n",
    "group = train_data.groupby(['month','item_id'])['item_cnt_month'].mean().rename('month_item_avg_cnt').reset_index()\n",
    "train_data = pd.merge(train_data, group, on=['month', 'item_id'], how='left')\n",
    "train_data = generate_lag(train_data, [1,2,3], 'month_item_avg_cnt')\n",
    "train_data.drop(['month_item_avg_cnt'], axis=1, inplace=True)\n",
    "\"\"\""
   ]
  },
  {
   "cell_type": "code",
   "execution_count": 74,
   "id": "brilliant-martial",
   "metadata": {},
   "outputs": [],
   "source": [
    "group = train_data.groupby(['month','item_id'])['item_cnt_month'].mean().rename('month_item_avg_cnt').reset_index()\n",
    "train_data = pd.merge(train_data, group, on=['month', 'item_id'], how='left')\n",
    "train_data = generate_lag(train_data, [1,2,3], 'month_item_avg_cnt')\n",
    "train_data.drop(['month_item_avg_cnt'], axis=1, inplace=True)"
   ]
  },
  {
   "cell_type": "code",
   "execution_count": 75,
   "id": "equivalent-private",
   "metadata": {},
   "outputs": [],
   "source": [
    "group = train_data.groupby(['month','shop_id'])['item_cnt_month'].mean().rename('month_shop_avg_cnt').reset_index()\n",
    "train_data = pd.merge(train_data, group, on=['month', 'shop_id'], how='left')\n",
    "train_data = generate_lag(train_data, [1,2,3], 'month_shop_avg_cnt')\n",
    "train_data.drop(['month_shop_avg_cnt'], axis=1, inplace=True)"
   ]
  },
  {
   "cell_type": "code",
   "execution_count": 76,
   "id": "confidential-industry",
   "metadata": {},
   "outputs": [],
   "source": [
    "group = train_data.groupby(['month'])['item_cnt_month'].mean().rename('month_avg_cnt').reset_index()\n",
    "train_data = pd.merge(train_data, group, on=['month'], how='left')\n",
    "train_data = generate_lag(train_data, [1], 'month_avg_cnt')\n",
    "train_data.drop(['month_avg_cnt'], axis=1, inplace=True)"
   ]
  },
  {
   "cell_type": "code",
   "execution_count": 77,
   "id": "expired-election",
   "metadata": {},
   "outputs": [
    {
     "data": {
      "text/plain": [
       "0"
      ]
     },
     "execution_count": 77,
     "metadata": {},
     "output_type": "execute_result"
    }
   ],
   "source": [
    "#Cleaning works\n",
    "train_data.fillna(0,inplace = True)\n",
    "train_data = downcast_dtypes(train_data)\n",
    "gc.collect()"
   ]
  },
  {
   "cell_type": "code",
   "execution_count": 78,
   "id": "recreational-allah",
   "metadata": {},
   "outputs": [],
   "source": [
    "#Trend Feature"
   ]
  },
  {
   "cell_type": "code",
   "execution_count": 79,
   "id": "direct-lottery",
   "metadata": {},
   "outputs": [
    {
     "data": {
      "text/plain": [
       "\"\\n# price\\n# get the mean by item_id and item_price\\ngroup = sales_df.groupby(['item_id'])['item_price'].mean().rename('item_avg_price').reset_index()\\ntrain_data = pd.merge(train_data, group, on=['item_id'], how='left')\\n\\n# get the mean by date_block_num, item_id and item_price\\ngroup = sales_df.groupby(['date_block_num','item_id'])['item_price'].mean().rename('date_item_avg_price').reset_index()\\ntrain_data = pd.merge(train_data, group, on=['date_block_num','item_id'], how='left')\\n\\n# calculate the trend of price and add lag\\nlags = [1,2,3,4,5,6]\\ntrain_data = generate_lag(train_data, lags, 'date_item_avg_price')\\n\\nfor i in lags:\\n    train_data['trend_price_lag_'+str(i)] =         (train_data['date_item_avg_price_lag_'+str(i)] - train_data['item_avg_price']) / train_data['item_avg_price']\\n    \\ndef select_trend(row):\\n    for i in lags:\\n        if row['trend_price_lag_'+str(i)]:\\n            return row['trend_price_lag_'+str(i)]\\n    return 0\\n    \\ntrain_data['trend_price_lag'] = train_data.apply(select_trend, axis=1)\\n\\n# drop all the columns\\nfetures_to_drop = ['item_avg_price', 'date_item_avg_price']\\nfor i in lags:\\n    fetures_to_drop += ['date_item_avg_price_lag_'+str(i)]\\n    fetures_to_drop += ['trend_price_lag_'+str(i)]\\n\\ntrain_data.drop(fetures_to_drop, axis=1, inplace=True)\\n\\n\""
      ]
     },
     "execution_count": 79,
     "metadata": {},
     "output_type": "execute_result"
    }
   ],
   "source": [
    "\"\"\"\n",
    "# price\n",
    "# get the mean by item_id and item_price\n",
    "group = sales_df.groupby(['item_id'])['item_price'].mean().rename('item_avg_price').reset_index()\n",
    "train_data = pd.merge(train_data, group, on=['item_id'], how='left')\n",
    "\n",
    "# get the mean by date_block_num, item_id and item_price\n",
    "group = sales_df.groupby(['date_block_num','item_id'])['item_price'].mean().rename('date_item_avg_price').reset_index()\n",
    "train_data = pd.merge(train_data, group, on=['date_block_num','item_id'], how='left')\n",
    "\n",
    "# calculate the trend of price and add lag\n",
    "lags = [1,2,3,4,5,6]\n",
    "train_data = generate_lag(train_data, lags, 'date_item_avg_price')\n",
    "\n",
    "for i in lags:\n",
    "    train_data['trend_price_lag_'+str(i)] = \\\n",
    "        (train_data['date_item_avg_price_lag_'+str(i)] - train_data['item_avg_price']) / train_data['item_avg_price']\n",
    "    \n",
    "def select_trend(row):\n",
    "    for i in lags:\n",
    "        if row['trend_price_lag_'+str(i)]:\n",
    "            return row['trend_price_lag_'+str(i)]\n",
    "    return 0\n",
    "    \n",
    "train_data['trend_price_lag'] = train_data.apply(select_trend, axis=1)\n",
    "\n",
    "# drop all the columns\n",
    "fetures_to_drop = ['item_avg_price', 'date_item_avg_price']\n",
    "for i in lags:\n",
    "    fetures_to_drop += ['date_item_avg_price_lag_'+str(i)]\n",
    "    fetures_to_drop += ['trend_price_lag_'+str(i)]\n",
    "\n",
    "train_data.drop(fetures_to_drop, axis=1, inplace=True)\n",
    "\n",
    "\"\"\""
   ]
  },
  {
   "cell_type": "code",
   "execution_count": 80,
   "id": "regional-lancaster",
   "metadata": {},
   "outputs": [],
   "source": [
    "group = sales_df.groupby(['item_id'])['item_price'].mean().rename('item_avg_price').reset_index()\n",
    "train_data = pd.merge(train_data, group, on=['item_id'], how='left')\n",
    "\n",
    "group = sales_df.groupby(['date_block_num','item_id'])['item_price'].mean().rename('date_item_avg_price').reset_index()\n",
    "train_data = pd.merge(train_data, group, on=['date_block_num','item_id'], how='left')\n",
    "\n",
    "lags = [1,2,3,4,5,6]\n",
    "train_data = generate_lag(train_data, lags, 'date_item_avg_price')\n",
    "\n",
    "for i in lags:\n",
    "    train_data['trend_price_lag_'+str(i)] = \\\n",
    "        (train_data['date_item_avg_price_lag_' + str(i)] - train_data['item_avg_price']) / train_data['item_avg_price']\n",
    "\n",
    "def select_trend(row):\n",
    "    for i in lags:\n",
    "        if row['trend_price_lag_'+str(i)]:\n",
    "            return row['trend_price_lag_'+str(i)]\n",
    "    return 0\n",
    "\n",
    "train_data['trend_price_lag'] = train_data.apply(select_trend, axis=1)\n",
    "\n",
    "fetures_to_drop = ['item_avg_price', 'date_item_avg_price']\n",
    "for i in lags:\n",
    "    fetures_to_drop += ['date_item_avg_price_lag_'+str(i)]\n",
    "    fetures_to_drop += ['trend_price_lag_'+str(i)]\n",
    "    \n",
    "train_data.drop(fetures_to_drop, axis=1, inplace=True)"
   ]
  },
  {
   "cell_type": "code",
   "execution_count": 81,
   "id": "generic-theater",
   "metadata": {},
   "outputs": [
    {
     "data": {
      "text/plain": [
       "\"\\n# get the sum by date_block_num, shop_id and revenue\\ngroup = sales_df.groupby(['date_block_num','shop_id',])['revenue'].sum().rename('sum_date_shops_revenue').reset_index()\\ntrain_data = pd.merge(train_data, group, on=['date_block_num','shop_id'], how='left')\\n\\n# get the mean by with shop_id and revenue\\ngroup = group.groupby(['shop_id',])['sum_date_shops_revenue'].mean().rename('mean_shops_revenue').reset_index()\\ntrain_data = pd.merge(train_data, group, on=['shop_id'], how='left')\\n\\n# calculate the trend of revenue and add lag\\ntrain_data['trend_revenue'] = (train_data['sum_date_shops_revenue'] - train_data['mean_shops_revenue']) / train_data['mean_shops_revenue']\\ntrain_data = generate_lag(train_data, [1], 'trend_revenue')\\n\\n# drop all the columns \\ntrain_data.drop(['sum_date_shops_revenue'], axis=1, inplace=True)\\ntrain_data.drop(['mean_shops_revenue'], axis=1, inplace=True)\\ntrain_data.drop(['trend_revenue'], axis=1, inplace=True)\\n\""
      ]
     },
     "execution_count": 81,
     "metadata": {},
     "output_type": "execute_result"
    }
   ],
   "source": [
    "\"\"\"\n",
    "# get the sum by date_block_num, shop_id and revenue\n",
    "group = sales_df.groupby(['date_block_num','shop_id',])['revenue'].sum().rename('sum_date_shops_revenue').reset_index()\n",
    "train_data = pd.merge(train_data, group, on=['date_block_num','shop_id'], how='left')\n",
    "\n",
    "# get the mean by with shop_id and revenue\n",
    "group = group.groupby(['shop_id',])['sum_date_shops_revenue'].mean().rename('mean_shops_revenue').reset_index()\n",
    "train_data = pd.merge(train_data, group, on=['shop_id'], how='left')\n",
    "\n",
    "# calculate the trend of revenue and add lag\n",
    "train_data['trend_revenue'] = (train_data['sum_date_shops_revenue'] - train_data['mean_shops_revenue']) / train_data['mean_shops_revenue']\n",
    "train_data = generate_lag(train_data, [1], 'trend_revenue')\n",
    "\n",
    "# drop all the columns \n",
    "train_data.drop(['sum_date_shops_revenue'], axis=1, inplace=True)\n",
    "train_data.drop(['mean_shops_revenue'], axis=1, inplace=True)\n",
    "train_data.drop(['trend_revenue'], axis=1, inplace=True)\n",
    "\"\"\""
   ]
  },
  {
   "cell_type": "code",
   "execution_count": 82,
   "id": "moderate-termination",
   "metadata": {},
   "outputs": [],
   "source": [
    "group = sales_df.groupby(['date_block_num','shop_id'])['revenue'].sum().rename('sum_date_shops_revenue').reset_index()\n",
    "train_data = pd.merge(train_data, group, on=['date_block_num','shop_id'], how='left')\n",
    "\n",
    "group = group.groupby(['shop_id',])['sum_date_shops_revenue'].mean().rename('mean_shops_revenue').reset_index()\n",
    "train_data = pd.merge(train_data, group, on=['shop_id'], how='left')\n",
    "\n",
    "train_data['trend_revenue'] = (train_data['sum_date_shops_revenue'] - train_data['mean_shops_revenue']) / train_data['mean_shops_revenue']\n",
    "train_data = generate_lag(train_data, [1], 'trend_revenue')\n",
    "\n",
    "train_data.drop(['sum_date_shops_revenue','mean_shops_revenue','trend_revenue'], axis=1, inplace=True)"
   ]
  },
  {
   "cell_type": "code",
   "execution_count": null,
   "id": "confidential-clarity",
   "metadata": {},
   "outputs": [],
   "source": [
    "\"\"\"\n",
    "# add the month of each shop and item first sale\n",
    "train_data['item_shop_first_sale'] = (\n",
    "    train_data['date_block_num'] - train_data.groupby(['item_id', 'shop_id'])['date_block_num'].transform('min')\n",
    ")\n",
    "train_data['item_first_sale'] = (\n",
    "    train_data['date_block_num'] - train_data.groupby(['item_id'])['date_block_num'].transform('min')\n",
    ")\n",
    "\"\"\""
   ]
  },
  {
   "cell_type": "code",
   "execution_count": 83,
   "id": "possible-engineering",
   "metadata": {},
   "outputs": [],
   "source": [
    "train_data['item_shop_first_sale'] = (\n",
    "    train_data['date_block_num'] - train_data.groupby(['item_id', 'shop_id'])['date_block_num'].transform('min')\n",
    ")  #transform():applyのように圧縮されない(列をもとのgroupbyする前のデータフレームに足すことも可能)\n",
    "train_data['item_first_sale'] = (\n",
    "    train_data['date_block_num'] - train_data.groupby(['item_id'])['date_block_num'].transform('min')\n",
    ")"
   ]
  },
  {
   "cell_type": "code",
   "execution_count": null,
   "id": "solar-commerce",
   "metadata": {},
   "outputs": [],
   "source": [
    "\"\"\"\n",
    "#Cleaning works\n",
    "train_data.fillna(0,inplace = True)\n",
    "train_data = downcast_dtypes(train_data)\n",
    "gc.collect()\n",
    "\"\"\""
   ]
  },
  {
   "cell_type": "code",
   "execution_count": 85,
   "id": "recovered-polymer",
   "metadata": {},
   "outputs": [
    {
     "data": {
      "text/plain": [
       "0"
      ]
     },
     "execution_count": 85,
     "metadata": {},
     "output_type": "execute_result"
    }
   ],
   "source": [
    "train_data.fillna(0,inplace=True)\n",
    "train_data = downcast_dtypes(train_data)\n",
    "gc.collect()"
   ]
  },
  {
   "cell_type": "code",
   "execution_count": null,
   "id": "tamil-davis",
   "metadata": {},
   "outputs": [],
   "source": [
    "\"\"\"\n",
    "train_data = train_data[train_data['date_block_num'] > 3]\n",
    "train_data.head().append(train_data.tail())\n",
    "\"\"\""
   ]
  },
  {
   "cell_type": "code",
   "execution_count": 86,
   "id": "close-examination",
   "metadata": {},
   "outputs": [
    {
     "data": {
      "text/html": [
       "<div>\n",
       "<style scoped>\n",
       "    .dataframe tbody tr th:only-of-type {\n",
       "        vertical-align: middle;\n",
       "    }\n",
       "\n",
       "    .dataframe tbody tr th {\n",
       "        vertical-align: top;\n",
       "    }\n",
       "\n",
       "    .dataframe thead th {\n",
       "        text-align: right;\n",
       "    }\n",
       "</style>\n",
       "<table border=\"1\" class=\"dataframe\">\n",
       "  <thead>\n",
       "    <tr style=\"text-align: right;\">\n",
       "      <th></th>\n",
       "      <th>shop_id</th>\n",
       "      <th>item_id</th>\n",
       "      <th>date_block_num</th>\n",
       "      <th>item_cnt_month</th>\n",
       "      <th>city_code</th>\n",
       "      <th>item_category_id</th>\n",
       "      <th>name2</th>\n",
       "      <th>name3</th>\n",
       "      <th>type_code</th>\n",
       "      <th>sub_type_code</th>\n",
       "      <th>...</th>\n",
       "      <th>month_item_avg_cnt_lag_2</th>\n",
       "      <th>month_item_avg_cnt_lag_3</th>\n",
       "      <th>month_shop_avg_cnt_lag_1</th>\n",
       "      <th>month_shop_avg_cnt_lag_2</th>\n",
       "      <th>month_shop_avg_cnt_lag_3</th>\n",
       "      <th>month_avg_cnt_lag_1</th>\n",
       "      <th>trend_price_lag</th>\n",
       "      <th>trend_revenue_lag_1</th>\n",
       "      <th>item_shop_first_sale</th>\n",
       "      <th>item_first_sale</th>\n",
       "    </tr>\n",
       "  </thead>\n",
       "  <tbody>\n",
       "    <tr>\n",
       "      <th>0</th>\n",
       "      <td>2</td>\n",
       "      <td>0</td>\n",
       "      <td>20</td>\n",
       "      <td>0.0</td>\n",
       "      <td>0</td>\n",
       "      <td>40</td>\n",
       "      <td>5</td>\n",
       "      <td>1335</td>\n",
       "      <td>11</td>\n",
       "      <td>4</td>\n",
       "      <td>...</td>\n",
       "      <td>0.000000</td>\n",
       "      <td>0.000000</td>\n",
       "      <td>0.000000</td>\n",
       "      <td>0.000000</td>\n",
       "      <td>0.000000</td>\n",
       "      <td>0.000000</td>\n",
       "      <td>0.000000</td>\n",
       "      <td>0.000000</td>\n",
       "      <td>0</td>\n",
       "      <td>0</td>\n",
       "    </tr>\n",
       "    <tr>\n",
       "      <th>1</th>\n",
       "      <td>2</td>\n",
       "      <td>1</td>\n",
       "      <td>15</td>\n",
       "      <td>0.0</td>\n",
       "      <td>0</td>\n",
       "      <td>76</td>\n",
       "      <td>67</td>\n",
       "      <td>42</td>\n",
       "      <td>15</td>\n",
       "      <td>31</td>\n",
       "      <td>...</td>\n",
       "      <td>0.000000</td>\n",
       "      <td>0.000000</td>\n",
       "      <td>0.000000</td>\n",
       "      <td>0.000000</td>\n",
       "      <td>0.000000</td>\n",
       "      <td>0.000000</td>\n",
       "      <td>0.000000</td>\n",
       "      <td>0.000000</td>\n",
       "      <td>0</td>\n",
       "      <td>0</td>\n",
       "    </tr>\n",
       "    <tr>\n",
       "      <th>2</th>\n",
       "      <td>2</td>\n",
       "      <td>1</td>\n",
       "      <td>18</td>\n",
       "      <td>0.0</td>\n",
       "      <td>0</td>\n",
       "      <td>76</td>\n",
       "      <td>67</td>\n",
       "      <td>42</td>\n",
       "      <td>15</td>\n",
       "      <td>31</td>\n",
       "      <td>...</td>\n",
       "      <td>0.000000</td>\n",
       "      <td>0.040816</td>\n",
       "      <td>0.000000</td>\n",
       "      <td>0.000000</td>\n",
       "      <td>0.100074</td>\n",
       "      <td>0.000000</td>\n",
       "      <td>0.000000</td>\n",
       "      <td>0.000000</td>\n",
       "      <td>3</td>\n",
       "      <td>3</td>\n",
       "    </tr>\n",
       "    <tr>\n",
       "      <th>3</th>\n",
       "      <td>2</td>\n",
       "      <td>1</td>\n",
       "      <td>19</td>\n",
       "      <td>0.0</td>\n",
       "      <td>0</td>\n",
       "      <td>76</td>\n",
       "      <td>67</td>\n",
       "      <td>42</td>\n",
       "      <td>15</td>\n",
       "      <td>31</td>\n",
       "      <td>...</td>\n",
       "      <td>0.000000</td>\n",
       "      <td>0.000000</td>\n",
       "      <td>0.116539</td>\n",
       "      <td>0.000000</td>\n",
       "      <td>0.000000</td>\n",
       "      <td>0.265500</td>\n",
       "      <td>0.000000</td>\n",
       "      <td>-0.148407</td>\n",
       "      <td>4</td>\n",
       "      <td>4</td>\n",
       "    </tr>\n",
       "    <tr>\n",
       "      <th>4</th>\n",
       "      <td>2</td>\n",
       "      <td>1</td>\n",
       "      <td>20</td>\n",
       "      <td>0.0</td>\n",
       "      <td>0</td>\n",
       "      <td>76</td>\n",
       "      <td>67</td>\n",
       "      <td>42</td>\n",
       "      <td>15</td>\n",
       "      <td>31</td>\n",
       "      <td>...</td>\n",
       "      <td>0.020000</td>\n",
       "      <td>0.000000</td>\n",
       "      <td>0.138810</td>\n",
       "      <td>0.116539</td>\n",
       "      <td>0.000000</td>\n",
       "      <td>0.301219</td>\n",
       "      <td>0.000000</td>\n",
       "      <td>-0.081304</td>\n",
       "      <td>5</td>\n",
       "      <td>5</td>\n",
       "    </tr>\n",
       "    <tr>\n",
       "      <th>11098703</th>\n",
       "      <td>45</td>\n",
       "      <td>18454</td>\n",
       "      <td>34</td>\n",
       "      <td>0.0</td>\n",
       "      <td>20</td>\n",
       "      <td>55</td>\n",
       "      <td>5</td>\n",
       "      <td>42</td>\n",
       "      <td>13</td>\n",
       "      <td>2</td>\n",
       "      <td>...</td>\n",
       "      <td>0.023810</td>\n",
       "      <td>0.071429</td>\n",
       "      <td>0.151618</td>\n",
       "      <td>0.162777</td>\n",
       "      <td>0.180531</td>\n",
       "      <td>0.279267</td>\n",
       "      <td>-0.475305</td>\n",
       "      <td>-0.292428</td>\n",
       "      <td>11</td>\n",
       "      <td>11</td>\n",
       "    </tr>\n",
       "    <tr>\n",
       "      <th>11098704</th>\n",
       "      <td>45</td>\n",
       "      <td>16188</td>\n",
       "      <td>34</td>\n",
       "      <td>0.0</td>\n",
       "      <td>20</td>\n",
       "      <td>64</td>\n",
       "      <td>5</td>\n",
       "      <td>42</td>\n",
       "      <td>14</td>\n",
       "      <td>42</td>\n",
       "      <td>...</td>\n",
       "      <td>0.071429</td>\n",
       "      <td>0.000000</td>\n",
       "      <td>0.151618</td>\n",
       "      <td>0.162777</td>\n",
       "      <td>0.000000</td>\n",
       "      <td>0.279267</td>\n",
       "      <td>0.081167</td>\n",
       "      <td>-0.292428</td>\n",
       "      <td>2</td>\n",
       "      <td>2</td>\n",
       "    </tr>\n",
       "    <tr>\n",
       "      <th>11098705</th>\n",
       "      <td>45</td>\n",
       "      <td>15757</td>\n",
       "      <td>34</td>\n",
       "      <td>0.0</td>\n",
       "      <td>20</td>\n",
       "      <td>55</td>\n",
       "      <td>5</td>\n",
       "      <td>42</td>\n",
       "      <td>13</td>\n",
       "      <td>2</td>\n",
       "      <td>...</td>\n",
       "      <td>0.226277</td>\n",
       "      <td>0.246377</td>\n",
       "      <td>0.151618</td>\n",
       "      <td>0.162777</td>\n",
       "      <td>0.180531</td>\n",
       "      <td>0.279267</td>\n",
       "      <td>0.155919</td>\n",
       "      <td>-0.292428</td>\n",
       "      <td>34</td>\n",
       "      <td>34</td>\n",
       "    </tr>\n",
       "    <tr>\n",
       "      <th>11098706</th>\n",
       "      <td>45</td>\n",
       "      <td>19648</td>\n",
       "      <td>34</td>\n",
       "      <td>0.0</td>\n",
       "      <td>20</td>\n",
       "      <td>40</td>\n",
       "      <td>5</td>\n",
       "      <td>1371</td>\n",
       "      <td>11</td>\n",
       "      <td>4</td>\n",
       "      <td>...</td>\n",
       "      <td>0.071429</td>\n",
       "      <td>0.166667</td>\n",
       "      <td>0.151618</td>\n",
       "      <td>0.162777</td>\n",
       "      <td>0.180531</td>\n",
       "      <td>0.279267</td>\n",
       "      <td>-0.091709</td>\n",
       "      <td>-0.292428</td>\n",
       "      <td>11</td>\n",
       "      <td>11</td>\n",
       "    </tr>\n",
       "    <tr>\n",
       "      <th>11098707</th>\n",
       "      <td>45</td>\n",
       "      <td>969</td>\n",
       "      <td>34</td>\n",
       "      <td>0.0</td>\n",
       "      <td>20</td>\n",
       "      <td>37</td>\n",
       "      <td>5</td>\n",
       "      <td>562</td>\n",
       "      <td>11</td>\n",
       "      <td>1</td>\n",
       "      <td>...</td>\n",
       "      <td>0.206522</td>\n",
       "      <td>0.387097</td>\n",
       "      <td>0.151618</td>\n",
       "      <td>0.162777</td>\n",
       "      <td>0.180531</td>\n",
       "      <td>0.279267</td>\n",
       "      <td>-0.605811</td>\n",
       "      <td>-0.292428</td>\n",
       "      <td>17</td>\n",
       "      <td>17</td>\n",
       "    </tr>\n",
       "  </tbody>\n",
       "</table>\n",
       "<p>10 rows × 47 columns</p>\n",
       "</div>"
      ],
      "text/plain": [
       "          shop_id  item_id  date_block_num  item_cnt_month  city_code  \\\n",
       "0               2        0              20             0.0          0   \n",
       "1               2        1              15             0.0          0   \n",
       "2               2        1              18             0.0          0   \n",
       "3               2        1              19             0.0          0   \n",
       "4               2        1              20             0.0          0   \n",
       "11098703       45    18454              34             0.0         20   \n",
       "11098704       45    16188              34             0.0         20   \n",
       "11098705       45    15757              34             0.0         20   \n",
       "11098706       45    19648              34             0.0         20   \n",
       "11098707       45      969              34             0.0         20   \n",
       "\n",
       "          item_category_id  name2  name3  type_code  sub_type_code  ...  \\\n",
       "0                       40      5   1335         11              4  ...   \n",
       "1                       76     67     42         15             31  ...   \n",
       "2                       76     67     42         15             31  ...   \n",
       "3                       76     67     42         15             31  ...   \n",
       "4                       76     67     42         15             31  ...   \n",
       "11098703                55      5     42         13              2  ...   \n",
       "11098704                64      5     42         14             42  ...   \n",
       "11098705                55      5     42         13              2  ...   \n",
       "11098706                40      5   1371         11              4  ...   \n",
       "11098707                37      5    562         11              1  ...   \n",
       "\n",
       "          month_item_avg_cnt_lag_2  month_item_avg_cnt_lag_3  \\\n",
       "0                         0.000000                  0.000000   \n",
       "1                         0.000000                  0.000000   \n",
       "2                         0.000000                  0.040816   \n",
       "3                         0.000000                  0.000000   \n",
       "4                         0.020000                  0.000000   \n",
       "11098703                  0.023810                  0.071429   \n",
       "11098704                  0.071429                  0.000000   \n",
       "11098705                  0.226277                  0.246377   \n",
       "11098706                  0.071429                  0.166667   \n",
       "11098707                  0.206522                  0.387097   \n",
       "\n",
       "          month_shop_avg_cnt_lag_1  month_shop_avg_cnt_lag_2  \\\n",
       "0                         0.000000                  0.000000   \n",
       "1                         0.000000                  0.000000   \n",
       "2                         0.000000                  0.000000   \n",
       "3                         0.116539                  0.000000   \n",
       "4                         0.138810                  0.116539   \n",
       "11098703                  0.151618                  0.162777   \n",
       "11098704                  0.151618                  0.162777   \n",
       "11098705                  0.151618                  0.162777   \n",
       "11098706                  0.151618                  0.162777   \n",
       "11098707                  0.151618                  0.162777   \n",
       "\n",
       "          month_shop_avg_cnt_lag_3  month_avg_cnt_lag_1  trend_price_lag  \\\n",
       "0                         0.000000             0.000000         0.000000   \n",
       "1                         0.000000             0.000000         0.000000   \n",
       "2                         0.100074             0.000000         0.000000   \n",
       "3                         0.000000             0.265500         0.000000   \n",
       "4                         0.000000             0.301219         0.000000   \n",
       "11098703                  0.180531             0.279267        -0.475305   \n",
       "11098704                  0.000000             0.279267         0.081167   \n",
       "11098705                  0.180531             0.279267         0.155919   \n",
       "11098706                  0.180531             0.279267        -0.091709   \n",
       "11098707                  0.180531             0.279267        -0.605811   \n",
       "\n",
       "          trend_revenue_lag_1  item_shop_first_sale  item_first_sale  \n",
       "0                    0.000000                     0                0  \n",
       "1                    0.000000                     0                0  \n",
       "2                    0.000000                     3                3  \n",
       "3                   -0.148407                     4                4  \n",
       "4                   -0.081304                     5                5  \n",
       "11098703            -0.292428                    11               11  \n",
       "11098704            -0.292428                     2                2  \n",
       "11098705            -0.292428                    34               34  \n",
       "11098706            -0.292428                    11               11  \n",
       "11098707            -0.292428                    17               17  \n",
       "\n",
       "[10 rows x 47 columns]"
      ]
     },
     "execution_count": 86,
     "metadata": {},
     "output_type": "execute_result"
    }
   ],
   "source": [
    "train_data = train_data[train_data['date_block_num'] > 3]\n",
    "train_data.head().append(train_data.tail())"
   ]
  },
  {
   "cell_type": "code",
   "execution_count": null,
   "id": "saved-underground",
   "metadata": {},
   "outputs": [],
   "source": [
    "# XGboost"
   ]
  },
  {
   "cell_type": "code",
   "execution_count": null,
   "id": "comic-bookmark",
   "metadata": {},
   "outputs": [],
   "source": [
    "\"\"\"\n",
    "X_train = train_data[train_data.date_block_num < 33].drop(['item_cnt_month'], axis=1)\n",
    "Y_train = train_data[train_data.date_block_num < 33]['item_cnt_month']\n",
    "X_valid = train_data[train_data.date_block_num == 33].drop(['item_cnt_month'], axis=1)\n",
    "Y_valid = train_data[train_data.date_block_num == 33]['item_cnt_month']\n",
    "X_test = train_data[train_data.date_block_num == 34].drop(['item_cnt_month'], axis=1)\n",
    "\"\"\""
   ]
  },
  {
   "cell_type": "code",
   "execution_count": 87,
   "id": "blessed-comment",
   "metadata": {},
   "outputs": [],
   "source": [
    "X_train = train_data[train_data.date_block_num < 33].drop(['item_cnt_month'], axis=1)\n",
    "Y_train = train_data[train_data.date_block_num < 33]['item_cnt_month']\n",
    "X_valid = train_data[train_data.date_block_num == 33].drop(['item_cnt_month'], axis=1)\n",
    "Y_valid = train_data[train_data.date_block_num == 33]['item_cnt_month']\n",
    "X_test = train_data[train_data.date_block_num == 34].drop(['item_cnt_month'], axis=1)"
   ]
  },
  {
   "cell_type": "code",
   "execution_count": null,
   "id": "little-clothing",
   "metadata": {},
   "outputs": [],
   "source": [
    "\"\"\"\n",
    "del shops_df\n",
    "del items_df\n",
    "del item_categories_df\n",
    "del sales_df\n",
    "del train_data\n",
    "\n",
    "gc.collect()\n",
    "\"\"\""
   ]
  },
  {
   "cell_type": "code",
   "execution_count": null,
   "id": "broken-intermediate",
   "metadata": {},
   "outputs": [],
   "source": [
    "\"\"\"\n",
    "from xgboost import XGBRegressor, plot_importance\n",
    "import matplotlib.pyplot as plt\n",
    "\"\"\""
   ]
  },
  {
   "cell_type": "code",
   "execution_count": 90,
   "id": "asian-feature",
   "metadata": {},
   "outputs": [],
   "source": [
    "from xgboost import XGBRegressor, plot_importance   #xgboost: treeの勾配ブースティングによる高性能な分類・予測モデル。kaggleで大人気\n",
    "import matplotlib.pyplot as plt"
   ]
  },
  {
   "cell_type": "code",
   "execution_count": null,
   "id": "substantial-embassy",
   "metadata": {},
   "outputs": [],
   "source": [
    "# XGBoost の特徴"
   ]
  },
  {
   "cell_type": "code",
   "execution_count": null,
   "id": "static-trader",
   "metadata": {},
   "outputs": [],
   "source": [
    "\"\"\"\n",
    "XGBoostとは，Gradient BoostingとRandom Forestsを組み合わせたアンサンブル学習である\n",
    "\n",
    "高いスケーリング性を持つend-to-endなtree boostingシステムをもつ\n",
    "\n",
    "sparseなデータ(値が欠損，0が多い，one-hot encodingなどの特殊な処理を施したなど)について，予め分岐の方向を決めるアルゴリズムを導入している\n",
    "\n",
    "CPU外(out-of-core)での学習が可能であり，計算速度が高速化されている\n",
    "\n",
    "複数のパラメータ調整によるチューニングが必要であり，最適化はグリッドサーチやCross Validationを複数行う\n",
    "\n",
    "汎化能力を上げるために，学習率(XGBoostパッケージではパラメータeta)を下げていき，その都度最適化を行う\n",
    "\n",
    "最後の２つについては，下記の記事にパラメータのチューニング方法が紹介されています．\n",
    "Complete Guide to Parameter Tuning in XGBoost (with codes in Python) - Analytics Vidhya\n",
    "\"\"\""
   ]
  },
  {
   "cell_type": "code",
   "execution_count": null,
   "id": "suspected-jumping",
   "metadata": {},
   "outputs": [],
   "source": [
    "\"\"\"\n",
    "model = XGBRegressor(\n",
    "    max_depth=8,\n",
    "    n_estimators=1000,\n",
    "    min_child_weight=300, \n",
    "    colsample_bytree=0.8, \n",
    "    subsample=0.8, \n",
    "    eta=0.1,    \n",
    "    seed=42)\n",
    "\n",
    "model.fit(\n",
    "    X_train,\n",
    "    Y_train,\n",
    "    eval_metric=\"rmse\",\n",
    "    eval_set=[(X_train, Y_train), (X_valid, Y_valid)],\n",
    "    verbose=True,\n",
    "    early_stopping_rounds = 10)\n",
    "\"\"\""
   ]
  },
  {
   "cell_type": "code",
   "execution_count": 93,
   "id": "velvet-pasta",
   "metadata": {},
   "outputs": [
    {
     "name": "stdout",
     "output_type": "stream",
     "text": [
      "[0]\tvalidation_0-rmse:1.17954\tvalidation_1-rmse:1.11773\n",
      "[1]\tvalidation_0-rmse:1.13361\tvalidation_1-rmse:1.08080\n",
      "[2]\tvalidation_0-rmse:1.09150\tvalidation_1-rmse:1.05214\n",
      "[3]\tvalidation_0-rmse:1.06009\tvalidation_1-rmse:1.02849\n",
      "[4]\tvalidation_0-rmse:1.03379\tvalidation_1-rmse:1.01088\n",
      "[5]\tvalidation_0-rmse:1.00641\tvalidation_1-rmse:0.99155\n",
      "[6]\tvalidation_0-rmse:0.98762\tvalidation_1-rmse:0.97930\n",
      "[7]\tvalidation_0-rmse:0.97122\tvalidation_1-rmse:0.96849\n",
      "[8]\tvalidation_0-rmse:0.95569\tvalidation_1-rmse:0.95856\n",
      "[9]\tvalidation_0-rmse:0.94188\tvalidation_1-rmse:0.94900\n",
      "[10]\tvalidation_0-rmse:0.93025\tvalidation_1-rmse:0.94176\n",
      "[11]\tvalidation_0-rmse:0.92058\tvalidation_1-rmse:0.93605\n",
      "[12]\tvalidation_0-rmse:0.91241\tvalidation_1-rmse:0.93170\n",
      "[13]\tvalidation_0-rmse:0.90567\tvalidation_1-rmse:0.92752\n",
      "[14]\tvalidation_0-rmse:0.89892\tvalidation_1-rmse:0.92357\n",
      "[15]\tvalidation_0-rmse:0.89328\tvalidation_1-rmse:0.92137\n",
      "[16]\tvalidation_0-rmse:0.88922\tvalidation_1-rmse:0.91977\n",
      "[17]\tvalidation_0-rmse:0.88523\tvalidation_1-rmse:0.91780\n",
      "[18]\tvalidation_0-rmse:0.88159\tvalidation_1-rmse:0.91640\n",
      "[19]\tvalidation_0-rmse:0.87838\tvalidation_1-rmse:0.91502\n",
      "[20]\tvalidation_0-rmse:0.87587\tvalidation_1-rmse:0.91354\n",
      "[21]\tvalidation_0-rmse:0.87291\tvalidation_1-rmse:0.91202\n",
      "[22]\tvalidation_0-rmse:0.87056\tvalidation_1-rmse:0.91106\n",
      "[23]\tvalidation_0-rmse:0.86845\tvalidation_1-rmse:0.90978\n",
      "[24]\tvalidation_0-rmse:0.86693\tvalidation_1-rmse:0.90925\n",
      "[25]\tvalidation_0-rmse:0.86512\tvalidation_1-rmse:0.90799\n",
      "[26]\tvalidation_0-rmse:0.86316\tvalidation_1-rmse:0.90704\n",
      "[27]\tvalidation_0-rmse:0.86148\tvalidation_1-rmse:0.90715\n",
      "[28]\tvalidation_0-rmse:0.86028\tvalidation_1-rmse:0.90708\n",
      "[29]\tvalidation_0-rmse:0.85919\tvalidation_1-rmse:0.90638\n",
      "[30]\tvalidation_0-rmse:0.85795\tvalidation_1-rmse:0.90628\n",
      "[31]\tvalidation_0-rmse:0.85707\tvalidation_1-rmse:0.90567\n",
      "[32]\tvalidation_0-rmse:0.85562\tvalidation_1-rmse:0.90455\n",
      "[33]\tvalidation_0-rmse:0.85491\tvalidation_1-rmse:0.90440\n",
      "[34]\tvalidation_0-rmse:0.85396\tvalidation_1-rmse:0.90446\n",
      "[35]\tvalidation_0-rmse:0.85335\tvalidation_1-rmse:0.90387\n",
      "[36]\tvalidation_0-rmse:0.85241\tvalidation_1-rmse:0.90334\n",
      "[37]\tvalidation_0-rmse:0.85198\tvalidation_1-rmse:0.90282\n",
      "[38]\tvalidation_0-rmse:0.85142\tvalidation_1-rmse:0.90278\n",
      "[39]\tvalidation_0-rmse:0.85068\tvalidation_1-rmse:0.90278\n",
      "[40]\tvalidation_0-rmse:0.85005\tvalidation_1-rmse:0.90277\n",
      "[41]\tvalidation_0-rmse:0.84930\tvalidation_1-rmse:0.90247\n",
      "[42]\tvalidation_0-rmse:0.84879\tvalidation_1-rmse:0.90258\n",
      "[43]\tvalidation_0-rmse:0.84844\tvalidation_1-rmse:0.90244\n",
      "[44]\tvalidation_0-rmse:0.84762\tvalidation_1-rmse:0.90203\n",
      "[45]\tvalidation_0-rmse:0.84718\tvalidation_1-rmse:0.90209\n",
      "[46]\tvalidation_0-rmse:0.84666\tvalidation_1-rmse:0.90187\n",
      "[47]\tvalidation_0-rmse:0.84604\tvalidation_1-rmse:0.90184\n",
      "[48]\tvalidation_0-rmse:0.84527\tvalidation_1-rmse:0.89963\n",
      "[49]\tvalidation_0-rmse:0.84491\tvalidation_1-rmse:0.89932\n",
      "[50]\tvalidation_0-rmse:0.84432\tvalidation_1-rmse:0.89919\n",
      "[51]\tvalidation_0-rmse:0.84344\tvalidation_1-rmse:0.89896\n",
      "[52]\tvalidation_0-rmse:0.84313\tvalidation_1-rmse:0.89886\n",
      "[53]\tvalidation_0-rmse:0.84284\tvalidation_1-rmse:0.89908\n",
      "[54]\tvalidation_0-rmse:0.84237\tvalidation_1-rmse:0.89902\n",
      "[55]\tvalidation_0-rmse:0.84205\tvalidation_1-rmse:0.89897\n",
      "[56]\tvalidation_0-rmse:0.84127\tvalidation_1-rmse:0.89856\n",
      "[57]\tvalidation_0-rmse:0.84089\tvalidation_1-rmse:0.89758\n",
      "[58]\tvalidation_0-rmse:0.84047\tvalidation_1-rmse:0.89751\n",
      "[59]\tvalidation_0-rmse:0.83996\tvalidation_1-rmse:0.89783\n",
      "[60]\tvalidation_0-rmse:0.83925\tvalidation_1-rmse:0.89809\n",
      "[61]\tvalidation_0-rmse:0.83895\tvalidation_1-rmse:0.89790\n",
      "[62]\tvalidation_0-rmse:0.83866\tvalidation_1-rmse:0.89809\n",
      "[63]\tvalidation_0-rmse:0.83816\tvalidation_1-rmse:0.89792\n",
      "[64]\tvalidation_0-rmse:0.83769\tvalidation_1-rmse:0.89772\n",
      "[65]\tvalidation_0-rmse:0.83730\tvalidation_1-rmse:0.89767\n",
      "[66]\tvalidation_0-rmse:0.83699\tvalidation_1-rmse:0.89785\n",
      "[67]\tvalidation_0-rmse:0.83679\tvalidation_1-rmse:0.89780\n",
      "[68]\tvalidation_0-rmse:0.83650\tvalidation_1-rmse:0.89800\n"
     ]
    },
    {
     "data": {
      "text/plain": [
       "XGBRegressor(base_score=0.5, booster='gbtree', colsample_bylevel=1,\n",
       "             colsample_bynode=1, colsample_bytree=0.8, eta=0.1, gamma=0,\n",
       "             gpu_id=-1, importance_type='gain', interaction_constraints='',\n",
       "             learning_rate=0.100000001, max_delta_step=0, max_depth=8,\n",
       "             min_child_weight=300, missing=nan, monotone_constraints='()',\n",
       "             n_estimators=1000, n_jobs=16, num_parallel_tree=1, random_state=42,\n",
       "             reg_alpha=0, reg_lambda=1, scale_pos_weight=1, seed=42,\n",
       "             subsample=0.8, tree_method='approx', validate_parameters=1,\n",
       "             verbosity=None)"
      ]
     },
     "execution_count": 93,
     "metadata": {},
     "output_type": "execute_result"
    }
   ],
   "source": [
    "model = XGBRegressor(\n",
    "    max_depth=8,\n",
    "    n_estimators=1000,\n",
    "    min_child_weight=300,\n",
    "    colsample_bytree=0.8,\n",
    "    subsample=0.8,\n",
    "    eta=0.1,\n",
    "    seed=42)\n",
    "\n",
    "model.fit(\n",
    "    X_train,\n",
    "    Y_train,\n",
    "    eval_metric='rmse',    #RMSEは値が小さいほど予実があっているということになる\n",
    "    eval_set=[(X_train, Y_train), (X_valid, Y_valid)],\n",
    "    verbose=True,\n",
    "    early_stopping_rounds = 10)    "
   ]
  },
  {
   "cell_type": "code",
   "execution_count": 94,
   "id": "southwest-thriller",
   "metadata": {},
   "outputs": [],
   "source": [
    "submission = pd.read_csv(DATA_PATH + 'sample_submission.csv')"
   ]
  },
  {
   "cell_type": "code",
   "execution_count": null,
   "id": "isolated-mother",
   "metadata": {},
   "outputs": [],
   "source": [
    "\"\"\"\n",
    "y_pred = model.predict(X_test).clip(0,20)\n",
    "submission['item_cnt_month'] = y_pred \n",
    "submission.to_csv('future_sales_pred.csv', index=False)\n",
    "\"\"\""
   ]
  },
  {
   "cell_type": "code",
   "execution_count": 98,
   "id": "modified-lawyer",
   "metadata": {},
   "outputs": [],
   "source": [
    "y_pred = model.predict(X_test).clip(0,20)\n",
    "submission['item_cnt_month'] = y_pred\n",
    "submission.to_csv('future_sales_pred.csv', index=False)"
   ]
  },
  {
   "cell_type": "code",
   "execution_count": null,
   "id": "recognized-circuit",
   "metadata": {},
   "outputs": [],
   "source": [
    "\"\"\"\n",
    "def plot_features(booster, figsize):    \n",
    "    fig, ax = plt.subplots(1, 1, figsize=figsize)\n",
    "    return plot_importance(booster=booster, ax=ax)\n",
    "\n",
    "plot_features(model, (10, 14))\n",
    "\"\"\""
   ]
  },
  {
   "cell_type": "code",
   "execution_count": 97,
   "id": "sweet-integral",
   "metadata": {},
   "outputs": [
    {
     "data": {
      "text/plain": [
       "<AxesSubplot:title={'center':'Feature importance'}, xlabel='F score', ylabel='Features'>"
      ]
     },
     "execution_count": 97,
     "metadata": {},
     "output_type": "execute_result"
    },
    {
     "data": {
      "image/png": "[encoded data removed]",
      "text/plain": [
       "<Figure size 720x1008 with 1 Axes>"
      ]
     },
     "metadata": {
      "needs_background": "light"
     },
     "output_type": "display_data"
    }
   ],
   "source": [
    "def plot_features(booster, figsize):\n",
    "    fig, ax = plt.subplots(1, 1, figsize=figsize)\n",
    "    return plot_importance(booster=booster, ax=ax)\n",
    "\n",
    "plot_features(model, (10, 14))"
   ]
  },
  {
   "cell_type": "code",
   "execution_count": null,
   "id": "unlikely-screen",
   "metadata": {},
   "outputs": [],
   "source": []
  }
 ],
 "metadata": {
  "kernelspec": {
   "display_name": "Python 3",
   "language": "python",
   "name": "python3"
  },
  "language_info": {
   "codemirror_mode": {
    "name": "ipython",
    "version": 3
   },
   "file_extension": ".py",
   "mimetype": "text/x-python",
   "name": "python",
   "nbconvert_exporter": "python",
   "pygments_lexer": "ipython3",
   "version": "3.8.5"
  }
 },
 "nbformat": 4,
 "nbformat_minor": 5
}
