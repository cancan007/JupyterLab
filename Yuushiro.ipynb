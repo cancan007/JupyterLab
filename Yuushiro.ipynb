{
 "cells": [
  {
   "cell_type": "code",
   "execution_count": 1,
   "id": "3ba69da5-7c0b-430c-a172-d936670aa205",
   "metadata": {},
   "outputs": [],
   "source": [
    "import numpy as np\n",
    "import pandas as  pd\n",
    "import matplotlib.pyplot as plt\n"
   ]
  },
  {
   "cell_type": "code",
   "execution_count": 14,
   "id": "9ed8e3b7-3438-4b11-924d-9b57636f79e2",
   "metadata": {},
   "outputs": [],
   "source": [
    "\n",
    "class CreateGraph():\n",
    "    \n",
    "    def __init__(self, p, q):\n",
    "        self.n = 10\n",
    "        self.dt = 1\n",
    "        self.m =2\n",
    "        self.k = 3\n",
    "        self.p = p\n",
    "        self.q = q\n",
    "        \n",
    "        self.t_list = []\n",
    "        self.p_list = []\n",
    "        self.q_list = []\n",
    "        \n",
    "    \n",
    "    def calculate(self):\n",
    "        tq = 0\n",
    "        tp = 0\n",
    "        t_list = self.t_list\n",
    "        p_list = self.p_list\n",
    "        q_list = self.q_list\n",
    "        n = self.n\n",
    "        dt = self.dt\n",
    "        m = self.m\n",
    "        k = self.k\n",
    "        p = self.p\n",
    "        q = self.q\n",
    "        \n",
    "        q_list.append(q)\n",
    "        p_list.append(p)\n",
    "        t_list.append(0)\n",
    "        \n",
    "        for i in range(n):\n",
    "            if tq == 0:\n",
    "                tq = q + dt*(p/m)\n",
    "                tp = p - dt*(k*tq)\n",
    "                q_list.append(tq)\n",
    "                p_list.append(tp)\n",
    "                t_list.append(dt)\n",
    "            else:\n",
    "                dt = t_list[-1] + self.dt\n",
    "\n",
    "                tq = tq + dt*(tp/m)\n",
    "                tp = tp - dt*(k*tq)\n",
    "                q_list.append(tq)\n",
    "                p_list.append(tp)\n",
    "                t_list.append(dt)\n",
    "        self.t_list = t_list\n",
    "        self.q_list = q_list\n",
    "        self.p_list = p_list\n",
    "    \n",
    "    def output_graph(self, w=10, h=8):\n",
    "        tl = self.t_list\n",
    "        ql = self.q_list\n",
    "        pl = self.p_list\n",
    "        \n",
    "        fig = plt.figure(figsize=(w, h))\n",
    "        ax = fig.add_subplot(111)\n",
    "        x = tl\n",
    "        y = ql\n",
    "        ax.scatter(x, y, color='blue', marker='o')\n",
    "        ax.grid(True)\n",
    "        ax.set_xlim(0, max(x))\n",
    "        ax.set_ylim(min(y), max(y))\n",
    "        ax.set_xlabel('[s]', fontsize=22)\n",
    "        ax.set_ylabel('q', fontsize=22)\n",
    "        ax.set_title('Graph of t-q', fontsize=35, color='blue')\n",
    "        fig.savefig(\"q-graph.jpg\" ,bbox_inches='tight',pad_inches = 0)\n",
    "        fig.show()\n",
    "        \n",
    "        fig = plt.figure(figsize=(w, h))\n",
    "        ax = fig.add_subplot(111)\n",
    "        x = tl\n",
    "        y = pl\n",
    "        ax.scatter(x, y, color='green', marker='o')\n",
    "        ax.grid(True)\n",
    "        ax.set_xlim(0, max(x))\n",
    "        ax.set_ylim(min(y), max(y))\n",
    "        ax.set_xlabel('[s]', fontsize=22)\n",
    "        ax.set_ylabel('p', fontsize=22)\n",
    "        ax.set_title('Graph of t-p', fontsize=35, color='green')\n",
    "        fig.savefig(\"p-graph.jpg\" ,bbox_inches='tight',pad_inches = 0)\n",
    "        fig.show()"
   ]
  },
  {
   "cell_type": "code",
   "execution_count": 16,
   "id": "219c2784-e2bc-4495-a6d6-03218ac9e3ce",
   "metadata": {},
   "outputs": [
    {
     "name": "stderr",
     "output_type": "stream",
     "text": [
      "<ipython-input-14-ff3d0535a5a7>:69: UserWarning: Matplotlib is currently using module://ipykernel.pylab.backend_inline, which is a non-GUI backend, so cannot show the figure.\n",
      "  fig.show()\n",
      "<ipython-input-14-ff3d0535a5a7>:83: UserWarning: Matplotlib is currently using module://ipykernel.pylab.backend_inline, which is a non-GUI backend, so cannot show the figure.\n",
      "  fig.show()\n"
     ]
    },
    {
     "data": {
      "image/png": "[encoded data removed]",
      "text/plain": [
       "<Figure size 720x576 with 1 Axes>"
      ]
     },
     "metadata": {
      "needs_background": "light"
     },
     "output_type": "display_data"
    },
    {
     "data": {
      "image/png": "[encoded data removed]",
      "text/plain": [
       "<Figure size 720x576 with 1 Axes>"
      ]
     },
     "metadata": {
      "needs_background": "light"
     },
     "output_type": "display_data"
    }
   ],
   "source": [
    "graph = CreateGraph(1.01, 1.02)\n",
    "graph.calculate()\n",
    "graph.output_graph()"
   ]
  },
  {
   "cell_type": "code",
   "execution_count": 18,
   "id": "67fcc143-e490-4e84-8077-dc27cde138e2",
   "metadata": {},
   "outputs": [],
   "source": [
    "#!jupyter nbconvert --to python Yuushiro.ipynb"
   ]
  },
  {
   "cell_type": "code",
   "execution_count": null,
   "id": "de2bcdc9-1d43-49de-9676-5a48fbff631d",
   "metadata": {},
   "outputs": [],
   "source": []
  }
 ],
 "metadata": {
  "kernelspec": {
   "display_name": "Python 3",
   "language": "python",
   "name": "python3"
  },
  "language_info": {
   "codemirror_mode": {
    "name": "ipython",
    "version": 3
   },
   "file_extension": ".py",
   "mimetype": "text/x-python",
   "name": "python",
   "nbconvert_exporter": "python",
   "pygments_lexer": "ipython3",
   "version": "3.8.5"
  }
 },
 "nbformat": 4,
 "nbformat_minor": 5
}
