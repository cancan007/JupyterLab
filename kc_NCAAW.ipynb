{
 "cells": [
  {
   "cell_type": "code",
   "execution_count": 1,
   "id": "worst-consensus",
   "metadata": {},
   "outputs": [
    {
     "data": {
      "text/plain": [
       "\"\\nimport os\\nimport re\\nimport sklearn\\nimport numpy as np \\nimport pandas as pd\\nimport seaborn as sns\\nimport matplotlib.pyplot as plt\\n\\nfrom collections import Counter\\nfrom sklearn.metrics import *\\nfrom sklearn.linear_model import *\\nfrom sklearn.model_selection import *\\n\\npd.set_option('display.max_columns', None)\\n\""
      ]
     },
     "execution_count": 1,
     "metadata": {},
     "output_type": "execute_result"
    }
   ],
   "source": [
    "\"\"\"\n",
    "import os\n",
    "import re\n",
    "import sklearn\n",
    "import numpy as np \n",
    "import pandas as pd\n",
    "import seaborn as sns\n",
    "import matplotlib.pyplot as plt\n",
    "\n",
    "from collections import Counter\n",
    "from sklearn.metrics import *\n",
    "from sklearn.linear_model import *\n",
    "from sklearn.model_selection import *\n",
    "\n",
    "pd.set_option('display.max_columns', None)\n",
    "\"\"\""
   ]
  },
  {
   "cell_type": "code",
   "execution_count": 2,
   "id": "limited-source",
   "metadata": {},
   "outputs": [],
   "source": [
    "# https://www.kaggle.com/theoviel/ncaa-starter-the-simpler-the-better\n",
    "import os #ファイル、ディレクトリ操作\n",
    "import re\n",
    "import sklearn\n",
    "import numpy as np\n",
    "import pandas as pd\n",
    "import seaborn as sns\n",
    "import matplotlib.pyplot as plt\n",
    "\n",
    "from collections import Counter\n",
    "from sklearn.metrics import *\n",
    "from sklearn.linear_model import *\n",
    "from sklearn.model_selection import *\n",
    "\n",
    "pd.set_option('display.max_columns', None)"
   ]
  },
  {
   "cell_type": "code",
   "execution_count": 3,
   "id": "native-plate",
   "metadata": {},
   "outputs": [
    {
     "data": {
      "text/plain": [
       "\"\\n# DATA_PATH = '../input/ncaam-march-mania-2021/'\\nDATA_PATH = '../input/ncaaw-march-mania-2021/'\\nDATA_PATH_M = '../input/ncaam-march-mania-2021/'\\n\\nfor filename in os.listdir(DATA_PATH):\\n    print(filename)\\n\""
      ]
     },
     "execution_count": 3,
     "metadata": {},
     "output_type": "execute_result"
    }
   ],
   "source": [
    "\"\"\"\n",
    "# DATA_PATH = '../input/ncaam-march-mania-2021/'\n",
    "DATA_PATH = '../input/ncaaw-march-mania-2021/'\n",
    "DATA_PATH_M = '../input/ncaam-march-mania-2021/'\n",
    "\n",
    "for filename in os.listdir(DATA_PATH):\n",
    "    print(filename)\n",
    "\"\"\""
   ]
  },
  {
   "cell_type": "code",
   "execution_count": 4,
   "id": "herbal-thunder",
   "metadata": {},
   "outputs": [
    {
     "name": "stdout",
     "output_type": "stream",
     "text": [
      "Cities.csv\n",
      "Conferences.csv\n",
      "WGameCities.csv\n",
      "WNCAATourneyCompactResults.csv\n",
      "WNCAATourneyDetailedResults.csv\n",
      "WNCAATourneySeeds.csv\n",
      "WNCAATourneySlots.csv\n",
      "WRegularSeasonCompactResults.csv\n",
      "WRegularSeasonDetailedResults.csv\n",
      "WSampleSubmissionStage1.csv\n",
      "WSeasons.csv\n",
      "WTeamConferences.csv\n",
      "WTeams.csv\n",
      "WTeamSpellings.csv\n"
     ]
    }
   ],
   "source": [
    "DATA_PATH = 'C:\\\\Users\\\\shota\\\\OneDrive\\\\ドキュメント\\\\Data\\\\Kaggle\\\\kc_NCAAW\\\\WDataFiles_Stage1\\\\'\n",
    "DATA_PATH_M = 'C:\\\\Users\\\\shota\\\\OneDrive\\\\ドキュメント\\\\Data\\\\Kaggle\\\\kc_NCAAW\\\\WDataFiles_Stage1\\\\'\n",
    "\n",
    "for filename in os.listdir(DATA_PATH):\n",
    "    print(filename)"
   ]
  },
  {
   "cell_type": "code",
   "execution_count": 5,
   "id": "falling-prototype",
   "metadata": {},
   "outputs": [
    {
     "data": {
      "text/plain": [
       "'\\n# df_seeds = pd.read_csv(DATA_PATH + \"MNCAATourneySeeds.csv\")\\ndf_seeds = pd.read_csv(DATA_PATH + \"WNCAATourneySeeds.csv\")\\ndf_seeds.head()\\n\\n'"
      ]
     },
     "execution_count": 5,
     "metadata": {},
     "output_type": "execute_result"
    }
   ],
   "source": [
    "\"\"\"\n",
    "# df_seeds = pd.read_csv(DATA_PATH + \"MNCAATourneySeeds.csv\")\n",
    "df_seeds = pd.read_csv(DATA_PATH + \"WNCAATourneySeeds.csv\")\n",
    "df_seeds.head()\n",
    "\n",
    "\"\"\""
   ]
  },
  {
   "cell_type": "code",
   "execution_count": 6,
   "id": "dental-money",
   "metadata": {},
   "outputs": [
    {
     "data": {
      "text/html": [
       "<div>\n",
       "<style scoped>\n",
       "    .dataframe tbody tr th:only-of-type {\n",
       "        vertical-align: middle;\n",
       "    }\n",
       "\n",
       "    .dataframe tbody tr th {\n",
       "        vertical-align: top;\n",
       "    }\n",
       "\n",
       "    .dataframe thead th {\n",
       "        text-align: right;\n",
       "    }\n",
       "</style>\n",
       "<table border=\"1\" class=\"dataframe\">\n",
       "  <thead>\n",
       "    <tr style=\"text-align: right;\">\n",
       "      <th></th>\n",
       "      <th>Season</th>\n",
       "      <th>Seed</th>\n",
       "      <th>TeamID</th>\n",
       "    </tr>\n",
       "  </thead>\n",
       "  <tbody>\n",
       "    <tr>\n",
       "      <th>0</th>\n",
       "      <td>1998</td>\n",
       "      <td>W01</td>\n",
       "      <td>3330</td>\n",
       "    </tr>\n",
       "    <tr>\n",
       "      <th>1</th>\n",
       "      <td>1998</td>\n",
       "      <td>W02</td>\n",
       "      <td>3163</td>\n",
       "    </tr>\n",
       "    <tr>\n",
       "      <th>2</th>\n",
       "      <td>1998</td>\n",
       "      <td>W03</td>\n",
       "      <td>3112</td>\n",
       "    </tr>\n",
       "    <tr>\n",
       "      <th>3</th>\n",
       "      <td>1998</td>\n",
       "      <td>W04</td>\n",
       "      <td>3301</td>\n",
       "    </tr>\n",
       "    <tr>\n",
       "      <th>4</th>\n",
       "      <td>1998</td>\n",
       "      <td>W05</td>\n",
       "      <td>3272</td>\n",
       "    </tr>\n",
       "  </tbody>\n",
       "</table>\n",
       "</div>"
      ],
      "text/plain": [
       "   Season Seed  TeamID\n",
       "0    1998  W01    3330\n",
       "1    1998  W02    3163\n",
       "2    1998  W03    3112\n",
       "3    1998  W04    3301\n",
       "4    1998  W05    3272"
      ]
     },
     "execution_count": 6,
     "metadata": {},
     "output_type": "execute_result"
    }
   ],
   "source": [
    "df_seeds = pd.read_csv(DATA_PATH + \"WNCAATourneySeeds.csv\")\n",
    "df_seeds.head()"
   ]
  },
  {
   "cell_type": "code",
   "execution_count": 7,
   "id": "vital-fault",
   "metadata": {},
   "outputs": [
    {
     "data": {
      "text/plain": [
       "'\\n# df_season_results = pd.read_csv(DATA_PATH + \"MRegularSeasonCompactResults.csv\")\\ndf_season_results = pd.read_csv(DATA_PATH + \"WRegularSeasonCompactResults.csv\")\\ndf_season_results.drop([\\'NumOT\\', \\'WLoc\\'], axis=1, inplace=True)\\n'"
      ]
     },
     "execution_count": 7,
     "metadata": {},
     "output_type": "execute_result"
    }
   ],
   "source": [
    "\"\"\"\n",
    "# df_season_results = pd.read_csv(DATA_PATH + \"MRegularSeasonCompactResults.csv\")\n",
    "df_season_results = pd.read_csv(DATA_PATH + \"WRegularSeasonCompactResults.csv\")\n",
    "df_season_results.drop(['NumOT', 'WLoc'], axis=1, inplace=True)\n",
    "\"\"\""
   ]
  },
  {
   "cell_type": "code",
   "execution_count": 8,
   "id": "confirmed-rating",
   "metadata": {},
   "outputs": [],
   "source": [
    "df_season_results = pd.read_csv(DATA_PATH + \"WRegularSeasonCompactResults.csv\")\n",
    "df_season_results.drop(['NumOT', 'WLoc'], axis=1, inplace=True)"
   ]
  },
  {
   "cell_type": "code",
   "execution_count": 9,
   "id": "nervous-livestock",
   "metadata": {},
   "outputs": [
    {
     "data": {
      "text/plain": [
       "\"\\ndf_season_results['ScoreGap'] = df_season_results['WScore'] - df_season_results['LScore']\\n\""
      ]
     },
     "execution_count": 9,
     "metadata": {},
     "output_type": "execute_result"
    }
   ],
   "source": [
    "\"\"\"\n",
    "df_season_results['ScoreGap'] = df_season_results['WScore'] - df_season_results['LScore']\n",
    "\"\"\""
   ]
  },
  {
   "cell_type": "code",
   "execution_count": 10,
   "id": "cultural-going",
   "metadata": {},
   "outputs": [],
   "source": [
    "df_season_results['ScoreGap'] = df_season_results['WScore'] - df_season_results['LScore']"
   ]
  },
  {
   "cell_type": "code",
   "execution_count": 11,
   "id": "attended-vision",
   "metadata": {},
   "outputs": [
    {
     "data": {
      "text/html": [
       "<div>\n",
       "<style scoped>\n",
       "    .dataframe tbody tr th:only-of-type {\n",
       "        vertical-align: middle;\n",
       "    }\n",
       "\n",
       "    .dataframe tbody tr th {\n",
       "        vertical-align: top;\n",
       "    }\n",
       "\n",
       "    .dataframe thead th {\n",
       "        text-align: right;\n",
       "    }\n",
       "</style>\n",
       "<table border=\"1\" class=\"dataframe\">\n",
       "  <thead>\n",
       "    <tr style=\"text-align: right;\">\n",
       "      <th></th>\n",
       "      <th>Season</th>\n",
       "      <th>DayNum</th>\n",
       "      <th>WTeamID</th>\n",
       "      <th>WScore</th>\n",
       "      <th>LTeamID</th>\n",
       "      <th>LScore</th>\n",
       "      <th>ScoreGap</th>\n",
       "    </tr>\n",
       "  </thead>\n",
       "  <tbody>\n",
       "    <tr>\n",
       "      <th>0</th>\n",
       "      <td>1998</td>\n",
       "      <td>18</td>\n",
       "      <td>3104</td>\n",
       "      <td>91</td>\n",
       "      <td>3202</td>\n",
       "      <td>41</td>\n",
       "      <td>50</td>\n",
       "    </tr>\n",
       "    <tr>\n",
       "      <th>1</th>\n",
       "      <td>1998</td>\n",
       "      <td>18</td>\n",
       "      <td>3163</td>\n",
       "      <td>87</td>\n",
       "      <td>3221</td>\n",
       "      <td>76</td>\n",
       "      <td>11</td>\n",
       "    </tr>\n",
       "    <tr>\n",
       "      <th>2</th>\n",
       "      <td>1998</td>\n",
       "      <td>18</td>\n",
       "      <td>3222</td>\n",
       "      <td>66</td>\n",
       "      <td>3261</td>\n",
       "      <td>59</td>\n",
       "      <td>7</td>\n",
       "    </tr>\n",
       "    <tr>\n",
       "      <th>3</th>\n",
       "      <td>1998</td>\n",
       "      <td>18</td>\n",
       "      <td>3307</td>\n",
       "      <td>69</td>\n",
       "      <td>3365</td>\n",
       "      <td>62</td>\n",
       "      <td>7</td>\n",
       "    </tr>\n",
       "    <tr>\n",
       "      <th>4</th>\n",
       "      <td>1998</td>\n",
       "      <td>18</td>\n",
       "      <td>3349</td>\n",
       "      <td>115</td>\n",
       "      <td>3411</td>\n",
       "      <td>35</td>\n",
       "      <td>80</td>\n",
       "    </tr>\n",
       "  </tbody>\n",
       "</table>\n",
       "</div>"
      ],
      "text/plain": [
       "   Season  DayNum  WTeamID  WScore  LTeamID  LScore  ScoreGap\n",
       "0    1998      18     3104      91     3202      41        50\n",
       "1    1998      18     3163      87     3221      76        11\n",
       "2    1998      18     3222      66     3261      59         7\n",
       "3    1998      18     3307      69     3365      62         7\n",
       "4    1998      18     3349     115     3411      35        80"
      ]
     },
     "execution_count": 11,
     "metadata": {},
     "output_type": "execute_result"
    }
   ],
   "source": [
    "df_season_results.head()"
   ]
  },
  {
   "cell_type": "code",
   "execution_count": 12,
   "id": "focal-concentration",
   "metadata": {},
   "outputs": [
    {
     "data": {
      "text/plain": [
       "'\\n#Features\\nFor each team at each season, I compute :\\n\\nNumber of wins\\nNumber of losses\\nAverage score gap of wins\\nAverage score gap of losses\\nAnd use the following features :\\n\\nWin Ratio\\nAverage score gap\\n'"
      ]
     },
     "execution_count": 12,
     "metadata": {},
     "output_type": "execute_result"
    }
   ],
   "source": [
    "\"\"\"\n",
    "#Features\n",
    "For each team at each season, I compute :\n",
    "\n",
    "Number of wins\n",
    "Number of losses\n",
    "Average score gap of wins\n",
    "Average score gap of losses\n",
    "And use the following features :\n",
    "\n",
    "Win Ratio\n",
    "Average score gap\n",
    "\"\"\""
   ]
  },
  {
   "cell_type": "code",
   "execution_count": 13,
   "id": "imposed-school",
   "metadata": {},
   "outputs": [
    {
     "data": {
      "text/plain": [
       "'\\nnum_win = df_season_results.groupby([\\'Season\\', \\'WTeamID\\']).count()\\nnum_win = num_win.reset_index()[[\\'Season\\', \\'WTeamID\\', \\'DayNum\\']].rename(columns={\"DayNum\": \"NumWins\", \"WTeamID\": \"TeamID\"})\\n'"
      ]
     },
     "execution_count": 13,
     "metadata": {},
     "output_type": "execute_result"
    }
   ],
   "source": [
    "\"\"\"\n",
    "num_win = df_season_results.groupby(['Season', 'WTeamID']).count()\n",
    "num_win = num_win.reset_index()[['Season', 'WTeamID', 'DayNum']].rename(columns={\"DayNum\": \"NumWins\", \"WTeamID\": \"TeamID\"})\n",
    "\"\"\""
   ]
  },
  {
   "cell_type": "code",
   "execution_count": 14,
   "id": "enabling-contrary",
   "metadata": {},
   "outputs": [],
   "source": [
    "num_win = df_season_results.groupby(['Season', 'WTeamID']).count()\n",
    "num_win = num_win.reset_index()[['Season', 'WTeamID', 'DayNum']].rename(columns={\"DayNum\": \"NumWins\", \"WTeamID\": \"TeamID\"})"
   ]
  },
  {
   "cell_type": "code",
   "execution_count": 15,
   "id": "cardiovascular-norman",
   "metadata": {},
   "outputs": [
    {
     "data": {
      "text/plain": [
       "'\\nnum_loss = df_season_results.groupby([\\'Season\\', \\'LTeamID\\']).count()\\nnum_loss = num_loss.reset_index()[[\\'Season\\', \\'LTeamID\\', \\'DayNum\\']].rename(columns={\"DayNum\": \"NumLosses\", \"LTeamID\": \"TeamID\"})\\n'"
      ]
     },
     "execution_count": 15,
     "metadata": {},
     "output_type": "execute_result"
    }
   ],
   "source": [
    "\"\"\"\n",
    "num_loss = df_season_results.groupby(['Season', 'LTeamID']).count()\n",
    "num_loss = num_loss.reset_index()[['Season', 'LTeamID', 'DayNum']].rename(columns={\"DayNum\": \"NumLosses\", \"LTeamID\": \"TeamID\"})\n",
    "\"\"\""
   ]
  },
  {
   "cell_type": "code",
   "execution_count": 16,
   "id": "metallic-multimedia",
   "metadata": {},
   "outputs": [],
   "source": [
    "num_loss = df_season_results.groupby(['Season', 'LTeamID']).count()\n",
    "num_loss = num_loss.reset_index()[['Season', 'LTeamID', 'DayNum']].rename(columns={\"DayNum\": \"NumLosses\", \"LTeamID\":\"TeamID\"})"
   ]
  },
  {
   "cell_type": "code",
   "execution_count": 17,
   "id": "tested-contamination",
   "metadata": {},
   "outputs": [
    {
     "data": {
      "text/plain": [
       "'\\ngap_win = df_season_results.groupby([\\'Season\\', \\'WTeamID\\']).mean().reset_index()\\ngap_win = gap_win[[\\'Season\\', \\'WTeamID\\', \\'ScoreGap\\']].rename(columns={\"ScoreGap\": \"GapWins\", \"WTeamID\": \"TeamID\"})\\n'"
      ]
     },
     "execution_count": 17,
     "metadata": {},
     "output_type": "execute_result"
    }
   ],
   "source": [
    "\"\"\"\n",
    "gap_win = df_season_results.groupby(['Season', 'WTeamID']).mean().reset_index()\n",
    "gap_win = gap_win[['Season', 'WTeamID', 'ScoreGap']].rename(columns={\"ScoreGap\": \"GapWins\", \"WTeamID\": \"TeamID\"})\n",
    "\"\"\""
   ]
  },
  {
   "cell_type": "code",
   "execution_count": 18,
   "id": "governing-hardwood",
   "metadata": {},
   "outputs": [],
   "source": [
    "gap_win = df_season_results.groupby(['Season', 'WTeamID']).mean().reset_index()\n",
    "gap_win = gap_win[['Season', 'WTeamID', 'ScoreGap']].rename(columns={\"ScoreGap\": \"GapWins\", \"WTeamID\": \"TeamID\"})"
   ]
  },
  {
   "cell_type": "code",
   "execution_count": 19,
   "id": "enabling-recruitment",
   "metadata": {},
   "outputs": [
    {
     "data": {
      "text/plain": [
       "'\\ngap_loss = df_season_results.groupby([\\'Season\\', \\'LTeamID\\']).mean().reset_index()\\ngap_loss = gap_loss[[\\'Season\\', \\'LTeamID\\', \\'ScoreGap\\']].rename(columns={\"ScoreGap\": \"GapLosses\", \"LTeamID\": \"TeamID\"})\\n'"
      ]
     },
     "execution_count": 19,
     "metadata": {},
     "output_type": "execute_result"
    }
   ],
   "source": [
    "\"\"\"\n",
    "gap_loss = df_season_results.groupby(['Season', 'LTeamID']).mean().reset_index()\n",
    "gap_loss = gap_loss[['Season', 'LTeamID', 'ScoreGap']].rename(columns={\"ScoreGap\": \"GapLosses\", \"LTeamID\": \"TeamID\"})\n",
    "\"\"\""
   ]
  },
  {
   "cell_type": "code",
   "execution_count": 20,
   "id": "respective-candy",
   "metadata": {},
   "outputs": [],
   "source": [
    "gap_loss = df_season_results.groupby(['Season', 'LTeamID']).mean().reset_index()\n",
    "gap_loss = gap_loss[['Season', 'LTeamID', 'ScoreGap']].rename(columns={\"ScoreGap\": \"GapLosses\", \"LTeamID\": \"TeamID\"})"
   ]
  },
  {
   "cell_type": "code",
   "execution_count": 21,
   "id": "charged-sweden",
   "metadata": {},
   "outputs": [
    {
     "data": {
      "text/html": [
       "<div>\n",
       "<style scoped>\n",
       "    .dataframe tbody tr th:only-of-type {\n",
       "        vertical-align: middle;\n",
       "    }\n",
       "\n",
       "    .dataframe tbody tr th {\n",
       "        vertical-align: top;\n",
       "    }\n",
       "\n",
       "    .dataframe thead th {\n",
       "        text-align: right;\n",
       "    }\n",
       "</style>\n",
       "<table border=\"1\" class=\"dataframe\">\n",
       "  <thead>\n",
       "    <tr style=\"text-align: right;\">\n",
       "      <th></th>\n",
       "      <th>Season</th>\n",
       "      <th>TeamID</th>\n",
       "      <th>GapLosses</th>\n",
       "    </tr>\n",
       "  </thead>\n",
       "  <tbody>\n",
       "    <tr>\n",
       "      <th>0</th>\n",
       "      <td>1998</td>\n",
       "      <td>3102</td>\n",
       "      <td>27.850000</td>\n",
       "    </tr>\n",
       "    <tr>\n",
       "      <th>1</th>\n",
       "      <td>1998</td>\n",
       "      <td>3103</td>\n",
       "      <td>18.611111</td>\n",
       "    </tr>\n",
       "    <tr>\n",
       "      <th>2</th>\n",
       "      <td>1998</td>\n",
       "      <td>3104</td>\n",
       "      <td>5.666667</td>\n",
       "    </tr>\n",
       "    <tr>\n",
       "      <th>3</th>\n",
       "      <td>1998</td>\n",
       "      <td>3106</td>\n",
       "      <td>14.466667</td>\n",
       "    </tr>\n",
       "    <tr>\n",
       "      <th>4</th>\n",
       "      <td>1998</td>\n",
       "      <td>3108</td>\n",
       "      <td>16.636364</td>\n",
       "    </tr>\n",
       "    <tr>\n",
       "      <th>...</th>\n",
       "      <td>...</td>\n",
       "      <td>...</td>\n",
       "      <td>...</td>\n",
       "    </tr>\n",
       "    <tr>\n",
       "      <th>7688</th>\n",
       "      <td>2020</td>\n",
       "      <td>3463</td>\n",
       "      <td>12.875000</td>\n",
       "    </tr>\n",
       "    <tr>\n",
       "      <th>7689</th>\n",
       "      <td>2020</td>\n",
       "      <td>3464</td>\n",
       "      <td>17.117647</td>\n",
       "    </tr>\n",
       "    <tr>\n",
       "      <th>7690</th>\n",
       "      <td>2020</td>\n",
       "      <td>3465</td>\n",
       "      <td>12.933333</td>\n",
       "    </tr>\n",
       "    <tr>\n",
       "      <th>7691</th>\n",
       "      <td>2020</td>\n",
       "      <td>3466</td>\n",
       "      <td>7.555556</td>\n",
       "    </tr>\n",
       "    <tr>\n",
       "      <th>7692</th>\n",
       "      <td>2020</td>\n",
       "      <td>3467</td>\n",
       "      <td>9.555556</td>\n",
       "    </tr>\n",
       "  </tbody>\n",
       "</table>\n",
       "<p>7693 rows × 3 columns</p>\n",
       "</div>"
      ],
      "text/plain": [
       "      Season  TeamID  GapLosses\n",
       "0       1998    3102  27.850000\n",
       "1       1998    3103  18.611111\n",
       "2       1998    3104   5.666667\n",
       "3       1998    3106  14.466667\n",
       "4       1998    3108  16.636364\n",
       "...      ...     ...        ...\n",
       "7688    2020    3463  12.875000\n",
       "7689    2020    3464  17.117647\n",
       "7690    2020    3465  12.933333\n",
       "7691    2020    3466   7.555556\n",
       "7692    2020    3467   9.555556\n",
       "\n",
       "[7693 rows x 3 columns]"
      ]
     },
     "execution_count": 21,
     "metadata": {},
     "output_type": "execute_result"
    }
   ],
   "source": [
    "gap_loss"
   ]
  },
  {
   "cell_type": "code",
   "execution_count": 22,
   "id": "consistent-survey",
   "metadata": {},
   "outputs": [
    {
     "data": {
      "text/plain": [
       "'\\ndf_features_season_w = df_season_results.groupby([\\'Season\\', \\'WTeamID\\']).count().reset_index()[[\\'Season\\', \\'WTeamID\\']].rename(columns={\"WTeamID\": \"TeamID\"})\\ndf_features_season_l = df_season_results.groupby([\\'Season\\', \\'LTeamID\\']).count().reset_index()[[\\'Season\\', \\'LTeamID\\']].rename(columns={\"LTeamID\": \"TeamID\"})\\n'"
      ]
     },
     "execution_count": 22,
     "metadata": {},
     "output_type": "execute_result"
    }
   ],
   "source": [
    "\"\"\"\n",
    "df_features_season_w = df_season_results.groupby(['Season', 'WTeamID']).count().reset_index()[['Season', 'WTeamID']].rename(columns={\"WTeamID\": \"TeamID\"})\n",
    "df_features_season_l = df_season_results.groupby(['Season', 'LTeamID']).count().reset_index()[['Season', 'LTeamID']].rename(columns={\"LTeamID\": \"TeamID\"})\n",
    "\"\"\""
   ]
  },
  {
   "cell_type": "code",
   "execution_count": 23,
   "id": "parental-window",
   "metadata": {},
   "outputs": [],
   "source": [
    "#Merge\n",
    "df_features_season_w = df_season_results.groupby(['Season', 'WTeamID']).count().reset_index()[['Season', 'WTeamID']].rename(columns={\"WTeamID\": \"TeamID\"})\n",
    "df_features_season_l = df_season_results.groupby(['Season', 'LTeamID']).count().reset_index()[['Season', 'LTeamID']].rename(columns={\"LTeamID\": \"TeamID\"})"
   ]
  },
  {
   "cell_type": "code",
   "execution_count": 24,
   "id": "integral-competition",
   "metadata": {},
   "outputs": [
    {
     "data": {
      "text/html": [
       "<div>\n",
       "<style scoped>\n",
       "    .dataframe tbody tr th:only-of-type {\n",
       "        vertical-align: middle;\n",
       "    }\n",
       "\n",
       "    .dataframe tbody tr th {\n",
       "        vertical-align: top;\n",
       "    }\n",
       "\n",
       "    .dataframe thead th {\n",
       "        text-align: right;\n",
       "    }\n",
       "</style>\n",
       "<table border=\"1\" class=\"dataframe\">\n",
       "  <thead>\n",
       "    <tr style=\"text-align: right;\">\n",
       "      <th></th>\n",
       "      <th></th>\n",
       "      <th>DayNum</th>\n",
       "      <th>WScore</th>\n",
       "      <th>LTeamID</th>\n",
       "      <th>LScore</th>\n",
       "      <th>ScoreGap</th>\n",
       "    </tr>\n",
       "    <tr>\n",
       "      <th>Season</th>\n",
       "      <th>WTeamID</th>\n",
       "      <th></th>\n",
       "      <th></th>\n",
       "      <th></th>\n",
       "      <th></th>\n",
       "      <th></th>\n",
       "    </tr>\n",
       "  </thead>\n",
       "  <tbody>\n",
       "    <tr>\n",
       "      <th rowspan=\"5\" valign=\"top\">1998</th>\n",
       "      <th>3102</th>\n",
       "      <td>4</td>\n",
       "      <td>4</td>\n",
       "      <td>4</td>\n",
       "      <td>4</td>\n",
       "      <td>4</td>\n",
       "    </tr>\n",
       "    <tr>\n",
       "      <th>3103</th>\n",
       "      <td>11</td>\n",
       "      <td>11</td>\n",
       "      <td>11</td>\n",
       "      <td>11</td>\n",
       "      <td>11</td>\n",
       "    </tr>\n",
       "    <tr>\n",
       "      <th>3104</th>\n",
       "      <td>21</td>\n",
       "      <td>21</td>\n",
       "      <td>21</td>\n",
       "      <td>21</td>\n",
       "      <td>21</td>\n",
       "    </tr>\n",
       "    <tr>\n",
       "      <th>3106</th>\n",
       "      <td>6</td>\n",
       "      <td>6</td>\n",
       "      <td>6</td>\n",
       "      <td>6</td>\n",
       "      <td>6</td>\n",
       "    </tr>\n",
       "    <tr>\n",
       "      <th>3108</th>\n",
       "      <td>12</td>\n",
       "      <td>12</td>\n",
       "      <td>12</td>\n",
       "      <td>12</td>\n",
       "      <td>12</td>\n",
       "    </tr>\n",
       "    <tr>\n",
       "      <th>...</th>\n",
       "      <th>...</th>\n",
       "      <td>...</td>\n",
       "      <td>...</td>\n",
       "      <td>...</td>\n",
       "      <td>...</td>\n",
       "      <td>...</td>\n",
       "    </tr>\n",
       "    <tr>\n",
       "      <th rowspan=\"5\" valign=\"top\">2020</th>\n",
       "      <th>3463</th>\n",
       "      <td>19</td>\n",
       "      <td>19</td>\n",
       "      <td>19</td>\n",
       "      <td>19</td>\n",
       "      <td>19</td>\n",
       "    </tr>\n",
       "    <tr>\n",
       "      <th>3464</th>\n",
       "      <td>11</td>\n",
       "      <td>11</td>\n",
       "      <td>11</td>\n",
       "      <td>11</td>\n",
       "      <td>11</td>\n",
       "    </tr>\n",
       "    <tr>\n",
       "      <th>3465</th>\n",
       "      <td>13</td>\n",
       "      <td>13</td>\n",
       "      <td>13</td>\n",
       "      <td>13</td>\n",
       "      <td>13</td>\n",
       "    </tr>\n",
       "    <tr>\n",
       "      <th>3466</th>\n",
       "      <td>19</td>\n",
       "      <td>19</td>\n",
       "      <td>19</td>\n",
       "      <td>19</td>\n",
       "      <td>19</td>\n",
       "    </tr>\n",
       "    <tr>\n",
       "      <th>3467</th>\n",
       "      <td>18</td>\n",
       "      <td>18</td>\n",
       "      <td>18</td>\n",
       "      <td>18</td>\n",
       "      <td>18</td>\n",
       "    </tr>\n",
       "  </tbody>\n",
       "</table>\n",
       "<p>7688 rows × 5 columns</p>\n",
       "</div>"
      ],
      "text/plain": [
       "                DayNum  WScore  LTeamID  LScore  ScoreGap\n",
       "Season WTeamID                                           \n",
       "1998   3102          4       4        4       4         4\n",
       "       3103         11      11       11      11        11\n",
       "       3104         21      21       21      21        21\n",
       "       3106          6       6        6       6         6\n",
       "       3108         12      12       12      12        12\n",
       "...                ...     ...      ...     ...       ...\n",
       "2020   3463         19      19       19      19        19\n",
       "       3464         11      11       11      11        11\n",
       "       3465         13      13       13      13        13\n",
       "       3466         19      19       19      19        19\n",
       "       3467         18      18       18      18        18\n",
       "\n",
       "[7688 rows x 5 columns]"
      ]
     },
     "execution_count": 24,
     "metadata": {},
     "output_type": "execute_result"
    }
   ],
   "source": [
    "df_season_results.groupby(['Season', 'WTeamID']).count()"
   ]
  },
  {
   "cell_type": "code",
   "execution_count": 25,
   "id": "refined-lover",
   "metadata": {},
   "outputs": [
    {
     "data": {
      "text/html": [
       "<div>\n",
       "<style scoped>\n",
       "    .dataframe tbody tr th:only-of-type {\n",
       "        vertical-align: middle;\n",
       "    }\n",
       "\n",
       "    .dataframe tbody tr th {\n",
       "        vertical-align: top;\n",
       "    }\n",
       "\n",
       "    .dataframe thead th {\n",
       "        text-align: right;\n",
       "    }\n",
       "</style>\n",
       "<table border=\"1\" class=\"dataframe\">\n",
       "  <thead>\n",
       "    <tr style=\"text-align: right;\">\n",
       "      <th></th>\n",
       "      <th>Season</th>\n",
       "      <th>TeamID</th>\n",
       "    </tr>\n",
       "  </thead>\n",
       "  <tbody>\n",
       "    <tr>\n",
       "      <th>0</th>\n",
       "      <td>1998</td>\n",
       "      <td>3102</td>\n",
       "    </tr>\n",
       "    <tr>\n",
       "      <th>1</th>\n",
       "      <td>1998</td>\n",
       "      <td>3103</td>\n",
       "    </tr>\n",
       "    <tr>\n",
       "      <th>2</th>\n",
       "      <td>1998</td>\n",
       "      <td>3104</td>\n",
       "    </tr>\n",
       "    <tr>\n",
       "      <th>3</th>\n",
       "      <td>1998</td>\n",
       "      <td>3106</td>\n",
       "    </tr>\n",
       "    <tr>\n",
       "      <th>4</th>\n",
       "      <td>1998</td>\n",
       "      <td>3108</td>\n",
       "    </tr>\n",
       "    <tr>\n",
       "      <th>...</th>\n",
       "      <td>...</td>\n",
       "      <td>...</td>\n",
       "    </tr>\n",
       "    <tr>\n",
       "      <th>7683</th>\n",
       "      <td>2020</td>\n",
       "      <td>3463</td>\n",
       "    </tr>\n",
       "    <tr>\n",
       "      <th>7684</th>\n",
       "      <td>2020</td>\n",
       "      <td>3464</td>\n",
       "    </tr>\n",
       "    <tr>\n",
       "      <th>7685</th>\n",
       "      <td>2020</td>\n",
       "      <td>3465</td>\n",
       "    </tr>\n",
       "    <tr>\n",
       "      <th>7686</th>\n",
       "      <td>2020</td>\n",
       "      <td>3466</td>\n",
       "    </tr>\n",
       "    <tr>\n",
       "      <th>7687</th>\n",
       "      <td>2020</td>\n",
       "      <td>3467</td>\n",
       "    </tr>\n",
       "  </tbody>\n",
       "</table>\n",
       "<p>7688 rows × 2 columns</p>\n",
       "</div>"
      ],
      "text/plain": [
       "      Season  TeamID\n",
       "0       1998    3102\n",
       "1       1998    3103\n",
       "2       1998    3104\n",
       "3       1998    3106\n",
       "4       1998    3108\n",
       "...      ...     ...\n",
       "7683    2020    3463\n",
       "7684    2020    3464\n",
       "7685    2020    3465\n",
       "7686    2020    3466\n",
       "7687    2020    3467\n",
       "\n",
       "[7688 rows x 2 columns]"
      ]
     },
     "execution_count": 25,
     "metadata": {},
     "output_type": "execute_result"
    }
   ],
   "source": [
    "df_features_season_w"
   ]
  },
  {
   "cell_type": "code",
   "execution_count": 26,
   "id": "medium-boutique",
   "metadata": {},
   "outputs": [
    {
     "data": {
      "text/plain": [
       "\"\\ndf_features_season = pd.concat([df_features_season_w, df_features_season_l], 0).drop_duplicates().sort_values(['Season', 'TeamID']).reset_index(drop=True)\\n\""
      ]
     },
     "execution_count": 26,
     "metadata": {},
     "output_type": "execute_result"
    }
   ],
   "source": [
    "\"\"\"\n",
    "df_features_season = pd.concat([df_features_season_w, df_features_season_l], 0).drop_duplicates().sort_values(['Season', 'TeamID']).reset_index(drop=True)\n",
    "\"\"\""
   ]
  },
  {
   "cell_type": "code",
   "execution_count": 27,
   "id": "lonely-watershed",
   "metadata": {},
   "outputs": [],
   "source": [
    "df_features_season = pd.concat([df_features_season_w, df_features_season_l], 0).drop_duplicates().sort_values(['Season', 'TeamID']).reset_index(drop=True)"
   ]
  },
  {
   "cell_type": "code",
   "execution_count": 28,
   "id": "compliant-vatican",
   "metadata": {},
   "outputs": [
    {
     "data": {
      "text/plain": [
       "\"\\ndf_features_season = df_features_season.merge(num_win, on=['Season', 'TeamID'], how='left')\\ndf_features_season = df_features_season.merge(num_loss, on=['Season', 'TeamID'], how='left')\\ndf_features_season = df_features_season.merge(gap_win, on=['Season', 'TeamID'], how='left')\\ndf_features_season = df_features_season.merge(gap_loss, on=['Season', 'TeamID'], how='left')\\n\""
      ]
     },
     "execution_count": 28,
     "metadata": {},
     "output_type": "execute_result"
    }
   ],
   "source": [
    "\"\"\"\n",
    "df_features_season = df_features_season.merge(num_win, on=['Season', 'TeamID'], how='left')\n",
    "df_features_season = df_features_season.merge(num_loss, on=['Season', 'TeamID'], how='left')\n",
    "df_features_season = df_features_season.merge(gap_win, on=['Season', 'TeamID'], how='left')\n",
    "df_features_season = df_features_season.merge(gap_loss, on=['Season', 'TeamID'], how='left')\n",
    "\"\"\""
   ]
  },
  {
   "cell_type": "code",
   "execution_count": 29,
   "id": "fifteen-leisure",
   "metadata": {},
   "outputs": [],
   "source": [
    "df_features_season = df_features_season.merge(num_win, on=['Season', 'TeamID'], how='left')\n",
    "df_features_season = df_features_season.merge(num_loss, on=['Season', 'TeamID'], how='left')\n",
    "df_features_season = df_features_season.merge(gap_win, on=['Season', 'TeamID'], how='left')\n",
    "df_features_season = df_features_season.merge(gap_loss, on=['Season', 'TeamID'], how='left')"
   ]
  },
  {
   "cell_type": "code",
   "execution_count": 30,
   "id": "lesbian-behalf",
   "metadata": {},
   "outputs": [],
   "source": [
    "df_features_season.fillna(0, inplace=True)"
   ]
  },
  {
   "cell_type": "code",
   "execution_count": 31,
   "id": "together-suffering",
   "metadata": {},
   "outputs": [
    {
     "data": {
      "text/plain": [
       "\"\\ndf_features_season['WinRatio'] = df_features_season['NumWins'] / (df_features_season['NumWins'] + df_features_season['NumLosses'])\\ndf_features_season['GapAvg'] = (\\n    (df_features_season['NumWins'] * df_features_season['GapWins'] - \\n    df_features_season['NumLosses'] * df_features_season['GapLosses'])\\n    / (df_features_season['NumWins'] + df_features_season['NumLosses'])\\n)\\n\""
      ]
     },
     "execution_count": 31,
     "metadata": {},
     "output_type": "execute_result"
    }
   ],
   "source": [
    "\"\"\"\n",
    "df_features_season['WinRatio'] = df_features_season['NumWins'] / (df_features_season['NumWins'] + df_features_season['NumLosses'])\n",
    "df_features_season['GapAvg'] = (\n",
    "    (df_features_season['NumWins'] * df_features_season['GapWins'] - \n",
    "    df_features_season['NumLosses'] * df_features_season['GapLosses'])\n",
    "    / (df_features_season['NumWins'] + df_features_season['NumLosses'])\n",
    ")\n",
    "\"\"\""
   ]
  },
  {
   "cell_type": "code",
   "execution_count": 32,
   "id": "disturbed-imagination",
   "metadata": {},
   "outputs": [],
   "source": [
    "#Compute features\n",
    "df_features_season['WinRatio'] = df_features_season['NumWins'] / (df_features_season['NumWins'] + df_features_season['NumLosses'])\n",
    "df_features_season['GapAvg'] = (\n",
    "    (df_features_season['NumWins'] * df_features_season['GapWins'] -\n",
    "    df_features_season['NumLosses'] * df_features_season['GapLosses'])\n",
    "    / (df_features_season['NumWins'] + df_features_season['NumLosses'])\n",
    ")"
   ]
  },
  {
   "cell_type": "code",
   "execution_count": 33,
   "id": "durable-livestock",
   "metadata": {},
   "outputs": [
    {
     "data": {
      "text/plain": [
       "\"\\ndf_features_season.drop(['NumWins', 'NumLosses', 'GapWins', 'GapLosses'], axis=1, inplace=True)\\n\""
      ]
     },
     "execution_count": 33,
     "metadata": {},
     "output_type": "execute_result"
    }
   ],
   "source": [
    "\"\"\"\n",
    "df_features_season.drop(['NumWins', 'NumLosses', 'GapWins', 'GapLosses'], axis=1, inplace=True)\n",
    "\"\"\""
   ]
  },
  {
   "cell_type": "code",
   "execution_count": 34,
   "id": "living-crazy",
   "metadata": {},
   "outputs": [],
   "source": [
    "df_features_season.drop(['NumWins', 'NumLosses', 'GapWins', 'GapLosses'], axis=1, inplace=True)"
   ]
  },
  {
   "cell_type": "code",
   "execution_count": 35,
   "id": "suburban-jewelry",
   "metadata": {},
   "outputs": [
    {
     "data": {
      "text/html": [
       "<div>\n",
       "<style scoped>\n",
       "    .dataframe tbody tr th:only-of-type {\n",
       "        vertical-align: middle;\n",
       "    }\n",
       "\n",
       "    .dataframe tbody tr th {\n",
       "        vertical-align: top;\n",
       "    }\n",
       "\n",
       "    .dataframe thead th {\n",
       "        text-align: right;\n",
       "    }\n",
       "</style>\n",
       "<table border=\"1\" class=\"dataframe\">\n",
       "  <thead>\n",
       "    <tr style=\"text-align: right;\">\n",
       "      <th></th>\n",
       "      <th>Season</th>\n",
       "      <th>TeamID</th>\n",
       "      <th>WinRatio</th>\n",
       "      <th>GapAvg</th>\n",
       "    </tr>\n",
       "  </thead>\n",
       "  <tbody>\n",
       "    <tr>\n",
       "      <th>0</th>\n",
       "      <td>1998</td>\n",
       "      <td>3102</td>\n",
       "      <td>0.166667</td>\n",
       "      <td>-20.625000</td>\n",
       "    </tr>\n",
       "    <tr>\n",
       "      <th>1</th>\n",
       "      <td>1998</td>\n",
       "      <td>3103</td>\n",
       "      <td>0.379310</td>\n",
       "      <td>-5.862069</td>\n",
       "    </tr>\n",
       "    <tr>\n",
       "      <th>2</th>\n",
       "      <td>1998</td>\n",
       "      <td>3104</td>\n",
       "      <td>0.700000</td>\n",
       "      <td>13.433333</td>\n",
       "    </tr>\n",
       "    <tr>\n",
       "      <th>3</th>\n",
       "      <td>1998</td>\n",
       "      <td>3106</td>\n",
       "      <td>0.285714</td>\n",
       "      <td>-7.952381</td>\n",
       "    </tr>\n",
       "    <tr>\n",
       "      <th>4</th>\n",
       "      <td>1998</td>\n",
       "      <td>3108</td>\n",
       "      <td>0.521739</td>\n",
       "      <td>1.304348</td>\n",
       "    </tr>\n",
       "    <tr>\n",
       "      <th>...</th>\n",
       "      <td>...</td>\n",
       "      <td>...</td>\n",
       "      <td>...</td>\n",
       "      <td>...</td>\n",
       "    </tr>\n",
       "    <tr>\n",
       "      <th>7701</th>\n",
       "      <td>2020</td>\n",
       "      <td>3463</td>\n",
       "      <td>0.703704</td>\n",
       "      <td>6.777778</td>\n",
       "    </tr>\n",
       "    <tr>\n",
       "      <th>7702</th>\n",
       "      <td>2020</td>\n",
       "      <td>3464</td>\n",
       "      <td>0.392857</td>\n",
       "      <td>-6.000000</td>\n",
       "    </tr>\n",
       "    <tr>\n",
       "      <th>7703</th>\n",
       "      <td>2020</td>\n",
       "      <td>3465</td>\n",
       "      <td>0.464286</td>\n",
       "      <td>-1.857143</td>\n",
       "    </tr>\n",
       "    <tr>\n",
       "      <th>7704</th>\n",
       "      <td>2020</td>\n",
       "      <td>3466</td>\n",
       "      <td>0.678571</td>\n",
       "      <td>10.142857</td>\n",
       "    </tr>\n",
       "    <tr>\n",
       "      <th>7705</th>\n",
       "      <td>2020</td>\n",
       "      <td>3467</td>\n",
       "      <td>0.666667</td>\n",
       "      <td>6.592593</td>\n",
       "    </tr>\n",
       "  </tbody>\n",
       "</table>\n",
       "<p>7706 rows × 4 columns</p>\n",
       "</div>"
      ],
      "text/plain": [
       "      Season  TeamID  WinRatio     GapAvg\n",
       "0       1998    3102  0.166667 -20.625000\n",
       "1       1998    3103  0.379310  -5.862069\n",
       "2       1998    3104  0.700000  13.433333\n",
       "3       1998    3106  0.285714  -7.952381\n",
       "4       1998    3108  0.521739   1.304348\n",
       "...      ...     ...       ...        ...\n",
       "7701    2020    3463  0.703704   6.777778\n",
       "7702    2020    3464  0.392857  -6.000000\n",
       "7703    2020    3465  0.464286  -1.857143\n",
       "7704    2020    3466  0.678571  10.142857\n",
       "7705    2020    3467  0.666667   6.592593\n",
       "\n",
       "[7706 rows x 4 columns]"
      ]
     },
     "execution_count": 35,
     "metadata": {},
     "output_type": "execute_result"
    }
   ],
   "source": [
    "df_features_season"
   ]
  },
  {
   "cell_type": "code",
   "execution_count": 36,
   "id": "chief-pennsylvania",
   "metadata": {},
   "outputs": [
    {
     "data": {
      "text/plain": [
       "'\\n# df_tourney_results = pd.read_csv(DATA_PATH + \"MNCAATourneyCompactResults.csv\")\\ndf_tourney_results = pd.read_csv(DATA_PATH + \"WNCAATourneyCompactResults.csv\")\\ndf_tourney_results.drop([\\'NumOT\\', \\'WLoc\\'], axis=1, inplace=True)\\n'"
      ]
     },
     "execution_count": 36,
     "metadata": {},
     "output_type": "execute_result"
    }
   ],
   "source": [
    "\"\"\"\n",
    "# df_tourney_results = pd.read_csv(DATA_PATH + \"MNCAATourneyCompactResults.csv\")\n",
    "df_tourney_results = pd.read_csv(DATA_PATH + \"WNCAATourneyCompactResults.csv\")\n",
    "df_tourney_results.drop(['NumOT', 'WLoc'], axis=1, inplace=True)\n",
    "\"\"\""
   ]
  },
  {
   "cell_type": "code",
   "execution_count": 37,
   "id": "charming-reward",
   "metadata": {},
   "outputs": [],
   "source": [
    "#Tourney results\n",
    "df_tourney_results = pd.read_csv(DATA_PATH + \"WNCAATourneyCompactResults.csv\")\n",
    "df_tourney_results.drop(['NumOT', 'WLoc'], axis=1, inplace=True)"
   ]
  },
  {
   "cell_type": "code",
   "execution_count": 38,
   "id": "supported-software",
   "metadata": {},
   "outputs": [
    {
     "data": {
      "text/plain": [
       "\"\\ndef get_round(day):\\n#     round_dic = {134: 0, 135: 0, 136: 1, 137: 1, 138: 2, 139: 2, 143: 3, 144: 3, 145: 4, 146: 4, 152: 5, 154: 6}\\n    round_dic = {137: 0, 138: 0, 139: 1, 140: 1, 141: 2, 144: 3, 145: 3, 146: 4, 147: 4, 148: 4, 151:5, 153: 5, 155: 6} # probably wrong but I don't use it anyways\\n    try:\\n        return round_dic[day]\\n    except:\\n        print(f'Unknow day : {day}')\\n        return 0\\n\""
      ]
     },
     "execution_count": 38,
     "metadata": {},
     "output_type": "execute_result"
    }
   ],
   "source": [
    "\"\"\"\n",
    "def get_round(day):\n",
    "#     round_dic = {134: 0, 135: 0, 136: 1, 137: 1, 138: 2, 139: 2, 143: 3, 144: 3, 145: 4, 146: 4, 152: 5, 154: 6}\n",
    "    round_dic = {137: 0, 138: 0, 139: 1, 140: 1, 141: 2, 144: 3, 145: 3, 146: 4, 147: 4, 148: 4, 151:5, 153: 5, 155: 6} # probably wrong but I don't use it anyways\n",
    "    try:\n",
    "        return round_dic[day]\n",
    "    except:\n",
    "        print(f'Unknow day : {day}')\n",
    "        return 0\n",
    "\"\"\""
   ]
  },
  {
   "cell_type": "code",
   "execution_count": 39,
   "id": "norman-silicon",
   "metadata": {},
   "outputs": [],
   "source": [
    "def get_round(day):\n",
    "#     round_dic = {134: 0, 135: 0, 136: 1, 137: 1, 138: 2, 139: 2, 143: 3, 144: 3, 145: 4, 146: 4, 152: 5, 154: 6}\n",
    "    round_dic = {137: 0, 138: 0, 139: 1, 140: 1, 141: 2, 144: 3, 145: 3, 146: 4, 147: 4, 148: 4, 151:5, 153: 5, 155: 6} # probably wrong but I don't use it anyways\n",
    "    try:\n",
    "        return round_dic[day]\n",
    "    except:\n",
    "        print(f'Unknow day : {day}')\n",
    "        return 0"
   ]
  },
  {
   "cell_type": "code",
   "execution_count": 40,
   "id": "delayed-camping",
   "metadata": {},
   "outputs": [
    {
     "data": {
      "text/plain": [
       "\"\\ndf_tourney_results['Round'] = df_tourney_results['DayNum'].apply(get_round)\\n\""
      ]
     },
     "execution_count": 40,
     "metadata": {},
     "output_type": "execute_result"
    }
   ],
   "source": [
    "\"\"\"\n",
    "df_tourney_results['Round'] = df_tourney_results['DayNum'].apply(get_round)\n",
    "\"\"\""
   ]
  },
  {
   "cell_type": "code",
   "execution_count": 41,
   "id": "stock-retirement",
   "metadata": {},
   "outputs": [],
   "source": [
    "df_tourney_results['Round'] = df_tourney_results['DayNum'].apply(get_round)"
   ]
  },
  {
   "cell_type": "code",
   "execution_count": 42,
   "id": "seven-metabolism",
   "metadata": {},
   "outputs": [
    {
     "data": {
      "text/html": [
       "<div>\n",
       "<style scoped>\n",
       "    .dataframe tbody tr th:only-of-type {\n",
       "        vertical-align: middle;\n",
       "    }\n",
       "\n",
       "    .dataframe tbody tr th {\n",
       "        vertical-align: top;\n",
       "    }\n",
       "\n",
       "    .dataframe thead th {\n",
       "        text-align: right;\n",
       "    }\n",
       "</style>\n",
       "<table border=\"1\" class=\"dataframe\">\n",
       "  <thead>\n",
       "    <tr style=\"text-align: right;\">\n",
       "      <th></th>\n",
       "      <th>Season</th>\n",
       "      <th>DayNum</th>\n",
       "      <th>WTeamID</th>\n",
       "      <th>WScore</th>\n",
       "      <th>LTeamID</th>\n",
       "      <th>LScore</th>\n",
       "      <th>Round</th>\n",
       "    </tr>\n",
       "  </thead>\n",
       "  <tbody>\n",
       "    <tr>\n",
       "      <th>0</th>\n",
       "      <td>1998</td>\n",
       "      <td>137</td>\n",
       "      <td>3104</td>\n",
       "      <td>94</td>\n",
       "      <td>3422</td>\n",
       "      <td>46</td>\n",
       "      <td>0</td>\n",
       "    </tr>\n",
       "    <tr>\n",
       "      <th>1</th>\n",
       "      <td>1998</td>\n",
       "      <td>137</td>\n",
       "      <td>3112</td>\n",
       "      <td>75</td>\n",
       "      <td>3365</td>\n",
       "      <td>63</td>\n",
       "      <td>0</td>\n",
       "    </tr>\n",
       "    <tr>\n",
       "      <th>2</th>\n",
       "      <td>1998</td>\n",
       "      <td>137</td>\n",
       "      <td>3163</td>\n",
       "      <td>93</td>\n",
       "      <td>3193</td>\n",
       "      <td>52</td>\n",
       "      <td>0</td>\n",
       "    </tr>\n",
       "    <tr>\n",
       "      <th>3</th>\n",
       "      <td>1998</td>\n",
       "      <td>137</td>\n",
       "      <td>3198</td>\n",
       "      <td>59</td>\n",
       "      <td>3266</td>\n",
       "      <td>45</td>\n",
       "      <td>0</td>\n",
       "    </tr>\n",
       "    <tr>\n",
       "      <th>4</th>\n",
       "      <td>1998</td>\n",
       "      <td>137</td>\n",
       "      <td>3203</td>\n",
       "      <td>74</td>\n",
       "      <td>3208</td>\n",
       "      <td>72</td>\n",
       "      <td>0</td>\n",
       "    </tr>\n",
       "  </tbody>\n",
       "</table>\n",
       "</div>"
      ],
      "text/plain": [
       "   Season  DayNum  WTeamID  WScore  LTeamID  LScore  Round\n",
       "0    1998     137     3104      94     3422      46      0\n",
       "1    1998     137     3112      75     3365      63      0\n",
       "2    1998     137     3163      93     3193      52      0\n",
       "3    1998     137     3198      59     3266      45      0\n",
       "4    1998     137     3203      74     3208      72      0"
      ]
     },
     "execution_count": 42,
     "metadata": {},
     "output_type": "execute_result"
    }
   ],
   "source": [
    "df_tourney_results.head()"
   ]
  },
  {
   "cell_type": "code",
   "execution_count": 43,
   "id": "editorial-excuse",
   "metadata": {},
   "outputs": [],
   "source": [
    "#Ratings"
   ]
  },
  {
   "cell_type": "code",
   "execution_count": 44,
   "id": "exotic-mechanics",
   "metadata": {},
   "outputs": [
    {
     "data": {
      "text/plain": [
       "'\\n# df_massey = pd.read_csv(DATA_PATH_M + \"MMasseyOrdinals.csv\")\\n# df_massey = df_massey[df_massey[\\'RankingDayNum\\'] == 133].drop(\\'RankingDayNum\\', axis=1).reset_index(drop=True) # use first day of the tournament\\n'"
      ]
     },
     "execution_count": 44,
     "metadata": {},
     "output_type": "execute_result"
    }
   ],
   "source": [
    "\"\"\"\n",
    "# df_massey = pd.read_csv(DATA_PATH_M + \"MMasseyOrdinals.csv\")\n",
    "# df_massey = df_massey[df_massey['RankingDayNum'] == 133].drop('RankingDayNum', axis=1).reset_index(drop=True) # use first day of the tournament\n",
    "\"\"\""
   ]
  },
  {
   "cell_type": "code",
   "execution_count": 46,
   "id": "wooden-musician",
   "metadata": {},
   "outputs": [],
   "source": [
    "#Feature Engineering"
   ]
  },
  {
   "cell_type": "code",
   "execution_count": 47,
   "id": "conceptual-links",
   "metadata": {},
   "outputs": [
    {
     "data": {
      "text/plain": [
       "\"\\ndf = df_tourney_results.copy()\\ndf = df[df['Season'] >= 2003].reset_index(drop=True)\\n\\ndf.head()\\n\""
      ]
     },
     "execution_count": 47,
     "metadata": {},
     "output_type": "execute_result"
    }
   ],
   "source": [
    "\"\"\"\n",
    "df = df_tourney_results.copy()\n",
    "df = df[df['Season'] >= 2003].reset_index(drop=True)\n",
    "\n",
    "df.head()\n",
    "\"\"\""
   ]
  },
  {
   "cell_type": "code",
   "execution_count": 48,
   "id": "accomplished-redhead",
   "metadata": {},
   "outputs": [
    {
     "data": {
      "text/html": [
       "<div>\n",
       "<style scoped>\n",
       "    .dataframe tbody tr th:only-of-type {\n",
       "        vertical-align: middle;\n",
       "    }\n",
       "\n",
       "    .dataframe tbody tr th {\n",
       "        vertical-align: top;\n",
       "    }\n",
       "\n",
       "    .dataframe thead th {\n",
       "        text-align: right;\n",
       "    }\n",
       "</style>\n",
       "<table border=\"1\" class=\"dataframe\">\n",
       "  <thead>\n",
       "    <tr style=\"text-align: right;\">\n",
       "      <th></th>\n",
       "      <th>Season</th>\n",
       "      <th>DayNum</th>\n",
       "      <th>WTeamID</th>\n",
       "      <th>WScore</th>\n",
       "      <th>LTeamID</th>\n",
       "      <th>LScore</th>\n",
       "      <th>Round</th>\n",
       "    </tr>\n",
       "  </thead>\n",
       "  <tbody>\n",
       "    <tr>\n",
       "      <th>0</th>\n",
       "      <td>2003</td>\n",
       "      <td>138</td>\n",
       "      <td>3130</td>\n",
       "      <td>73</td>\n",
       "      <td>3330</td>\n",
       "      <td>72</td>\n",
       "      <td>0</td>\n",
       "    </tr>\n",
       "    <tr>\n",
       "      <th>1</th>\n",
       "      <td>2003</td>\n",
       "      <td>138</td>\n",
       "      <td>3160</td>\n",
       "      <td>84</td>\n",
       "      <td>3140</td>\n",
       "      <td>45</td>\n",
       "      <td>0</td>\n",
       "    </tr>\n",
       "    <tr>\n",
       "      <th>2</th>\n",
       "      <td>2003</td>\n",
       "      <td>138</td>\n",
       "      <td>3208</td>\n",
       "      <td>80</td>\n",
       "      <td>3150</td>\n",
       "      <td>61</td>\n",
       "      <td>0</td>\n",
       "    </tr>\n",
       "    <tr>\n",
       "      <th>3</th>\n",
       "      <td>2003</td>\n",
       "      <td>138</td>\n",
       "      <td>3261</td>\n",
       "      <td>86</td>\n",
       "      <td>3402</td>\n",
       "      <td>50</td>\n",
       "      <td>0</td>\n",
       "    </tr>\n",
       "    <tr>\n",
       "      <th>4</th>\n",
       "      <td>2003</td>\n",
       "      <td>138</td>\n",
       "      <td>3278</td>\n",
       "      <td>68</td>\n",
       "      <td>3408</td>\n",
       "      <td>48</td>\n",
       "      <td>0</td>\n",
       "    </tr>\n",
       "  </tbody>\n",
       "</table>\n",
       "</div>"
      ],
      "text/plain": [
       "   Season  DayNum  WTeamID  WScore  LTeamID  LScore  Round\n",
       "0    2003     138     3130      73     3330      72      0\n",
       "1    2003     138     3160      84     3140      45      0\n",
       "2    2003     138     3208      80     3150      61      0\n",
       "3    2003     138     3261      86     3402      50      0\n",
       "4    2003     138     3278      68     3408      48      0"
      ]
     },
     "execution_count": 48,
     "metadata": {},
     "output_type": "execute_result"
    }
   ],
   "source": [
    "# train data\n",
    "df = df_tourney_results.copy()\n",
    "df = df[df['Season'] >= 2003].reset_index(drop=True)\n",
    "\n",
    "df.head()"
   ]
  },
  {
   "cell_type": "code",
   "execution_count": 49,
   "id": "seventh-certificate",
   "metadata": {},
   "outputs": [
    {
     "data": {
      "text/plain": [
       "\"\\ndf = pd.merge(\\n    df, \\n    df_seeds, \\n    how='left', \\n    left_on=['Season', 'WTeamID'], \\n    right_on=['Season', 'TeamID']\\n).drop('TeamID', axis=1).rename(columns={'Seed': 'SeedW'})\\n\""
      ]
     },
     "execution_count": 49,
     "metadata": {},
     "output_type": "execute_result"
    }
   ],
   "source": [
    "\"\"\"\n",
    "df = pd.merge(\n",
    "    df, \n",
    "    df_seeds, \n",
    "    how='left', \n",
    "    left_on=['Season', 'WTeamID'], \n",
    "    right_on=['Season', 'TeamID']\n",
    ").drop('TeamID', axis=1).rename(columns={'Seed': 'SeedW'})\n",
    "\"\"\""
   ]
  },
  {
   "cell_type": "code",
   "execution_count": 50,
   "id": "introductory-state",
   "metadata": {},
   "outputs": [],
   "source": [
    "df = pd.merge(\n",
    "    df, \n",
    "    df_seeds, \n",
    "    how='left', \n",
    "    left_on=['Season', 'WTeamID'], \n",
    "    right_on=['Season', 'TeamID']\n",
    ").drop('TeamID', axis=1).rename(columns={'Seed': 'SeedW'})"
   ]
  },
  {
   "cell_type": "code",
   "execution_count": 51,
   "id": "twelve-mongolia",
   "metadata": {},
   "outputs": [
    {
     "data": {
      "text/plain": [
       "\"\\ndf = pd.merge(\\n    df, \\n    df_seeds, \\n    how='left', \\n    left_on=['Season', 'LTeamID'], \\n    right_on=['Season', 'TeamID']\\n).drop('TeamID', axis=1).rename(columns={'Seed': 'SeedL'})\\n\""
      ]
     },
     "execution_count": 51,
     "metadata": {},
     "output_type": "execute_result"
    }
   ],
   "source": [
    "\"\"\"\n",
    "df = pd.merge(\n",
    "    df, \n",
    "    df_seeds, \n",
    "    how='left', \n",
    "    left_on=['Season', 'LTeamID'], \n",
    "    right_on=['Season', 'TeamID']\n",
    ").drop('TeamID', axis=1).rename(columns={'Seed': 'SeedL'})\n",
    "\"\"\""
   ]
  },
  {
   "cell_type": "code",
   "execution_count": 52,
   "id": "valued-reviewer",
   "metadata": {},
   "outputs": [],
   "source": [
    "df = pd.merge(\n",
    "    df,\n",
    "    df_seeds,\n",
    "    how='left',\n",
    "    left_on=['Season', 'LTeamID'],\n",
    "    right_on=['Season', 'TeamID']\n",
    ").drop('TeamID', axis=1).rename(columns={'Seed': 'SeedL'})"
   ]
  },
  {
   "cell_type": "code",
   "execution_count": 53,
   "id": "proud-wound",
   "metadata": {},
   "outputs": [
    {
     "data": {
      "text/plain": [
       "'\\ndef treat_seed(seed):\\n    return int(re.sub(\"[^0-9]\", \"\", seed))\\n'"
      ]
     },
     "execution_count": 53,
     "metadata": {},
     "output_type": "execute_result"
    }
   ],
   "source": [
    "\"\"\"\n",
    "def treat_seed(seed):\n",
    "    return int(re.sub(\"[^0-9]\", \"\", seed))\n",
    "\"\"\""
   ]
  },
  {
   "cell_type": "code",
   "execution_count": 54,
   "id": "bizarre-bradford",
   "metadata": {},
   "outputs": [],
   "source": [
    "def treat_seed(seed):\n",
    "    return int(re.sub(\"[^0-9]\", \"\", seed))    #正規表現で置換: re.sub, re.subn"
   ]
  },
  {
   "cell_type": "code",
   "execution_count": 55,
   "id": "material-citation",
   "metadata": {},
   "outputs": [
    {
     "data": {
      "text/plain": [
       "\"\\ndf['SeedW'] = df['SeedW'].apply(treat_seed)\\ndf['SeedL'] = df['SeedL'].apply(treat_seed)\\n\""
      ]
     },
     "execution_count": 55,
     "metadata": {},
     "output_type": "execute_result"
    }
   ],
   "source": [
    "\"\"\"\n",
    "df['SeedW'] = df['SeedW'].apply(treat_seed)\n",
    "df['SeedL'] = df['SeedL'].apply(treat_seed)\n",
    "\"\"\""
   ]
  },
  {
   "cell_type": "code",
   "execution_count": 56,
   "id": "alien-grocery",
   "metadata": {},
   "outputs": [],
   "source": [
    "df['SeedW'] = df['SeedW'].apply(treat_seed)\n",
    "df['SeedL'] = df['SeedL'].apply(treat_seed)"
   ]
  },
  {
   "cell_type": "code",
   "execution_count": 57,
   "id": "honest-coach",
   "metadata": {},
   "outputs": [
    {
     "data": {
      "text/html": [
       "<div>\n",
       "<style scoped>\n",
       "    .dataframe tbody tr th:only-of-type {\n",
       "        vertical-align: middle;\n",
       "    }\n",
       "\n",
       "    .dataframe tbody tr th {\n",
       "        vertical-align: top;\n",
       "    }\n",
       "\n",
       "    .dataframe thead th {\n",
       "        text-align: right;\n",
       "    }\n",
       "</style>\n",
       "<table border=\"1\" class=\"dataframe\">\n",
       "  <thead>\n",
       "    <tr style=\"text-align: right;\">\n",
       "      <th></th>\n",
       "      <th>Season</th>\n",
       "      <th>DayNum</th>\n",
       "      <th>WTeamID</th>\n",
       "      <th>WScore</th>\n",
       "      <th>LTeamID</th>\n",
       "      <th>LScore</th>\n",
       "      <th>Round</th>\n",
       "      <th>SeedW</th>\n",
       "      <th>SeedL</th>\n",
       "    </tr>\n",
       "  </thead>\n",
       "  <tbody>\n",
       "    <tr>\n",
       "      <th>0</th>\n",
       "      <td>2003</td>\n",
       "      <td>138</td>\n",
       "      <td>3130</td>\n",
       "      <td>73</td>\n",
       "      <td>3330</td>\n",
       "      <td>72</td>\n",
       "      <td>0</td>\n",
       "      <td>5</td>\n",
       "      <td>12</td>\n",
       "    </tr>\n",
       "    <tr>\n",
       "      <th>1</th>\n",
       "      <td>2003</td>\n",
       "      <td>138</td>\n",
       "      <td>3160</td>\n",
       "      <td>84</td>\n",
       "      <td>3140</td>\n",
       "      <td>45</td>\n",
       "      <td>0</td>\n",
       "      <td>6</td>\n",
       "      <td>11</td>\n",
       "    </tr>\n",
       "    <tr>\n",
       "      <th>2</th>\n",
       "      <td>2003</td>\n",
       "      <td>138</td>\n",
       "      <td>3208</td>\n",
       "      <td>80</td>\n",
       "      <td>3150</td>\n",
       "      <td>61</td>\n",
       "      <td>0</td>\n",
       "      <td>5</td>\n",
       "      <td>12</td>\n",
       "    </tr>\n",
       "    <tr>\n",
       "      <th>3</th>\n",
       "      <td>2003</td>\n",
       "      <td>138</td>\n",
       "      <td>3261</td>\n",
       "      <td>86</td>\n",
       "      <td>3402</td>\n",
       "      <td>50</td>\n",
       "      <td>0</td>\n",
       "      <td>1</td>\n",
       "      <td>16</td>\n",
       "    </tr>\n",
       "    <tr>\n",
       "      <th>4</th>\n",
       "      <td>2003</td>\n",
       "      <td>138</td>\n",
       "      <td>3278</td>\n",
       "      <td>68</td>\n",
       "      <td>3408</td>\n",
       "      <td>48</td>\n",
       "      <td>0</td>\n",
       "      <td>6</td>\n",
       "      <td>11</td>\n",
       "    </tr>\n",
       "  </tbody>\n",
       "</table>\n",
       "</div>"
      ],
      "text/plain": [
       "   Season  DayNum  WTeamID  WScore  LTeamID  LScore  Round  SeedW  SeedL\n",
       "0    2003     138     3130      73     3330      72      0      5     12\n",
       "1    2003     138     3160      84     3140      45      0      6     11\n",
       "2    2003     138     3208      80     3150      61      0      5     12\n",
       "3    2003     138     3261      86     3402      50      0      1     16\n",
       "4    2003     138     3278      68     3408      48      0      6     11"
      ]
     },
     "execution_count": 57,
     "metadata": {},
     "output_type": "execute_result"
    }
   ],
   "source": [
    "df.head()"
   ]
  },
  {
   "cell_type": "code",
   "execution_count": 58,
   "id": "valuable-decimal",
   "metadata": {},
   "outputs": [
    {
     "data": {
      "text/plain": [
       "\"\\ndf = pd.merge(\\n    df,\\n    df_features_season,\\n    how='left',\\n    left_on=['Season', 'WTeamID'],\\n    right_on=['Season', 'TeamID']\\n).rename(columns={\\n    'NumWins': 'NumWinsW',\\n    'NumLosses': 'NumLossesW',\\n    'GapWins': 'GapWinsW',\\n    'GapLosses': 'GapLossesW',\\n    'WinRatio': 'WinRatioW',\\n    'GapAvg': 'GapAvgW',\\n}).drop(columns='TeamID', axis=1)\\n\""
      ]
     },
     "execution_count": 58,
     "metadata": {},
     "output_type": "execute_result"
    }
   ],
   "source": [
    "\"\"\"\n",
    "df = pd.merge(\n",
    "    df,\n",
    "    df_features_season,\n",
    "    how='left',\n",
    "    left_on=['Season', 'WTeamID'],\n",
    "    right_on=['Season', 'TeamID']\n",
    ").rename(columns={\n",
    "    'NumWins': 'NumWinsW',\n",
    "    'NumLosses': 'NumLossesW',\n",
    "    'GapWins': 'GapWinsW',\n",
    "    'GapLosses': 'GapLossesW',\n",
    "    'WinRatio': 'WinRatioW',\n",
    "    'GapAvg': 'GapAvgW',\n",
    "}).drop(columns='TeamID', axis=1)\n",
    "\"\"\""
   ]
  },
  {
   "cell_type": "code",
   "execution_count": 59,
   "id": "electronic-mattress",
   "metadata": {},
   "outputs": [],
   "source": [
    "df = pd.merge(\n",
    "    df,\n",
    "    df_features_season,\n",
    "    how='left',\n",
    "    left_on=['Season', 'WTeamID'],\n",
    "    right_on=['Season', 'TeamID']\n",
    ").rename(columns={\n",
    "    'NumWins': 'NumWinsW',\n",
    "    'NumLosses': 'NumLossesW',\n",
    "    'GapWins': 'GapWinsW',\n",
    "    'GapLosses': 'GapLossesW',\n",
    "    'WinRatio': 'WinRatioW',\n",
    "    'GapAvg': 'GapAvgW',\n",
    "}).drop(columns='TeamID', axis=1)"
   ]
  },
  {
   "cell_type": "code",
   "execution_count": 60,
   "id": "unusual-intensity",
   "metadata": {},
   "outputs": [
    {
     "data": {
      "text/plain": [
       "\"\\ndf = pd.merge(\\n    df,\\n    df_features_season,\\n    how='left',\\n    left_on=['Season', 'LTeamID'],\\n    right_on=['Season', 'TeamID']\\n).rename(columns={\\n    'NumWins': 'NumWinsL',\\n    'NumLosses': 'NumLossesL',\\n    'GapWins': 'GapWinsL',\\n    'GapLosses': 'GapLossesL',\\n    'WinRatio': 'WinRatioL',\\n    'GapAvg': 'GapAvgL',\\n}).drop(columns='TeamID', axis=1)\\n\""
      ]
     },
     "execution_count": 60,
     "metadata": {},
     "output_type": "execute_result"
    }
   ],
   "source": [
    "\"\"\"\n",
    "df = pd.merge(\n",
    "    df,\n",
    "    df_features_season,\n",
    "    how='left',\n",
    "    left_on=['Season', 'LTeamID'],\n",
    "    right_on=['Season', 'TeamID']\n",
    ").rename(columns={\n",
    "    'NumWins': 'NumWinsL',\n",
    "    'NumLosses': 'NumLossesL',\n",
    "    'GapWins': 'GapWinsL',\n",
    "    'GapLosses': 'GapLossesL',\n",
    "    'WinRatio': 'WinRatioL',\n",
    "    'GapAvg': 'GapAvgL',\n",
    "}).drop(columns='TeamID', axis=1)\n",
    "\"\"\""
   ]
  },
  {
   "cell_type": "code",
   "execution_count": 61,
   "id": "utility-greece",
   "metadata": {},
   "outputs": [],
   "source": [
    "df = pd.merge(\n",
    "    df,\n",
    "    df_features_season,\n",
    "    how='left',\n",
    "    left_on=['Season', 'LTeamID'],\n",
    "    right_on=['Season', 'TeamID']\n",
    ").rename(columns={\n",
    "    'NumWins': 'NumWinsL',\n",
    "    'NumLosses': 'NumLossesL',\n",
    "    'GapWins': 'GapWinsL',\n",
    "    'GapLosses': 'GapLossesL',\n",
    "    'WinRatio': 'WinRatioL',\n",
    "    'GapAvg': 'GapAvgL'\n",
    "}).drop(columns='TeamID', axis=1)"
   ]
  },
  {
   "cell_type": "code",
   "execution_count": 62,
   "id": "reported-retro",
   "metadata": {},
   "outputs": [
    {
     "data": {
      "text/plain": [
       "(1071, 13)"
      ]
     },
     "execution_count": 62,
     "metadata": {},
     "output_type": "execute_result"
    }
   ],
   "source": [
    "df.shape"
   ]
  },
  {
   "cell_type": "code",
   "execution_count": 63,
   "id": "republican-message",
   "metadata": {},
   "outputs": [],
   "source": [
    "#Add symetrical"
   ]
  },
  {
   "cell_type": "code",
   "execution_count": 64,
   "id": "stainless-limit",
   "metadata": {},
   "outputs": [
    {
     "data": {
      "text/plain": [
       "'\\ndef add_loosing_matches(win_df):\\n    win_rename = {\\n        \"WTeamID\": \"TeamIdA\", \\n        \"WScore\" : \"ScoreA\", \\n        \"LTeamID\" : \"TeamIdB\",\\n        \"LScore\": \"ScoreB\",\\n        \"SeedW\": \"SeedA\", \\n        \"SeedL\": \"SeedB\",\\n        \\'WinRatioW\\' : \\'WinRatioA\\',\\n        \\'WinRatioL\\' : \\'WinRatioB\\',\\n        \\'GapAvgW\\' : \\'GapAvgA\\',\\n        \\'GapAvgL\\' : \\'GapAvgB\\',\\n#         \"OrdinalRankW\": \"OrdinalRankA\",\\n#         \"OrdinalRankL\": \"OrdinalRankB\",\\n     }\\n    \\n    lose_rename = {\\n        \"WTeamID\": \"TeamIdB\", \\n        \"WScore\" : \"ScoreB\", \\n        \"LTeamID\" : \"TeamIdA\",\\n        \"LScore\": \"ScoreA\",\\n        \"SeedW\": \"SeedB\", \\n        \"SeedL\": \"SeedA\",\\n        \\'GapAvgW\\' : \\'GapAvgB\\',\\n        \\'GapAvgL\\' : \\'GapAvgA\\',\\n        \\'WinRatioW\\' : \\'WinRatioB\\',\\n        \\'WinRatioL\\' : \\'WinRatioA\\',\\n#         \"OrdinalRankW\": \"OrdinalRankB\",\\n#         \"OrdinalRankL\": \"OrdinalRankA\",\\n    }\\n    \\n    win_df = win_df.copy()\\n    lose_df = win_df.copy()\\n    \\n    win_df = win_df.rename(columns=win_rename)\\n    lose_df = lose_df.rename(columns=lose_rename)\\n    \\n    return pd.concat([win_df, lose_df], 0, sort=False)\\n'"
      ]
     },
     "execution_count": 64,
     "metadata": {},
     "output_type": "execute_result"
    }
   ],
   "source": [
    "\"\"\"\n",
    "def add_loosing_matches(win_df):\n",
    "    win_rename = {\n",
    "        \"WTeamID\": \"TeamIdA\", \n",
    "        \"WScore\" : \"ScoreA\", \n",
    "        \"LTeamID\" : \"TeamIdB\",\n",
    "        \"LScore\": \"ScoreB\",\n",
    "        \"SeedW\": \"SeedA\", \n",
    "        \"SeedL\": \"SeedB\",\n",
    "        'WinRatioW' : 'WinRatioA',\n",
    "        'WinRatioL' : 'WinRatioB',\n",
    "        'GapAvgW' : 'GapAvgA',\n",
    "        'GapAvgL' : 'GapAvgB',\n",
    "#         \"OrdinalRankW\": \"OrdinalRankA\",\n",
    "#         \"OrdinalRankL\": \"OrdinalRankB\",\n",
    "     }\n",
    "    \n",
    "    lose_rename = {\n",
    "        \"WTeamID\": \"TeamIdB\", \n",
    "        \"WScore\" : \"ScoreB\", \n",
    "        \"LTeamID\" : \"TeamIdA\",\n",
    "        \"LScore\": \"ScoreA\",\n",
    "        \"SeedW\": \"SeedB\", \n",
    "        \"SeedL\": \"SeedA\",\n",
    "        'GapAvgW' : 'GapAvgB',\n",
    "        'GapAvgL' : 'GapAvgA',\n",
    "        'WinRatioW' : 'WinRatioB',\n",
    "        'WinRatioL' : 'WinRatioA',\n",
    "#         \"OrdinalRankW\": \"OrdinalRankB\",\n",
    "#         \"OrdinalRankL\": \"OrdinalRankA\",\n",
    "    }\n",
    "    \n",
    "    win_df = win_df.copy()\n",
    "    lose_df = win_df.copy()\n",
    "    \n",
    "    win_df = win_df.rename(columns=win_rename)\n",
    "    lose_df = lose_df.rename(columns=lose_rename)\n",
    "    \n",
    "    return pd.concat([win_df, lose_df], 0, sort=False)\n",
    "\"\"\""
   ]
  },
  {
   "cell_type": "code",
   "execution_count": 65,
   "id": "rural-conjunction",
   "metadata": {},
   "outputs": [],
   "source": [
    "def add_loosing_matches(win_df):\n",
    "    win_rename={\n",
    "        \"WTeamID\": \"TeamIdA\", \n",
    "        \"WScore\" : \"ScoreA\", \n",
    "        \"LTeamID\" : \"TeamIdB\",\n",
    "        \"LScore\": \"ScoreB\",\n",
    "        \"SeedW\": \"SeedA\", \n",
    "        \"SeedL\": \"SeedB\",\n",
    "        'WinRatioW' : 'WinRatioA',\n",
    "        'WinRatioL' : 'WinRatioB',\n",
    "        'GapAvgW' : 'GapAvgA',\n",
    "        'GapAvgL' : 'GapAvgB',\n",
    "#         \"OrdinalRankW\": \"OrdinalRankA\",\n",
    "#         \"OrdinalRankL\": \"OrdinalRankB\",\n",
    "    }\n",
    "    \n",
    "    lose_rename={\n",
    "        \"WTeamID\": \"TeamIdB\", \n",
    "        \"WScore\" : \"ScoreB\", \n",
    "        \"LTeamID\" : \"TeamIdA\",\n",
    "        \"LScore\": \"ScoreA\",\n",
    "        \"SeedW\": \"SeedB\", \n",
    "        \"SeedL\": \"SeedA\",\n",
    "        'GapAvgW' : 'GapAvgB',\n",
    "        'GapAvgL' : 'GapAvgA',\n",
    "        'WinRatioW' : 'WinRatioB',\n",
    "        'WinRatioL' : 'WinRatioA',\n",
    "#         \"OrdinalRankW\": \"OrdinalRankB\",\n",
    "#         \"OrdinalRankL\": \"OrdinalRankA\",\n",
    "    }\n",
    "    \n",
    "    win_df = win_df.copy()\n",
    "    lose_df = win_df.copy()\n",
    "    \n",
    "    win_df = win_df.rename(columns=win_rename)\n",
    "    lose_df = lose_df.rename(columns=lose_rename)\n",
    "    \n",
    "    return pd.concat([win_df, lose_df], 0, sort=False)"
   ]
  },
  {
   "cell_type": "code",
   "execution_count": 66,
   "id": "moving-commission",
   "metadata": {},
   "outputs": [],
   "source": [
    "df = add_loosing_matches(df)"
   ]
  },
  {
   "cell_type": "code",
   "execution_count": 67,
   "id": "egyptian-baltimore",
   "metadata": {},
   "outputs": [
    {
     "data": {
      "text/html": [
       "<div>\n",
       "<style scoped>\n",
       "    .dataframe tbody tr th:only-of-type {\n",
       "        vertical-align: middle;\n",
       "    }\n",
       "\n",
       "    .dataframe tbody tr th {\n",
       "        vertical-align: top;\n",
       "    }\n",
       "\n",
       "    .dataframe thead th {\n",
       "        text-align: right;\n",
       "    }\n",
       "</style>\n",
       "<table border=\"1\" class=\"dataframe\">\n",
       "  <thead>\n",
       "    <tr style=\"text-align: right;\">\n",
       "      <th></th>\n",
       "      <th>Season</th>\n",
       "      <th>DayNum</th>\n",
       "      <th>TeamIdA</th>\n",
       "      <th>ScoreA</th>\n",
       "      <th>TeamIdB</th>\n",
       "      <th>ScoreB</th>\n",
       "      <th>Round</th>\n",
       "      <th>SeedA</th>\n",
       "      <th>SeedB</th>\n",
       "      <th>WinRatioA</th>\n",
       "      <th>GapAvgA</th>\n",
       "      <th>WinRatioB</th>\n",
       "      <th>GapAvgB</th>\n",
       "    </tr>\n",
       "  </thead>\n",
       "  <tbody>\n",
       "    <tr>\n",
       "      <th>0</th>\n",
       "      <td>2003</td>\n",
       "      <td>138</td>\n",
       "      <td>3130</td>\n",
       "      <td>73</td>\n",
       "      <td>3330</td>\n",
       "      <td>72</td>\n",
       "      <td>0</td>\n",
       "      <td>5</td>\n",
       "      <td>12</td>\n",
       "      <td>0.714286</td>\n",
       "      <td>10.821429</td>\n",
       "      <td>0.677419</td>\n",
       "      <td>8.483871</td>\n",
       "    </tr>\n",
       "    <tr>\n",
       "      <th>1</th>\n",
       "      <td>2003</td>\n",
       "      <td>138</td>\n",
       "      <td>3160</td>\n",
       "      <td>84</td>\n",
       "      <td>3140</td>\n",
       "      <td>45</td>\n",
       "      <td>0</td>\n",
       "      <td>6</td>\n",
       "      <td>11</td>\n",
       "      <td>0.758621</td>\n",
       "      <td>8.413793</td>\n",
       "      <td>0.633333</td>\n",
       "      <td>6.466667</td>\n",
       "    </tr>\n",
       "    <tr>\n",
       "      <th>2</th>\n",
       "      <td>2003</td>\n",
       "      <td>138</td>\n",
       "      <td>3208</td>\n",
       "      <td>80</td>\n",
       "      <td>3150</td>\n",
       "      <td>61</td>\n",
       "      <td>0</td>\n",
       "      <td>5</td>\n",
       "      <td>12</td>\n",
       "      <td>0.678571</td>\n",
       "      <td>12.928571</td>\n",
       "      <td>0.724138</td>\n",
       "      <td>7.034483</td>\n",
       "    </tr>\n",
       "    <tr>\n",
       "      <th>3</th>\n",
       "      <td>2003</td>\n",
       "      <td>138</td>\n",
       "      <td>3261</td>\n",
       "      <td>86</td>\n",
       "      <td>3402</td>\n",
       "      <td>50</td>\n",
       "      <td>0</td>\n",
       "      <td>1</td>\n",
       "      <td>16</td>\n",
       "      <td>0.900000</td>\n",
       "      <td>18.500000</td>\n",
       "      <td>0.580645</td>\n",
       "      <td>-0.161290</td>\n",
       "    </tr>\n",
       "    <tr>\n",
       "      <th>4</th>\n",
       "      <td>2003</td>\n",
       "      <td>138</td>\n",
       "      <td>3278</td>\n",
       "      <td>68</td>\n",
       "      <td>3408</td>\n",
       "      <td>48</td>\n",
       "      <td>0</td>\n",
       "      <td>6</td>\n",
       "      <td>11</td>\n",
       "      <td>0.821429</td>\n",
       "      <td>14.000000</td>\n",
       "      <td>0.678571</td>\n",
       "      <td>8.821429</td>\n",
       "    </tr>\n",
       "    <tr>\n",
       "      <th>...</th>\n",
       "      <td>...</td>\n",
       "      <td>...</td>\n",
       "      <td>...</td>\n",
       "      <td>...</td>\n",
       "      <td>...</td>\n",
       "      <td>...</td>\n",
       "      <td>...</td>\n",
       "      <td>...</td>\n",
       "      <td>...</td>\n",
       "      <td>...</td>\n",
       "      <td>...</td>\n",
       "      <td>...</td>\n",
       "      <td>...</td>\n",
       "    </tr>\n",
       "    <tr>\n",
       "      <th>1066</th>\n",
       "      <td>2019</td>\n",
       "      <td>147</td>\n",
       "      <td>3234</td>\n",
       "      <td>53</td>\n",
       "      <td>3124</td>\n",
       "      <td>85</td>\n",
       "      <td>4</td>\n",
       "      <td>2</td>\n",
       "      <td>1</td>\n",
       "      <td>0.812500</td>\n",
       "      <td>12.250000</td>\n",
       "      <td>0.968750</td>\n",
       "      <td>25.937500</td>\n",
       "    </tr>\n",
       "    <tr>\n",
       "      <th>1067</th>\n",
       "      <td>2019</td>\n",
       "      <td>147</td>\n",
       "      <td>3390</td>\n",
       "      <td>68</td>\n",
       "      <td>3323</td>\n",
       "      <td>84</td>\n",
       "      <td>4</td>\n",
       "      <td>2</td>\n",
       "      <td>1</td>\n",
       "      <td>0.875000</td>\n",
       "      <td>14.000000</td>\n",
       "      <td>0.909091</td>\n",
       "      <td>25.000000</td>\n",
       "    </tr>\n",
       "    <tr>\n",
       "      <th>1068</th>\n",
       "      <td>2019</td>\n",
       "      <td>151</td>\n",
       "      <td>3332</td>\n",
       "      <td>67</td>\n",
       "      <td>3124</td>\n",
       "      <td>72</td>\n",
       "      <td>5</td>\n",
       "      <td>2</td>\n",
       "      <td>1</td>\n",
       "      <td>0.875000</td>\n",
       "      <td>21.406250</td>\n",
       "      <td>0.968750</td>\n",
       "      <td>25.937500</td>\n",
       "    </tr>\n",
       "    <tr>\n",
       "      <th>1069</th>\n",
       "      <td>2019</td>\n",
       "      <td>151</td>\n",
       "      <td>3163</td>\n",
       "      <td>76</td>\n",
       "      <td>3323</td>\n",
       "      <td>81</td>\n",
       "      <td>5</td>\n",
       "      <td>2</td>\n",
       "      <td>1</td>\n",
       "      <td>0.939394</td>\n",
       "      <td>28.030303</td>\n",
       "      <td>0.909091</td>\n",
       "      <td>25.000000</td>\n",
       "    </tr>\n",
       "    <tr>\n",
       "      <th>1070</th>\n",
       "      <td>2019</td>\n",
       "      <td>153</td>\n",
       "      <td>3323</td>\n",
       "      <td>81</td>\n",
       "      <td>3124</td>\n",
       "      <td>82</td>\n",
       "      <td>5</td>\n",
       "      <td>1</td>\n",
       "      <td>1</td>\n",
       "      <td>0.909091</td>\n",
       "      <td>25.000000</td>\n",
       "      <td>0.968750</td>\n",
       "      <td>25.937500</td>\n",
       "    </tr>\n",
       "  </tbody>\n",
       "</table>\n",
       "<p>2142 rows × 13 columns</p>\n",
       "</div>"
      ],
      "text/plain": [
       "      Season  DayNum  TeamIdA  ScoreA  TeamIdB  ScoreB  Round  SeedA  SeedB  \\\n",
       "0       2003     138     3130      73     3330      72      0      5     12   \n",
       "1       2003     138     3160      84     3140      45      0      6     11   \n",
       "2       2003     138     3208      80     3150      61      0      5     12   \n",
       "3       2003     138     3261      86     3402      50      0      1     16   \n",
       "4       2003     138     3278      68     3408      48      0      6     11   \n",
       "...      ...     ...      ...     ...      ...     ...    ...    ...    ...   \n",
       "1066    2019     147     3234      53     3124      85      4      2      1   \n",
       "1067    2019     147     3390      68     3323      84      4      2      1   \n",
       "1068    2019     151     3332      67     3124      72      5      2      1   \n",
       "1069    2019     151     3163      76     3323      81      5      2      1   \n",
       "1070    2019     153     3323      81     3124      82      5      1      1   \n",
       "\n",
       "      WinRatioA    GapAvgA  WinRatioB    GapAvgB  \n",
       "0      0.714286  10.821429   0.677419   8.483871  \n",
       "1      0.758621   8.413793   0.633333   6.466667  \n",
       "2      0.678571  12.928571   0.724138   7.034483  \n",
       "3      0.900000  18.500000   0.580645  -0.161290  \n",
       "4      0.821429  14.000000   0.678571   8.821429  \n",
       "...         ...        ...        ...        ...  \n",
       "1066   0.812500  12.250000   0.968750  25.937500  \n",
       "1067   0.875000  14.000000   0.909091  25.000000  \n",
       "1068   0.875000  21.406250   0.968750  25.937500  \n",
       "1069   0.939394  28.030303   0.909091  25.000000  \n",
       "1070   0.909091  25.000000   0.968750  25.937500  \n",
       "\n",
       "[2142 rows x 13 columns]"
      ]
     },
     "execution_count": 67,
     "metadata": {},
     "output_type": "execute_result"
    }
   ],
   "source": [
    "df"
   ]
  },
  {
   "cell_type": "code",
   "execution_count": null,
   "id": "competent-amazon",
   "metadata": {},
   "outputs": [],
   "source": [
    "#Differences"
   ]
  },
  {
   "cell_type": "code",
   "execution_count": null,
   "id": "differential-duncan",
   "metadata": {},
   "outputs": [],
   "source": [
    "\"\"\"\n",
    "df['SeedDiff'] = df['SeedA'] - df['SeedB']\n",
    "df['WinRatioDiff'] = df['WinRatioA'] - df['WinRatioB']\n",
    "df['GapAvgDiff'] = df['GapAvgA'] - df['GapAvgB']\n",
    "# df['OrdinalRankDiff'] = df['OrdinalRankA'] - df['OrdinalRankB']\n",
    "\"\"\""
   ]
  },
  {
   "cell_type": "code",
   "execution_count": 108,
   "id": "latter-liechtenstein",
   "metadata": {},
   "outputs": [],
   "source": [
    "df['SeedDiff'] = df['SeedA'] - df['SeedB']\n",
    "df['WinRatioDiff'] = df['WinRatioA'] - df['WinRatioB']\n",
    "df['GapAvgDiff'] = df['GapAvgA'] - df['GapAvgB']"
   ]
  },
  {
   "cell_type": "code",
   "execution_count": 69,
   "id": "sudden-treasure",
   "metadata": {},
   "outputs": [
    {
     "data": {
      "text/html": [
       "<div>\n",
       "<style scoped>\n",
       "    .dataframe tbody tr th:only-of-type {\n",
       "        vertical-align: middle;\n",
       "    }\n",
       "\n",
       "    .dataframe tbody tr th {\n",
       "        vertical-align: top;\n",
       "    }\n",
       "\n",
       "    .dataframe thead th {\n",
       "        text-align: right;\n",
       "    }\n",
       "</style>\n",
       "<table border=\"1\" class=\"dataframe\">\n",
       "  <thead>\n",
       "    <tr style=\"text-align: right;\">\n",
       "      <th></th>\n",
       "      <th>Season</th>\n",
       "      <th>DayNum</th>\n",
       "      <th>TeamIdA</th>\n",
       "      <th>ScoreA</th>\n",
       "      <th>TeamIdB</th>\n",
       "      <th>ScoreB</th>\n",
       "      <th>Round</th>\n",
       "      <th>SeedA</th>\n",
       "      <th>SeedB</th>\n",
       "      <th>WinRatioA</th>\n",
       "      <th>GapAvgA</th>\n",
       "      <th>WinRatioB</th>\n",
       "      <th>GapAvgB</th>\n",
       "      <th>SeeDiff</th>\n",
       "      <th>WinRatioDiff</th>\n",
       "      <th>GapAvgDiff</th>\n",
       "    </tr>\n",
       "  </thead>\n",
       "  <tbody>\n",
       "    <tr>\n",
       "      <th>0</th>\n",
       "      <td>2003</td>\n",
       "      <td>138</td>\n",
       "      <td>3130</td>\n",
       "      <td>73</td>\n",
       "      <td>3330</td>\n",
       "      <td>72</td>\n",
       "      <td>0</td>\n",
       "      <td>5</td>\n",
       "      <td>12</td>\n",
       "      <td>0.714286</td>\n",
       "      <td>10.821429</td>\n",
       "      <td>0.677419</td>\n",
       "      <td>8.483871</td>\n",
       "      <td>-7</td>\n",
       "      <td>0.036866</td>\n",
       "      <td>2.337558</td>\n",
       "    </tr>\n",
       "    <tr>\n",
       "      <th>1</th>\n",
       "      <td>2003</td>\n",
       "      <td>138</td>\n",
       "      <td>3160</td>\n",
       "      <td>84</td>\n",
       "      <td>3140</td>\n",
       "      <td>45</td>\n",
       "      <td>0</td>\n",
       "      <td>6</td>\n",
       "      <td>11</td>\n",
       "      <td>0.758621</td>\n",
       "      <td>8.413793</td>\n",
       "      <td>0.633333</td>\n",
       "      <td>6.466667</td>\n",
       "      <td>-5</td>\n",
       "      <td>0.125287</td>\n",
       "      <td>1.947126</td>\n",
       "    </tr>\n",
       "    <tr>\n",
       "      <th>2</th>\n",
       "      <td>2003</td>\n",
       "      <td>138</td>\n",
       "      <td>3208</td>\n",
       "      <td>80</td>\n",
       "      <td>3150</td>\n",
       "      <td>61</td>\n",
       "      <td>0</td>\n",
       "      <td>5</td>\n",
       "      <td>12</td>\n",
       "      <td>0.678571</td>\n",
       "      <td>12.928571</td>\n",
       "      <td>0.724138</td>\n",
       "      <td>7.034483</td>\n",
       "      <td>-7</td>\n",
       "      <td>-0.045567</td>\n",
       "      <td>5.894089</td>\n",
       "    </tr>\n",
       "    <tr>\n",
       "      <th>3</th>\n",
       "      <td>2003</td>\n",
       "      <td>138</td>\n",
       "      <td>3261</td>\n",
       "      <td>86</td>\n",
       "      <td>3402</td>\n",
       "      <td>50</td>\n",
       "      <td>0</td>\n",
       "      <td>1</td>\n",
       "      <td>16</td>\n",
       "      <td>0.900000</td>\n",
       "      <td>18.500000</td>\n",
       "      <td>0.580645</td>\n",
       "      <td>-0.161290</td>\n",
       "      <td>-15</td>\n",
       "      <td>0.319355</td>\n",
       "      <td>18.661290</td>\n",
       "    </tr>\n",
       "    <tr>\n",
       "      <th>4</th>\n",
       "      <td>2003</td>\n",
       "      <td>138</td>\n",
       "      <td>3278</td>\n",
       "      <td>68</td>\n",
       "      <td>3408</td>\n",
       "      <td>48</td>\n",
       "      <td>0</td>\n",
       "      <td>6</td>\n",
       "      <td>11</td>\n",
       "      <td>0.821429</td>\n",
       "      <td>14.000000</td>\n",
       "      <td>0.678571</td>\n",
       "      <td>8.821429</td>\n",
       "      <td>-5</td>\n",
       "      <td>0.142857</td>\n",
       "      <td>5.178571</td>\n",
       "    </tr>\n",
       "  </tbody>\n",
       "</table>\n",
       "</div>"
      ],
      "text/plain": [
       "   Season  DayNum  TeamIdA  ScoreA  TeamIdB  ScoreB  Round  SeedA  SeedB  \\\n",
       "0    2003     138     3130      73     3330      72      0      5     12   \n",
       "1    2003     138     3160      84     3140      45      0      6     11   \n",
       "2    2003     138     3208      80     3150      61      0      5     12   \n",
       "3    2003     138     3261      86     3402      50      0      1     16   \n",
       "4    2003     138     3278      68     3408      48      0      6     11   \n",
       "\n",
       "   WinRatioA    GapAvgA  WinRatioB   GapAvgB  SeeDiff  WinRatioDiff  \\\n",
       "0   0.714286  10.821429   0.677419  8.483871       -7      0.036866   \n",
       "1   0.758621   8.413793   0.633333  6.466667       -5      0.125287   \n",
       "2   0.678571  12.928571   0.724138  7.034483       -7     -0.045567   \n",
       "3   0.900000  18.500000   0.580645 -0.161290      -15      0.319355   \n",
       "4   0.821429  14.000000   0.678571  8.821429       -5      0.142857   \n",
       "\n",
       "   GapAvgDiff  \n",
       "0    2.337558  \n",
       "1    1.947126  \n",
       "2    5.894089  \n",
       "3   18.661290  \n",
       "4    5.178571  "
      ]
     },
     "execution_count": 69,
     "metadata": {},
     "output_type": "execute_result"
    }
   ],
   "source": [
    "df.head()"
   ]
  },
  {
   "cell_type": "code",
   "execution_count": null,
   "id": "starting-bubble",
   "metadata": {},
   "outputs": [],
   "source": [
    "#Test Data"
   ]
  },
  {
   "cell_type": "code",
   "execution_count": null,
   "id": "hindu-function",
   "metadata": {},
   "outputs": [],
   "source": [
    "\"\"\"\n",
    "# df_test = pd.read_csv(DATA_PATH + \"MSampleSubmissionStage1.csv\")\n",
    "df_test = pd.read_csv(DATA_PATH + \"WSampleSubmissionStage1.csv\")\n",
    "\"\"\""
   ]
  },
  {
   "cell_type": "code",
   "execution_count": 70,
   "id": "handed-destination",
   "metadata": {},
   "outputs": [],
   "source": [
    "df_test = pd.read_csv(DATA_PATH + \"WSampleSubmissionStage1.csv\")"
   ]
  },
  {
   "cell_type": "code",
   "execution_count": null,
   "id": "bottom-parker",
   "metadata": {},
   "outputs": [],
   "source": [
    "\"\"\"\n",
    "df_test['Season'] = df_test['ID'].apply(lambda x: int(x.split('_')[0]))\n",
    "df_test['TeamIdA'] = df_test['ID'].apply(lambda x: int(x.split('_')[1]))\n",
    "df_test['TeamIdB'] = df_test['ID'].apply(lambda x: int(x.split('_')[2]))\n",
    "\"\"\""
   ]
  },
  {
   "cell_type": "code",
   "execution_count": 71,
   "id": "assumed-tattoo",
   "metadata": {},
   "outputs": [],
   "source": [
    "df_test['Season'] = df_test['ID'].apply(lambda x: int(x.split('_')[0]))\n",
    "df_test['TeamIdA'] = df_test['ID'].apply(lambda x: int(x.split('_')[1]))\n",
    "df_test['TeamIdB'] = df_test['ID'].apply(lambda x: int(x.split('_')[2]))"
   ]
  },
  {
   "cell_type": "code",
   "execution_count": 72,
   "id": "soviet-manual",
   "metadata": {},
   "outputs": [
    {
     "data": {
      "text/html": [
       "<div>\n",
       "<style scoped>\n",
       "    .dataframe tbody tr th:only-of-type {\n",
       "        vertical-align: middle;\n",
       "    }\n",
       "\n",
       "    .dataframe tbody tr th {\n",
       "        vertical-align: top;\n",
       "    }\n",
       "\n",
       "    .dataframe thead th {\n",
       "        text-align: right;\n",
       "    }\n",
       "</style>\n",
       "<table border=\"1\" class=\"dataframe\">\n",
       "  <thead>\n",
       "    <tr style=\"text-align: right;\">\n",
       "      <th></th>\n",
       "      <th>ID</th>\n",
       "      <th>Pred</th>\n",
       "      <th>Season</th>\n",
       "      <th>TeamIdA</th>\n",
       "      <th>TeamIdB</th>\n",
       "    </tr>\n",
       "  </thead>\n",
       "  <tbody>\n",
       "    <tr>\n",
       "      <th>0</th>\n",
       "      <td>2015_3106_3107</td>\n",
       "      <td>0.5</td>\n",
       "      <td>2015</td>\n",
       "      <td>3106</td>\n",
       "      <td>3107</td>\n",
       "    </tr>\n",
       "    <tr>\n",
       "      <th>1</th>\n",
       "      <td>2015_3106_3110</td>\n",
       "      <td>0.5</td>\n",
       "      <td>2015</td>\n",
       "      <td>3106</td>\n",
       "      <td>3110</td>\n",
       "    </tr>\n",
       "    <tr>\n",
       "      <th>2</th>\n",
       "      <td>2015_3106_3113</td>\n",
       "      <td>0.5</td>\n",
       "      <td>2015</td>\n",
       "      <td>3106</td>\n",
       "      <td>3113</td>\n",
       "    </tr>\n",
       "    <tr>\n",
       "      <th>3</th>\n",
       "      <td>2015_3106_3114</td>\n",
       "      <td>0.5</td>\n",
       "      <td>2015</td>\n",
       "      <td>3106</td>\n",
       "      <td>3114</td>\n",
       "    </tr>\n",
       "    <tr>\n",
       "      <th>4</th>\n",
       "      <td>2015_3106_3116</td>\n",
       "      <td>0.5</td>\n",
       "      <td>2015</td>\n",
       "      <td>3106</td>\n",
       "      <td>3116</td>\n",
       "    </tr>\n",
       "  </tbody>\n",
       "</table>\n",
       "</div>"
      ],
      "text/plain": [
       "               ID  Pred  Season  TeamIdA  TeamIdB\n",
       "0  2015_3106_3107   0.5    2015     3106     3107\n",
       "1  2015_3106_3110   0.5    2015     3106     3110\n",
       "2  2015_3106_3113   0.5    2015     3106     3113\n",
       "3  2015_3106_3114   0.5    2015     3106     3114\n",
       "4  2015_3106_3116   0.5    2015     3106     3116"
      ]
     },
     "execution_count": 72,
     "metadata": {},
     "output_type": "execute_result"
    }
   ],
   "source": [
    "df_test.head()"
   ]
  },
  {
   "cell_type": "code",
   "execution_count": null,
   "id": "arabic-green",
   "metadata": {},
   "outputs": [],
   "source": [
    "#Seeds"
   ]
  },
  {
   "cell_type": "code",
   "execution_count": null,
   "id": "compliant-proposal",
   "metadata": {},
   "outputs": [],
   "source": [
    "\"\"\"\n",
    "df_test = pd.merge(\n",
    "    df_test,\n",
    "    df_seeds,\n",
    "    how='left',\n",
    "    left_on=['Season', 'TeamIdA'],\n",
    "    right_on=['Season', 'TeamID']\n",
    ").drop('TeamID', axis=1).rename(columns={'Seed': 'SeedA'})\n",
    "\n",
    "\"\"\""
   ]
  },
  {
   "cell_type": "code",
   "execution_count": 73,
   "id": "excited-knowing",
   "metadata": {},
   "outputs": [],
   "source": [
    "df_test = pd.merge(\n",
    "    df_test,\n",
    "    df_seeds,\n",
    "    how='left',\n",
    "    left_on=['Season', 'TeamIdA'],\n",
    "    right_on=['Season', 'TeamID']\n",
    ").drop('TeamID', axis=1).rename(columns={'Seed': 'SeedA'})"
   ]
  },
  {
   "cell_type": "code",
   "execution_count": null,
   "id": "unexpected-style",
   "metadata": {},
   "outputs": [],
   "source": [
    "\"\"\"\n",
    "df_test = pd.merge(\n",
    "    df_test, \n",
    "    df_seeds, \n",
    "    how='left', \n",
    "    left_on=['Season', 'TeamIdB'], \n",
    "    right_on=['Season', 'TeamID']\n",
    ").drop('TeamID', axis=1).rename(columns={'Seed': 'SeedB'})\n",
    "\"\"\""
   ]
  },
  {
   "cell_type": "code",
   "execution_count": 74,
   "id": "liquid-navigation",
   "metadata": {},
   "outputs": [],
   "source": [
    "df_test = pd.merge(\n",
    "    df_test,\n",
    "    df_seeds,\n",
    "    how='left',\n",
    "    left_on=['Season', 'TeamIdB'],\n",
    "    right_on=['Season', 'TeamID']\n",
    ").drop('TeamID', axis=1).rename(columns={'Seed': 'SeedB'})"
   ]
  },
  {
   "cell_type": "code",
   "execution_count": null,
   "id": "coupled-rental",
   "metadata": {},
   "outputs": [],
   "source": [
    "\"\"\"\n",
    "df_test['SeedA'] = df_test['SeedA'].apply(treat_seed)\n",
    "df_test['SeedB'] = df_test['SeedB'].apply(treat_seed)\n",
    "\"\"\""
   ]
  },
  {
   "cell_type": "code",
   "execution_count": 75,
   "id": "requested-beaver",
   "metadata": {},
   "outputs": [],
   "source": [
    "df_test['SeedA'] = df_test['SeedA'].apply(treat_seed)\n",
    "df_test['SeedB'] = df_test['SeedB'].apply(treat_seed)"
   ]
  },
  {
   "cell_type": "code",
   "execution_count": null,
   "id": "smart-freight",
   "metadata": {},
   "outputs": [],
   "source": [
    "#Season Stats"
   ]
  },
  {
   "cell_type": "code",
   "execution_count": null,
   "id": "promotional-boring",
   "metadata": {},
   "outputs": [],
   "source": [
    "\"\"\"\n",
    "df_test = pd.merge(\n",
    "    df_test,\n",
    "    df_features_season,\n",
    "    how='left',\n",
    "    left_on=['Season', 'TeamIdA'],\n",
    "    right_on=['Season', 'TeamID']\n",
    ").rename(columns={\n",
    "    'NumWins': 'NumWinsA',\n",
    "    'NumLosses': 'NumLossesA',\n",
    "    'GapWins': 'GapWinsA',\n",
    "    'GapLosses': 'GapLossesA',\n",
    "    'WinRatio': 'WinRatioA',\n",
    "    'GapAvg': 'GapAvgA',\n",
    "}).drop(columns='TeamID', axis=1)\n",
    "\n",
    "\"\"\""
   ]
  },
  {
   "cell_type": "code",
   "execution_count": 76,
   "id": "upset-donna",
   "metadata": {},
   "outputs": [],
   "source": [
    "df_test = pd.merge(\n",
    "    df_test,\n",
    "    df_features_season,\n",
    "    how='left',\n",
    "    left_on=['Season', 'TeamIdA'],\n",
    "    right_on=['Season', 'TeamID']\n",
    ").rename(columns={\n",
    "    'NumWins': 'NumWinsA',\n",
    "    'NumLosses': 'NumLossesA',\n",
    "    'GapWins': 'GapWinsA',\n",
    "    'GapLosses': 'GapLossesA',\n",
    "    'WinRatio': 'WinRatioA',\n",
    "    'GapAvg': 'GapAvgA',\n",
    "}).drop(columns='TeamID', axis=1)"
   ]
  },
  {
   "cell_type": "code",
   "execution_count": null,
   "id": "advised-present",
   "metadata": {},
   "outputs": [],
   "source": [
    "\"\"\"\n",
    "df_test = pd.merge(\n",
    "    df_test,\n",
    "    df_features_season,\n",
    "    how='left',\n",
    "    left_on=['Season', 'TeamIdB'],\n",
    "    right_on=['Season', 'TeamID']\n",
    ").rename(columns={\n",
    "    'NumWins': 'NumWinsB',\n",
    "    'NumLosses': 'NumLossesB',\n",
    "    'GapWins': 'GapWinsB',\n",
    "    'GapLosses': 'GapLossesB',\n",
    "    'WinRatio': 'WinRatioB',\n",
    "    'GapAvg': 'GapAvgB',\n",
    "}).drop(columns='TeamID', axis=1)\n",
    "\"\"\""
   ]
  },
  {
   "cell_type": "code",
   "execution_count": 77,
   "id": "stretch-fancy",
   "metadata": {},
   "outputs": [],
   "source": [
    "df_test = pd.merge(\n",
    "    df_test,\n",
    "    df_features_season,\n",
    "    how='left',\n",
    "    left_on=['Season', 'TeamIdB'],\n",
    "    right_on=['Season', 'TeamID']\n",
    ").rename(columns={\n",
    "    'NumWins': 'NumWinsB',\n",
    "    'NumLosses': 'NumLossesB',\n",
    "    'GapWins': 'GapWinsB',\n",
    "    'GapLosses': 'GapLossesB',\n",
    "    'WinRatio': 'WinRatioB',\n",
    "    'GapAvg': 'GapAvgB'\n",
    "}).drop(columns='TeamID', axis=1)"
   ]
  },
  {
   "cell_type": "code",
   "execution_count": null,
   "id": "destroyed-brooks",
   "metadata": {},
   "outputs": [],
   "source": [
    "#Differences"
   ]
  },
  {
   "cell_type": "code",
   "execution_count": null,
   "id": "neural-rainbow",
   "metadata": {},
   "outputs": [],
   "source": [
    "\"\"\"\n",
    "df_test['SeedDiff'] = df_test['SeedA'] - df_test['SeedB']\n",
    "df_test['WinRatioDiff'] = df_test['WinRatioA'] - df_test['WinRatioB']\n",
    "df_test['GapAvgDiff'] = df_test['GapAvgA'] - df_test['GapAvgB']\n",
    "\"\"\""
   ]
  },
  {
   "cell_type": "code",
   "execution_count": 78,
   "id": "laughing-brother",
   "metadata": {},
   "outputs": [],
   "source": [
    "df_test['SeedDiff'] = df_test['SeedA'] - df_test['SeedB']\n",
    "df_test['WinRatioDiff'] = df_test['WinRatioA'] - df_test['WinRatioB']\n",
    "df_test['GapAvgDiff'] = df_test['GapAvgA'] - df_test['GapAvgB']"
   ]
  },
  {
   "cell_type": "code",
   "execution_count": 79,
   "id": "optional-health",
   "metadata": {},
   "outputs": [
    {
     "data": {
      "text/html": [
       "<div>\n",
       "<style scoped>\n",
       "    .dataframe tbody tr th:only-of-type {\n",
       "        vertical-align: middle;\n",
       "    }\n",
       "\n",
       "    .dataframe tbody tr th {\n",
       "        vertical-align: top;\n",
       "    }\n",
       "\n",
       "    .dataframe thead th {\n",
       "        text-align: right;\n",
       "    }\n",
       "</style>\n",
       "<table border=\"1\" class=\"dataframe\">\n",
       "  <thead>\n",
       "    <tr style=\"text-align: right;\">\n",
       "      <th></th>\n",
       "      <th>ID</th>\n",
       "      <th>Pred</th>\n",
       "      <th>Season</th>\n",
       "      <th>TeamIdA</th>\n",
       "      <th>TeamIdB</th>\n",
       "      <th>SeedA</th>\n",
       "      <th>SeedB</th>\n",
       "      <th>WinRatioA</th>\n",
       "      <th>GapAvgA</th>\n",
       "      <th>WinRatioB</th>\n",
       "      <th>GapAvgB</th>\n",
       "      <th>SeedDiff</th>\n",
       "      <th>WinRatioDiff</th>\n",
       "      <th>GapAvgDiff</th>\n",
       "    </tr>\n",
       "  </thead>\n",
       "  <tbody>\n",
       "    <tr>\n",
       "      <th>0</th>\n",
       "      <td>2015_3106_3107</td>\n",
       "      <td>0.5</td>\n",
       "      <td>2015</td>\n",
       "      <td>3106</td>\n",
       "      <td>3107</td>\n",
       "      <td>15</td>\n",
       "      <td>13</td>\n",
       "      <td>0.5</td>\n",
       "      <td>-0.714286</td>\n",
       "      <td>0.750000</td>\n",
       "      <td>14.15625</td>\n",
       "      <td>2</td>\n",
       "      <td>-0.250000</td>\n",
       "      <td>-14.870536</td>\n",
       "    </tr>\n",
       "    <tr>\n",
       "      <th>1</th>\n",
       "      <td>2015_3106_3110</td>\n",
       "      <td>0.5</td>\n",
       "      <td>2015</td>\n",
       "      <td>3106</td>\n",
       "      <td>3110</td>\n",
       "      <td>15</td>\n",
       "      <td>14</td>\n",
       "      <td>0.5</td>\n",
       "      <td>-0.714286</td>\n",
       "      <td>0.750000</td>\n",
       "      <td>6.12500</td>\n",
       "      <td>1</td>\n",
       "      <td>-0.250000</td>\n",
       "      <td>-6.839286</td>\n",
       "    </tr>\n",
       "    <tr>\n",
       "      <th>2</th>\n",
       "      <td>2015_3106_3113</td>\n",
       "      <td>0.5</td>\n",
       "      <td>2015</td>\n",
       "      <td>3106</td>\n",
       "      <td>3113</td>\n",
       "      <td>15</td>\n",
       "      <td>3</td>\n",
       "      <td>0.5</td>\n",
       "      <td>-0.714286</td>\n",
       "      <td>0.843750</td>\n",
       "      <td>12.31250</td>\n",
       "      <td>12</td>\n",
       "      <td>-0.343750</td>\n",
       "      <td>-13.026786</td>\n",
       "    </tr>\n",
       "    <tr>\n",
       "      <th>3</th>\n",
       "      <td>2015_3106_3114</td>\n",
       "      <td>0.5</td>\n",
       "      <td>2015</td>\n",
       "      <td>3106</td>\n",
       "      <td>3114</td>\n",
       "      <td>15</td>\n",
       "      <td>11</td>\n",
       "      <td>0.5</td>\n",
       "      <td>-0.714286</td>\n",
       "      <td>0.875000</td>\n",
       "      <td>14.25000</td>\n",
       "      <td>4</td>\n",
       "      <td>-0.375000</td>\n",
       "      <td>-14.964286</td>\n",
       "    </tr>\n",
       "    <tr>\n",
       "      <th>4</th>\n",
       "      <td>2015_3106_3116</td>\n",
       "      <td>0.5</td>\n",
       "      <td>2015</td>\n",
       "      <td>3106</td>\n",
       "      <td>3116</td>\n",
       "      <td>15</td>\n",
       "      <td>10</td>\n",
       "      <td>0.5</td>\n",
       "      <td>-0.714286</td>\n",
       "      <td>0.566667</td>\n",
       "      <td>4.90000</td>\n",
       "      <td>5</td>\n",
       "      <td>-0.066667</td>\n",
       "      <td>-5.614286</td>\n",
       "    </tr>\n",
       "  </tbody>\n",
       "</table>\n",
       "</div>"
      ],
      "text/plain": [
       "               ID  Pred  Season  TeamIdA  TeamIdB  SeedA  SeedB  WinRatioA  \\\n",
       "0  2015_3106_3107   0.5    2015     3106     3107     15     13        0.5   \n",
       "1  2015_3106_3110   0.5    2015     3106     3110     15     14        0.5   \n",
       "2  2015_3106_3113   0.5    2015     3106     3113     15      3        0.5   \n",
       "3  2015_3106_3114   0.5    2015     3106     3114     15     11        0.5   \n",
       "4  2015_3106_3116   0.5    2015     3106     3116     15     10        0.5   \n",
       "\n",
       "    GapAvgA  WinRatioB   GapAvgB  SeedDiff  WinRatioDiff  GapAvgDiff  \n",
       "0 -0.714286   0.750000  14.15625         2     -0.250000  -14.870536  \n",
       "1 -0.714286   0.750000   6.12500         1     -0.250000   -6.839286  \n",
       "2 -0.714286   0.843750  12.31250        12     -0.343750  -13.026786  \n",
       "3 -0.714286   0.875000  14.25000         4     -0.375000  -14.964286  \n",
       "4 -0.714286   0.566667   4.90000         5     -0.066667   -5.614286  "
      ]
     },
     "execution_count": 79,
     "metadata": {},
     "output_type": "execute_result"
    }
   ],
   "source": [
    "df_test.head()"
   ]
  },
  {
   "cell_type": "code",
   "execution_count": null,
   "id": "strategic-insertion",
   "metadata": {},
   "outputs": [],
   "source": [
    "#Target"
   ]
  },
  {
   "cell_type": "code",
   "execution_count": null,
   "id": "light-investigator",
   "metadata": {},
   "outputs": [],
   "source": [
    "\"\"\"\n",
    "df['ScoreDiff'] = df['ScoreA'] - df['ScoreB']\n",
    "df['WinA'] = (df['ScoreDiff'] > 0).astype(int)\n",
    "\"\"\""
   ]
  },
  {
   "cell_type": "code",
   "execution_count": 80,
   "id": "assigned-intensity",
   "metadata": {},
   "outputs": [],
   "source": [
    "df['ScoreDiff'] = df['ScoreA'] - df['ScoreB']\n",
    "df['WinA'] = (df['ScoreDiff'] > 0).astype(int)"
   ]
  },
  {
   "cell_type": "code",
   "execution_count": null,
   "id": "differential-wilderness",
   "metadata": {},
   "outputs": [],
   "source": [
    "#Modeling"
   ]
  },
  {
   "cell_type": "code",
   "execution_count": null,
   "id": "structural-gathering",
   "metadata": {},
   "outputs": [],
   "source": [
    "\"\"\"\n",
    "features = [\n",
    "    'SeedA',\n",
    "    'SeedB',\n",
    "    'WinRatioA',\n",
    "    'GapAvgA',\n",
    "    'WinRatioB',\n",
    "    'GapAvgB',\n",
    "#     'OrdinalRankA',\n",
    "#     'OrdinalRankB',\n",
    "    'SeedDiff',\n",
    "    'WinRatioDiff',\n",
    "    'GapAvgDiff'\n",
    "#     'OrdinalRankDiff',\n",
    "]\n",
    "\n",
    "\"\"\""
   ]
  },
  {
   "cell_type": "code",
   "execution_count": 81,
   "id": "vulnerable-scientist",
   "metadata": {},
   "outputs": [],
   "source": [
    "features = [\n",
    "    'SeedA',\n",
    "    'SeedB',\n",
    "    'WinRatioA',\n",
    "    'GapAvgA',\n",
    "    'WinRatioB',\n",
    "    'GapAvgB',\n",
    "    'SeedDiff',\n",
    "    'WinRatioDiff',\n",
    "    'GapAvgDiff',\n",
    "]"
   ]
  },
  {
   "cell_type": "code",
   "execution_count": 97,
   "id": "critical-anniversary",
   "metadata": {},
   "outputs": [],
   "source": [
    "\"\"\"\n",
    "def rescale(features, df_train, df_val, df_test=None):\n",
    "    min_ = df_train[features].min()\n",
    "    max_ = df_train[features].max()\n",
    "    \n",
    "    df_train[features] = (df_train[features] - min_) / (max_ - min_)\n",
    "    df_val[features] = (df_val[features] - min_) / (max_ - min_)\n",
    "    \n",
    "    if df_test is not None:\n",
    "        df_test[features] = (df_test[features] - min_) / (max_ - min_)\n",
    "        \n",
    "    return df_train, df_val, df_test\n",
    "\"\"\""
   ]
  },
  {
   "cell_type": "code",
   "execution_count": 82,
   "id": "gorgeous-steal",
   "metadata": {},
   "outputs": [],
   "source": [
    "def rescale(features, df_train, df_val, df_test=None):\n",
    "    min_ = df_train[features].min()\n",
    "    max_ = df_train[features].max()\n",
    "    \n",
    "    df_train[features] = (df_train[features] - min_) / (max_ - min_)\n",
    "    df_val[features] = (df_val[features] - min_) / (max_ - min_)\n",
    "    \n",
    "    if df_test is not None:\n",
    "        df_test[features] = (df_test[features] - min_) / (max_ - min_)\n",
    "        \n",
    "    return df_train, df_val, df_test"
   ]
  },
  {
   "cell_type": "code",
   "execution_count": null,
   "id": "included-hacker",
   "metadata": {},
   "outputs": [],
   "source": [
    "#Cross Validation\n",
    "\n",
    "\"\"\"\n",
    " Validate on season n, for n in the 10 last seasons.\n",
    " Train on earlier seasons\n",
    " Pipeline support classification (predict the team that wins) and regression (predict the score gap)\n",
    "\"\"\""
   ]
  },
  {
   "cell_type": "code",
   "execution_count": null,
   "id": "yellow-tradition",
   "metadata": {},
   "outputs": [],
   "source": [
    "\"\"\"\n",
    "def kfold_reg(df, df_test_=None, plot=False, verbose=0, mode=\"reg\"):\n",
    "    seasons = df['Season'].unique()\n",
    "    cvs = []\n",
    "    pred_tests = []\n",
    "    target = \"ScoreDiff\" if mode == \"reg\" else \"WinA\"\n",
    "    \n",
    "    for season in seasons[10:]:\n",
    "        if verbose:\n",
    "            print(f'\\nValidating on season {season}')\n",
    "        \n",
    "        df_train = df[df['Season'] < season].reset_index(drop=True).copy()\n",
    "        df_val = df[df['Season'] == season].reset_index(drop=True).copy()\n",
    "        df_test = df_test_.copy()\n",
    "        \n",
    "        df_train, df_val, df_test = rescale(features, df_train, df_val, df_test)\n",
    "        \n",
    "        if mode == \"reg\":\n",
    "            model = ElasticNet(alpha=1, l1_ratio=0.5)\n",
    "        else:\n",
    "            model = LogisticRegression(C=10)\n",
    "            \n",
    "        model.fit(df_train[features], df_train[target])\n",
    "        \n",
    "        if mode == \"reg\":\n",
    "            pred = model.predict(df_val[features])\n",
    "            pred = (pred - pred.min()) / (pred.max() - pred.min())\n",
    "        else:\n",
    "            pred = model.predict_proba(df_val[features])[:, 1]\n",
    "        \n",
    "        if df_test is not None:\n",
    "            if mode == \"reg\":\n",
    "                pred_test = model.predict(df_test[features])\n",
    "                pred_test = (pred_test - pred_test.min()) / (pred_test.max() - pred_test.min())\n",
    "            else:\n",
    "                pred_test = model.predict_proba(df_test[features])[:, 1]\n",
    "                \n",
    "            pred_tests.append(pred_test)\n",
    "            \n",
    "        if plot:\n",
    "            plt.figure(figsize=(15, 6))\n",
    "            plt.subplot(1, 2, 1)\n",
    "            plt.scatter(pred, df_val['ScoreDiff'].values, s=5)\n",
    "            plt.grid(True)\n",
    "            plt.subplot(1, 2, 2)\n",
    "            sns.histplot(pred)\n",
    "            plt.show()\n",
    "        \n",
    "        loss = log_loss(df_val['WinA'].values, pred)\n",
    "        cvs.append(loss)\n",
    "\n",
    "        if verbose:\n",
    "            print(f'\\t -> Scored {loss:.3f}')\n",
    "        \n",
    "    print(f'\\n Local CV is {np.mean(cvs):.3f}')\n",
    "    \n",
    "    return pred_tests\n",
    "\"\"\""
   ]
  },
  {
   "cell_type": "code",
   "execution_count": 109,
   "id": "fitting-radio",
   "metadata": {},
   "outputs": [],
   "source": [
    "def kfold_reg(df, df_test_=None, plot=False, verbose=0, mode=\"reg\"):\n",
    "    seasons = df['Season'].unique()\n",
    "    cvs = []\n",
    "    pred_tests = []\n",
    "    target = \"ScoreDiff\" if mode == \"reg\" else \"WinA\"\n",
    "    \n",
    "    for season in seasons[10:]:\n",
    "        if verbose:\n",
    "            print(f'\\nValidating on season {season}')\n",
    "        \n",
    "        df_train = df[df['Season'] < season].reset_index(drop=True).copy()\n",
    "        df_val = df[df['Season'] == season].reset_index(drop=True).copy()\n",
    "        df_test = df_test_.copy()\n",
    "        \n",
    "        df_train, df_val, df_test = rescale(features, df_train, df_val, df_test)\n",
    "        \n",
    "        if mode == \"reg\":\n",
    "            model = ElasticNet(alpha=1, l1_ratio=0.5)\n",
    "        else:\n",
    "            model = LogisticRegression(C=10)\n",
    "            \n",
    "        model.fit(df_train[features], df_train[target])\n",
    "        \n",
    "        if mode == \"reg\":\n",
    "            pred = model.predict(df_val[features])\n",
    "            pred = (pred - pred.min()) / (pred.max() - pred.min())\n",
    "        else:\n",
    "            pred = model.predict_proba(df_val[features])[:, 1]      #predict_probaは確率を返す\n",
    "        \n",
    "        if df_test is not None:\n",
    "            if mode == \"reg\":\n",
    "                pred_test = model.predict(df_test[features])\n",
    "                pred_test = (pred_test - pred_test.min()) / (pred_test.max() - pred_test.min())\n",
    "            else:\n",
    "                pred_test = model.predict_proba(df_test[features])[:, 1]\n",
    "                \n",
    "            pred_tests.append(pred_test)\n",
    "            \n",
    "        if plot:\n",
    "            plt.figure(figsize=(15, 6))\n",
    "            plt.subplot(1, 2, 1)\n",
    "            plt.scatter(pred, df_val['ScoreDiff'].values, s=5)\n",
    "            plt.grid(True)\n",
    "            plt.subplot(1, 2, 2)\n",
    "            sns.histplot(pred)\n",
    "            plt.show()\n",
    "        \n",
    "        loss = log_loss(df_val['WinA'].values, pred)\n",
    "        cvs.append(loss)\n",
    "\n",
    "        if verbose:\n",
    "            print(f'\\t -> Scored {loss:.3f}')\n",
    "        \n",
    "    print(f'\\n Local CV is {np.mean(cvs):.3f}')\n",
    "    \n",
    "    return pred_tests"
   ]
  },
  {
   "cell_type": "code",
   "execution_count": 110,
   "id": "changed-meter",
   "metadata": {},
   "outputs": [
    {
     "name": "stdout",
     "output_type": "stream",
     "text": [
      "\n",
      "Validating on season 2013\n",
      "\t -> Scored 0.445\n",
      "\n",
      "Validating on season 2014\n",
      "\t -> Scored 0.427\n",
      "\n",
      "Validating on season 2015\n",
      "\t -> Scored 0.371\n",
      "\n",
      "Validating on season 2016\n",
      "\t -> Scored 0.452\n",
      "\n",
      "Validating on season 2017\n",
      "\t -> Scored 0.448\n",
      "\n",
      "Validating on season 2018\n",
      "\t -> Scored 0.500\n",
      "\n",
      "Validating on season 2019\n",
      "\t -> Scored 0.387\n",
      "\n",
      " Local CV is 0.433\n"
     ]
    }
   ],
   "source": [
    "pred_tests = kfold_reg(df, df_test, plot=False, verbose=1, mode=\"cls\")\n",
    "#ログ損失、Logarithmic Loss、Log lossなどと言われていますが、予測された確率とその結果の乖離を交差エントロピーを利用して数値化しているものです\n",
    "#モデルがいいほど0に近くなり、完璧なモデルでLog損失が0になります"
   ]
  },
  {
   "cell_type": "code",
   "execution_count": null,
   "id": "hungry-warrant",
   "metadata": {},
   "outputs": [],
   "source": [
    "#Submission"
   ]
  },
  {
   "cell_type": "code",
   "execution_count": 117,
   "id": "according-pasta",
   "metadata": {},
   "outputs": [],
   "source": [
    "pred_test = np.mean(pred_tests, 0)"
   ]
  },
  {
   "cell_type": "code",
   "execution_count": null,
   "id": "touched-hours",
   "metadata": {},
   "outputs": [],
   "source": [
    "\"\"\"\n",
    "sub = df_test[['ID', 'Pred']].copy()\n",
    "sub['Pred'] = pred_test\n",
    "sub.to_csv('submission.csv', index=False)\n",
    "\"\"\""
   ]
  },
  {
   "cell_type": "code",
   "execution_count": 136,
   "id": "original-rescue",
   "metadata": {},
   "outputs": [],
   "source": [
    "sub = df_test[['ID', 'Pred']].copy()\n",
    "sub['Pred'] = pred_test\n",
    "sub.to_csv('kc_NCAAW_submission2.csv', index=False)"
   ]
  },
  {
   "cell_type": "code",
   "execution_count": null,
   "id": "competitive-stamp",
   "metadata": {},
   "outputs": [],
   "source": [
    "\"\"\"\n",
    "_ = sns.histplot(sub['Pred'])\n",
    "\"\"\""
   ]
  },
  {
   "cell_type": "code",
   "execution_count": 119,
   "id": "racial-usage",
   "metadata": {},
   "outputs": [
    {
     "data": {
      "image/png": "[encoded data removed]",
      "text/plain": [
       "<Figure size 432x288 with 1 Axes>"
      ]
     },
     "metadata": {
      "needs_background": "light"
     },
     "output_type": "display_data"
    }
   ],
   "source": [
    "_ = sns.histplot()"
   ]
  },
  {
   "cell_type": "code",
   "execution_count": 123,
   "id": "limited-sunset",
   "metadata": {},
   "outputs": [
    {
     "data": {
      "text/html": [
       "<div>\n",
       "<style scoped>\n",
       "    .dataframe tbody tr th:only-of-type {\n",
       "        vertical-align: middle;\n",
       "    }\n",
       "\n",
       "    .dataframe tbody tr th {\n",
       "        vertical-align: top;\n",
       "    }\n",
       "\n",
       "    .dataframe thead th {\n",
       "        text-align: right;\n",
       "    }\n",
       "</style>\n",
       "<table border=\"1\" class=\"dataframe\">\n",
       "  <thead>\n",
       "    <tr style=\"text-align: right;\">\n",
       "      <th></th>\n",
       "      <th>ID</th>\n",
       "      <th>Pred</th>\n",
       "    </tr>\n",
       "  </thead>\n",
       "  <tbody>\n",
       "    <tr>\n",
       "      <th>674</th>\n",
       "      <td>2015_3163_3366</td>\n",
       "      <td>0.999265</td>\n",
       "    </tr>\n",
       "  </tbody>\n",
       "</table>\n",
       "</div>"
      ],
      "text/plain": [
       "                 ID      Pred\n",
       "674  2015_3163_3366  0.999265"
      ]
     },
     "execution_count": 123,
     "metadata": {},
     "output_type": "execute_result"
    }
   ],
   "source": [
    "sub[sub['Pred'] == sub['Pred'].max()]"
   ]
  },
  {
   "cell_type": "code",
   "execution_count": 130,
   "id": "difficult-confidence",
   "metadata": {},
   "outputs": [
    {
     "name": "stdout",
     "output_type": "stream",
     "text": [
      "<class 'pandas.core.frame.DataFrame'>\n",
      "Int64Index: 10080 entries, 0 to 10079\n",
      "Data columns (total 2 columns):\n",
      " #   Column  Non-Null Count  Dtype  \n",
      "---  ------  --------------  -----  \n",
      " 0   ID      10080 non-null  object \n",
      " 1   Pred    10080 non-null  float64\n",
      "dtypes: float64(1), object(1)\n",
      "memory usage: 236.2+ KB\n"
     ]
    }
   ],
   "source": [
    "sub.info()"
   ]
  },
  {
   "cell_type": "code",
   "execution_count": 132,
   "id": "stunning-category",
   "metadata": {},
   "outputs": [],
   "source": [
    "sub2 = sub[sub['ID'].str.contains('2015')]"
   ]
  },
  {
   "cell_type": "code",
   "execution_count": 133,
   "id": "computational-valve",
   "metadata": {},
   "outputs": [
    {
     "data": {
      "text/html": [
       "<div>\n",
       "<style scoped>\n",
       "    .dataframe tbody tr th:only-of-type {\n",
       "        vertical-align: middle;\n",
       "    }\n",
       "\n",
       "    .dataframe tbody tr th {\n",
       "        vertical-align: top;\n",
       "    }\n",
       "\n",
       "    .dataframe thead th {\n",
       "        text-align: right;\n",
       "    }\n",
       "</style>\n",
       "<table border=\"1\" class=\"dataframe\">\n",
       "  <thead>\n",
       "    <tr style=\"text-align: right;\">\n",
       "      <th></th>\n",
       "      <th>ID</th>\n",
       "      <th>Pred</th>\n",
       "    </tr>\n",
       "  </thead>\n",
       "  <tbody>\n",
       "    <tr>\n",
       "      <th>0</th>\n",
       "      <td>2015_3106_3107</td>\n",
       "      <td>0.199036</td>\n",
       "    </tr>\n",
       "    <tr>\n",
       "      <th>1</th>\n",
       "      <td>2015_3106_3110</td>\n",
       "      <td>0.444855</td>\n",
       "    </tr>\n",
       "    <tr>\n",
       "      <th>2</th>\n",
       "      <td>2015_3106_3113</td>\n",
       "      <td>0.040559</td>\n",
       "    </tr>\n",
       "    <tr>\n",
       "      <th>3</th>\n",
       "      <td>2015_3106_3114</td>\n",
       "      <td>0.189242</td>\n",
       "    </tr>\n",
       "    <tr>\n",
       "      <th>4</th>\n",
       "      <td>2015_3106_3116</td>\n",
       "      <td>0.169350</td>\n",
       "    </tr>\n",
       "    <tr>\n",
       "      <th>...</th>\n",
       "      <td>...</td>\n",
       "      <td>...</td>\n",
       "    </tr>\n",
       "    <tr>\n",
       "      <th>2011</th>\n",
       "      <td>2015_3443_3453</td>\n",
       "      <td>0.334783</td>\n",
       "    </tr>\n",
       "    <tr>\n",
       "      <th>2012</th>\n",
       "      <td>2015_3443_3455</td>\n",
       "      <td>0.577642</td>\n",
       "    </tr>\n",
       "    <tr>\n",
       "      <th>2013</th>\n",
       "      <td>2015_3449_3453</td>\n",
       "      <td>0.653776</td>\n",
       "    </tr>\n",
       "    <tr>\n",
       "      <th>2014</th>\n",
       "      <td>2015_3449_3455</td>\n",
       "      <td>0.836839</td>\n",
       "    </tr>\n",
       "    <tr>\n",
       "      <th>2015</th>\n",
       "      <td>2015_3453_3455</td>\n",
       "      <td>0.731000</td>\n",
       "    </tr>\n",
       "  </tbody>\n",
       "</table>\n",
       "<p>2016 rows × 2 columns</p>\n",
       "</div>"
      ],
      "text/plain": [
       "                  ID      Pred\n",
       "0     2015_3106_3107  0.199036\n",
       "1     2015_3106_3110  0.444855\n",
       "2     2015_3106_3113  0.040559\n",
       "3     2015_3106_3114  0.189242\n",
       "4     2015_3106_3116  0.169350\n",
       "...              ...       ...\n",
       "2011  2015_3443_3453  0.334783\n",
       "2012  2015_3443_3455  0.577642\n",
       "2013  2015_3449_3453  0.653776\n",
       "2014  2015_3449_3455  0.836839\n",
       "2015  2015_3453_3455  0.731000\n",
       "\n",
       "[2016 rows x 2 columns]"
      ]
     },
     "execution_count": 133,
     "metadata": {},
     "output_type": "execute_result"
    }
   ],
   "source": [
    "sub2"
   ]
  },
  {
   "cell_type": "code",
   "execution_count": 134,
   "id": "marine-shakespeare",
   "metadata": {},
   "outputs": [],
   "source": [
    "sub2.to_csv('kc_NCAAW_submission.csv', index=False)"
   ]
  },
  {
   "cell_type": "code",
   "execution_count": null,
   "id": "conceptual-greek",
   "metadata": {},
   "outputs": [],
   "source": []
  }
 ],
 "metadata": {
  "kernelspec": {
   "display_name": "Python 3",
   "language": "python",
   "name": "python3"
  },
  "language_info": {
   "codemirror_mode": {
    "name": "ipython",
    "version": 3
   },
   "file_extension": ".py",
   "mimetype": "text/x-python",
   "name": "python",
   "nbconvert_exporter": "python",
   "pygments_lexer": "ipython3",
   "version": "3.8.5"
  }
 },
 "nbformat": 4,
 "nbformat_minor": 5
}
