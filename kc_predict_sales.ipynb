{
 "cells": [
  {
   "cell_type": "code",
   "execution_count": 123,
   "id": "assisted-rhythm",
   "metadata": {},
   "outputs": [],
   "source": [
    "import pandas as pd\n",
    "import numpy as np\n",
    "import matplotlib.pyplot as plt\n",
    "import seaborn as sns\n",
    "from sklearn import preprocessing\n",
    "from sklearn.linear_model import LinearRegression\n",
    "from sklearn.ensemble import RandomForestRegressor\n",
    "from sklearn import preprocessing\n",
    "import tensorflow as tf"
   ]
  },
  {
   "cell_type": "code",
   "execution_count": 2,
   "id": "perceived-fitness",
   "metadata": {},
   "outputs": [
    {
     "data": {
      "text/html": [
       "<div>\n",
       "<style scoped>\n",
       "    .dataframe tbody tr th:only-of-type {\n",
       "        vertical-align: middle;\n",
       "    }\n",
       "\n",
       "    .dataframe tbody tr th {\n",
       "        vertical-align: top;\n",
       "    }\n",
       "\n",
       "    .dataframe thead th {\n",
       "        text-align: right;\n",
       "    }\n",
       "</style>\n",
       "<table border=\"1\" class=\"dataframe\">\n",
       "  <thead>\n",
       "    <tr style=\"text-align: right;\">\n",
       "      <th></th>\n",
       "      <th>date</th>\n",
       "      <th>date_block_num</th>\n",
       "      <th>shop_id</th>\n",
       "      <th>item_id</th>\n",
       "      <th>item_price</th>\n",
       "      <th>item_cnt_day</th>\n",
       "    </tr>\n",
       "  </thead>\n",
       "  <tbody>\n",
       "    <tr>\n",
       "      <th>0</th>\n",
       "      <td>02.01.2013</td>\n",
       "      <td>0</td>\n",
       "      <td>59</td>\n",
       "      <td>22154</td>\n",
       "      <td>999.00</td>\n",
       "      <td>1.0</td>\n",
       "    </tr>\n",
       "    <tr>\n",
       "      <th>1</th>\n",
       "      <td>03.01.2013</td>\n",
       "      <td>0</td>\n",
       "      <td>25</td>\n",
       "      <td>2552</td>\n",
       "      <td>899.00</td>\n",
       "      <td>1.0</td>\n",
       "    </tr>\n",
       "    <tr>\n",
       "      <th>2</th>\n",
       "      <td>05.01.2013</td>\n",
       "      <td>0</td>\n",
       "      <td>25</td>\n",
       "      <td>2552</td>\n",
       "      <td>899.00</td>\n",
       "      <td>-1.0</td>\n",
       "    </tr>\n",
       "    <tr>\n",
       "      <th>3</th>\n",
       "      <td>06.01.2013</td>\n",
       "      <td>0</td>\n",
       "      <td>25</td>\n",
       "      <td>2554</td>\n",
       "      <td>1709.05</td>\n",
       "      <td>1.0</td>\n",
       "    </tr>\n",
       "    <tr>\n",
       "      <th>4</th>\n",
       "      <td>15.01.2013</td>\n",
       "      <td>0</td>\n",
       "      <td>25</td>\n",
       "      <td>2555</td>\n",
       "      <td>1099.00</td>\n",
       "      <td>1.0</td>\n",
       "    </tr>\n",
       "  </tbody>\n",
       "</table>\n",
       "</div>"
      ],
      "text/plain": [
       "         date  date_block_num  shop_id  item_id  item_price  item_cnt_day\n",
       "0  02.01.2013               0       59    22154      999.00           1.0\n",
       "1  03.01.2013               0       25     2552      899.00           1.0\n",
       "2  05.01.2013               0       25     2552      899.00          -1.0\n",
       "3  06.01.2013               0       25     2554     1709.05           1.0\n",
       "4  15.01.2013               0       25     2555     1099.00           1.0"
      ]
     },
     "execution_count": 2,
     "metadata": {},
     "output_type": "execute_result"
    }
   ],
   "source": [
    "DATA_PATH = \"C:\\\\Users\\\\shota\\\\OneDrive\\\\ドキュメント\\\\Data\\\\Kaggle\\\\kc_Predict_Future_Sales\\\\\"\n",
    "\n",
    "basic_data = pd.read_csv(DATA_PATH + 'sales_train.csv')\n",
    "basic_data.head()"
   ]
  },
  {
   "cell_type": "code",
   "execution_count": 3,
   "id": "dominant-blend",
   "metadata": {},
   "outputs": [
    {
     "data": {
      "text/html": [
       "<div>\n",
       "<style scoped>\n",
       "    .dataframe tbody tr th:only-of-type {\n",
       "        vertical-align: middle;\n",
       "    }\n",
       "\n",
       "    .dataframe tbody tr th {\n",
       "        vertical-align: top;\n",
       "    }\n",
       "\n",
       "    .dataframe thead th {\n",
       "        text-align: right;\n",
       "    }\n",
       "</style>\n",
       "<table border=\"1\" class=\"dataframe\">\n",
       "  <thead>\n",
       "    <tr style=\"text-align: right;\">\n",
       "      <th></th>\n",
       "      <th>date</th>\n",
       "      <th>date_block_num</th>\n",
       "      <th>shop_id</th>\n",
       "      <th>item_id</th>\n",
       "      <th>item_price</th>\n",
       "      <th>item_cnt_day</th>\n",
       "      <th>Year</th>\n",
       "      <th>Month</th>\n",
       "      <th>Day</th>\n",
       "    </tr>\n",
       "  </thead>\n",
       "  <tbody>\n",
       "    <tr>\n",
       "      <th>0</th>\n",
       "      <td>02.01.2013</td>\n",
       "      <td>0</td>\n",
       "      <td>59</td>\n",
       "      <td>22154</td>\n",
       "      <td>999.00</td>\n",
       "      <td>1.0</td>\n",
       "      <td>2013</td>\n",
       "      <td>1</td>\n",
       "      <td>2</td>\n",
       "    </tr>\n",
       "    <tr>\n",
       "      <th>1</th>\n",
       "      <td>03.01.2013</td>\n",
       "      <td>0</td>\n",
       "      <td>25</td>\n",
       "      <td>2552</td>\n",
       "      <td>899.00</td>\n",
       "      <td>1.0</td>\n",
       "      <td>2013</td>\n",
       "      <td>1</td>\n",
       "      <td>3</td>\n",
       "    </tr>\n",
       "    <tr>\n",
       "      <th>2</th>\n",
       "      <td>05.01.2013</td>\n",
       "      <td>0</td>\n",
       "      <td>25</td>\n",
       "      <td>2552</td>\n",
       "      <td>899.00</td>\n",
       "      <td>-1.0</td>\n",
       "      <td>2013</td>\n",
       "      <td>1</td>\n",
       "      <td>5</td>\n",
       "    </tr>\n",
       "    <tr>\n",
       "      <th>3</th>\n",
       "      <td>06.01.2013</td>\n",
       "      <td>0</td>\n",
       "      <td>25</td>\n",
       "      <td>2554</td>\n",
       "      <td>1709.05</td>\n",
       "      <td>1.0</td>\n",
       "      <td>2013</td>\n",
       "      <td>1</td>\n",
       "      <td>6</td>\n",
       "    </tr>\n",
       "    <tr>\n",
       "      <th>4</th>\n",
       "      <td>15.01.2013</td>\n",
       "      <td>0</td>\n",
       "      <td>25</td>\n",
       "      <td>2555</td>\n",
       "      <td>1099.00</td>\n",
       "      <td>1.0</td>\n",
       "      <td>2013</td>\n",
       "      <td>1</td>\n",
       "      <td>15</td>\n",
       "    </tr>\n",
       "  </tbody>\n",
       "</table>\n",
       "</div>"
      ],
      "text/plain": [
       "         date  date_block_num  shop_id  item_id  item_price  item_cnt_day  \\\n",
       "0  02.01.2013               0       59    22154      999.00           1.0   \n",
       "1  03.01.2013               0       25     2552      899.00           1.0   \n",
       "2  05.01.2013               0       25     2552      899.00          -1.0   \n",
       "3  06.01.2013               0       25     2554     1709.05           1.0   \n",
       "4  15.01.2013               0       25     2555     1099.00           1.0   \n",
       "\n",
       "   Year  Month  Day  \n",
       "0  2013      1    2  \n",
       "1  2013      1    3  \n",
       "2  2013      1    5  \n",
       "3  2013      1    6  \n",
       "4  2013      1   15  "
      ]
     },
     "execution_count": 3,
     "metadata": {},
     "output_type": "execute_result"
    }
   ],
   "source": [
    "#basic_data.set_index('date', inplace=True)\n",
    "basic_data['Year'] = basic_data['date'].apply(lambda x: int(x.split('.')[2]))\n",
    "basic_data['Month'] = basic_data['date'].apply(lambda x: int(x.split('.')[1]))\n",
    "basic_data['Day'] = basic_data['date'].apply(lambda x: int(x.split('.')[0]))\n",
    "basic_data.head()"
   ]
  },
  {
   "cell_type": "code",
   "execution_count": 4,
   "id": "junior-processing",
   "metadata": {},
   "outputs": [],
   "source": [
    "#basic_data['date'] = pd.to_datetime(basic_data['date'], format='%d.%m.%Y')   データタイムオブジェクトはsplitを使えない\n",
    "fixed_numbers = basic_data[['Year','Month', 'shop_id','item_id','item_price']]\n",
    "basic_data.drop(['date_block_num', 'item_price'], 1, inplace=True)"
   ]
  },
  {
   "cell_type": "code",
   "execution_count": 5,
   "id": "southeast-proportion",
   "metadata": {},
   "outputs": [
    {
     "name": "stderr",
     "output_type": "stream",
     "text": [
      "<ipython-input-5-00179258536c>:1: SettingWithCopyWarning: \n",
      "A value is trying to be set on a copy of a slice from a DataFrame\n",
      "\n",
      "See the caveats in the documentation: https://pandas.pydata.org/pandas-docs/stable/user_guide/indexing.html#returning-a-view-versus-a-copy\n",
      "  fixed_numbers.drop_duplicates(['Year','Month', 'shop_id','item_id'],ignore_index=True,keep='last', inplace=True)  #重複する行を削除\n"
     ]
    }
   ],
   "source": [
    "fixed_numbers.drop_duplicates(['Year','Month', 'shop_id','item_id'],ignore_index=True,keep='last', inplace=True)  #重複する行を削除\n",
    "#keep='last'で重複した行の最後のほうを残す(今回は新しいほうを残すということ)"
   ]
  },
  {
   "cell_type": "code",
   "execution_count": 6,
   "id": "genuine-chart",
   "metadata": {},
   "outputs": [
    {
     "data": {
      "text/html": [
       "<div>\n",
       "<style scoped>\n",
       "    .dataframe tbody tr th:only-of-type {\n",
       "        vertical-align: middle;\n",
       "    }\n",
       "\n",
       "    .dataframe tbody tr th {\n",
       "        vertical-align: top;\n",
       "    }\n",
       "\n",
       "    .dataframe thead th {\n",
       "        text-align: right;\n",
       "    }\n",
       "</style>\n",
       "<table border=\"1\" class=\"dataframe\">\n",
       "  <thead>\n",
       "    <tr style=\"text-align: right;\">\n",
       "      <th></th>\n",
       "      <th>Year</th>\n",
       "      <th>Month</th>\n",
       "      <th>shop_id</th>\n",
       "      <th>item_id</th>\n",
       "      <th>item_price</th>\n",
       "    </tr>\n",
       "  </thead>\n",
       "  <tbody>\n",
       "    <tr>\n",
       "      <th>0</th>\n",
       "      <td>2013</td>\n",
       "      <td>1</td>\n",
       "      <td>59</td>\n",
       "      <td>22154</td>\n",
       "      <td>999.00</td>\n",
       "    </tr>\n",
       "    <tr>\n",
       "      <th>1</th>\n",
       "      <td>2013</td>\n",
       "      <td>1</td>\n",
       "      <td>25</td>\n",
       "      <td>2552</td>\n",
       "      <td>899.00</td>\n",
       "    </tr>\n",
       "    <tr>\n",
       "      <th>2</th>\n",
       "      <td>2013</td>\n",
       "      <td>1</td>\n",
       "      <td>25</td>\n",
       "      <td>2554</td>\n",
       "      <td>1709.05</td>\n",
       "    </tr>\n",
       "    <tr>\n",
       "      <th>3</th>\n",
       "      <td>2013</td>\n",
       "      <td>1</td>\n",
       "      <td>25</td>\n",
       "      <td>2555</td>\n",
       "      <td>1099.00</td>\n",
       "    </tr>\n",
       "    <tr>\n",
       "      <th>4</th>\n",
       "      <td>2013</td>\n",
       "      <td>1</td>\n",
       "      <td>25</td>\n",
       "      <td>2564</td>\n",
       "      <td>349.00</td>\n",
       "    </tr>\n",
       "    <tr>\n",
       "      <th>...</th>\n",
       "      <td>...</td>\n",
       "      <td>...</td>\n",
       "      <td>...</td>\n",
       "      <td>...</td>\n",
       "      <td>...</td>\n",
       "    </tr>\n",
       "    <tr>\n",
       "      <th>1609119</th>\n",
       "      <td>2015</td>\n",
       "      <td>10</td>\n",
       "      <td>25</td>\n",
       "      <td>7384</td>\n",
       "      <td>749.00</td>\n",
       "    </tr>\n",
       "    <tr>\n",
       "      <th>1609120</th>\n",
       "      <td>2015</td>\n",
       "      <td>10</td>\n",
       "      <td>25</td>\n",
       "      <td>7409</td>\n",
       "      <td>299.00</td>\n",
       "    </tr>\n",
       "    <tr>\n",
       "      <th>1609121</th>\n",
       "      <td>2015</td>\n",
       "      <td>10</td>\n",
       "      <td>25</td>\n",
       "      <td>7459</td>\n",
       "      <td>349.00</td>\n",
       "    </tr>\n",
       "    <tr>\n",
       "      <th>1609122</th>\n",
       "      <td>2015</td>\n",
       "      <td>10</td>\n",
       "      <td>25</td>\n",
       "      <td>7440</td>\n",
       "      <td>299.00</td>\n",
       "    </tr>\n",
       "    <tr>\n",
       "      <th>1609123</th>\n",
       "      <td>2015</td>\n",
       "      <td>10</td>\n",
       "      <td>25</td>\n",
       "      <td>7460</td>\n",
       "      <td>299.00</td>\n",
       "    </tr>\n",
       "  </tbody>\n",
       "</table>\n",
       "<p>1609124 rows × 5 columns</p>\n",
       "</div>"
      ],
      "text/plain": [
       "         Year  Month  shop_id  item_id  item_price\n",
       "0        2013      1       59    22154      999.00\n",
       "1        2013      1       25     2552      899.00\n",
       "2        2013      1       25     2554     1709.05\n",
       "3        2013      1       25     2555     1099.00\n",
       "4        2013      1       25     2564      349.00\n",
       "...       ...    ...      ...      ...         ...\n",
       "1609119  2015     10       25     7384      749.00\n",
       "1609120  2015     10       25     7409      299.00\n",
       "1609121  2015     10       25     7459      349.00\n",
       "1609122  2015     10       25     7440      299.00\n",
       "1609123  2015     10       25     7460      299.00\n",
       "\n",
       "[1609124 rows x 5 columns]"
      ]
     },
     "execution_count": 6,
     "metadata": {},
     "output_type": "execute_result"
    }
   ],
   "source": [
    "fixed_numbers"
   ]
  },
  {
   "cell_type": "code",
   "execution_count": 7,
   "id": "balanced-order",
   "metadata": {},
   "outputs": [],
   "source": [
    "#basic_data['2013-01'].groupby(['shop_id','item_id']).count().rename(columns={'item_cnt_day':'item_cnt_month'})"
   ]
  },
  {
   "cell_type": "code",
   "execution_count": 8,
   "id": "powered-reunion",
   "metadata": {},
   "outputs": [
    {
     "data": {
      "text/plain": [
       "array(['date', 'shop_id', 'item_id', 'item_cnt_day', 'Year', 'Month',\n",
       "       'Day'], dtype=object)"
      ]
     },
     "execution_count": 8,
     "metadata": {},
     "output_type": "execute_result"
    }
   ],
   "source": [
    "basic_data.columns.values"
   ]
  },
  {
   "cell_type": "code",
   "execution_count": 9,
   "id": "creative-polymer",
   "metadata": {},
   "outputs": [
    {
     "data": {
      "text/html": [
       "<div>\n",
       "<style scoped>\n",
       "    .dataframe tbody tr th:only-of-type {\n",
       "        vertical-align: middle;\n",
       "    }\n",
       "\n",
       "    .dataframe tbody tr th {\n",
       "        vertical-align: top;\n",
       "    }\n",
       "\n",
       "    .dataframe thead th {\n",
       "        text-align: right;\n",
       "    }\n",
       "</style>\n",
       "<table border=\"1\" class=\"dataframe\">\n",
       "  <thead>\n",
       "    <tr style=\"text-align: right;\">\n",
       "      <th></th>\n",
       "      <th>Year</th>\n",
       "      <th>Month</th>\n",
       "      <th>Day</th>\n",
       "      <th>shop_id</th>\n",
       "      <th>item_id</th>\n",
       "      <th>item_cnt_day</th>\n",
       "    </tr>\n",
       "  </thead>\n",
       "  <tbody>\n",
       "    <tr>\n",
       "      <th>0</th>\n",
       "      <td>2013</td>\n",
       "      <td>1</td>\n",
       "      <td>2</td>\n",
       "      <td>59</td>\n",
       "      <td>22154</td>\n",
       "      <td>1.0</td>\n",
       "    </tr>\n",
       "    <tr>\n",
       "      <th>1</th>\n",
       "      <td>2013</td>\n",
       "      <td>1</td>\n",
       "      <td>3</td>\n",
       "      <td>25</td>\n",
       "      <td>2552</td>\n",
       "      <td>1.0</td>\n",
       "    </tr>\n",
       "    <tr>\n",
       "      <th>2</th>\n",
       "      <td>2013</td>\n",
       "      <td>1</td>\n",
       "      <td>5</td>\n",
       "      <td>25</td>\n",
       "      <td>2552</td>\n",
       "      <td>-1.0</td>\n",
       "    </tr>\n",
       "    <tr>\n",
       "      <th>3</th>\n",
       "      <td>2013</td>\n",
       "      <td>1</td>\n",
       "      <td>6</td>\n",
       "      <td>25</td>\n",
       "      <td>2554</td>\n",
       "      <td>1.0</td>\n",
       "    </tr>\n",
       "    <tr>\n",
       "      <th>4</th>\n",
       "      <td>2013</td>\n",
       "      <td>1</td>\n",
       "      <td>15</td>\n",
       "      <td>25</td>\n",
       "      <td>2555</td>\n",
       "      <td>1.0</td>\n",
       "    </tr>\n",
       "  </tbody>\n",
       "</table>\n",
       "</div>"
      ],
      "text/plain": [
       "   Year  Month  Day  shop_id  item_id  item_cnt_day\n",
       "0  2013      1    2       59    22154           1.0\n",
       "1  2013      1    3       25     2552           1.0\n",
       "2  2013      1    5       25     2552          -1.0\n",
       "3  2013      1    6       25     2554           1.0\n",
       "4  2013      1   15       25     2555           1.0"
      ]
     },
     "execution_count": 9,
     "metadata": {},
     "output_type": "execute_result"
    }
   ],
   "source": [
    "basic_data = basic_data[['Year', 'Month', 'Day', 'shop_id', 'item_id', 'item_cnt_day']]\n",
    "basic_data.head()"
   ]
  },
  {
   "cell_type": "code",
   "execution_count": 10,
   "id": "suspended-addition",
   "metadata": {},
   "outputs": [],
   "source": [
    "basic_data2 = basic_data.copy()"
   ]
  },
  {
   "cell_type": "code",
   "execution_count": 11,
   "id": "worth-permit",
   "metadata": {},
   "outputs": [],
   "source": [
    "basic_data2.drop(['Day'], 1, inplace=True)"
   ]
  },
  {
   "cell_type": "code",
   "execution_count": 12,
   "id": "angry-tooth",
   "metadata": {},
   "outputs": [],
   "source": [
    "data_ordered = basic_data2.groupby(['Year', 'Month', 'shop_id', 'item_id']).count()"
   ]
  },
  {
   "cell_type": "code",
   "execution_count": 13,
   "id": "saving-weather",
   "metadata": {},
   "outputs": [],
   "source": [
    "data_ordered.rename(columns={'item_cnt_day':'item_cnt_month'}, inplace=True)"
   ]
  },
  {
   "cell_type": "code",
   "execution_count": 14,
   "id": "presidential-boost",
   "metadata": {},
   "outputs": [
    {
     "data": {
      "text/html": [
       "<div>\n",
       "<style scoped>\n",
       "    .dataframe tbody tr th:only-of-type {\n",
       "        vertical-align: middle;\n",
       "    }\n",
       "\n",
       "    .dataframe tbody tr th {\n",
       "        vertical-align: top;\n",
       "    }\n",
       "\n",
       "    .dataframe thead th {\n",
       "        text-align: right;\n",
       "    }\n",
       "</style>\n",
       "<table border=\"1\" class=\"dataframe\">\n",
       "  <thead>\n",
       "    <tr style=\"text-align: right;\">\n",
       "      <th></th>\n",
       "      <th></th>\n",
       "      <th></th>\n",
       "      <th></th>\n",
       "      <th>item_cnt_month</th>\n",
       "    </tr>\n",
       "    <tr>\n",
       "      <th>Year</th>\n",
       "      <th>Month</th>\n",
       "      <th>shop_id</th>\n",
       "      <th>item_id</th>\n",
       "      <th></th>\n",
       "    </tr>\n",
       "  </thead>\n",
       "  <tbody>\n",
       "    <tr>\n",
       "      <th rowspan=\"5\" valign=\"top\">2013</th>\n",
       "      <th rowspan=\"5\" valign=\"top\">1</th>\n",
       "      <th rowspan=\"5\" valign=\"top\">0</th>\n",
       "      <th>32</th>\n",
       "      <td>4</td>\n",
       "    </tr>\n",
       "    <tr>\n",
       "      <th>33</th>\n",
       "      <td>3</td>\n",
       "    </tr>\n",
       "    <tr>\n",
       "      <th>35</th>\n",
       "      <td>1</td>\n",
       "    </tr>\n",
       "    <tr>\n",
       "      <th>43</th>\n",
       "      <td>1</td>\n",
       "    </tr>\n",
       "    <tr>\n",
       "      <th>51</th>\n",
       "      <td>2</td>\n",
       "    </tr>\n",
       "  </tbody>\n",
       "</table>\n",
       "</div>"
      ],
      "text/plain": [
       "                            item_cnt_month\n",
       "Year Month shop_id item_id                \n",
       "2013 1     0       32                    4\n",
       "                   33                    3\n",
       "                   35                    1\n",
       "                   43                    1\n",
       "                   51                    2"
      ]
     },
     "execution_count": 14,
     "metadata": {},
     "output_type": "execute_result"
    }
   ],
   "source": [
    "data_ordered.head()"
   ]
  },
  {
   "cell_type": "code",
   "execution_count": 15,
   "id": "crazy-dynamics",
   "metadata": {},
   "outputs": [],
   "source": [
    "train_data = data_ordered.copy()"
   ]
  },
  {
   "cell_type": "code",
   "execution_count": 16,
   "id": "current-split",
   "metadata": {},
   "outputs": [],
   "source": [
    "train_data.reset_index(inplace=True)    #MultiIndexをコラムに戻すことができる"
   ]
  },
  {
   "cell_type": "code",
   "execution_count": 17,
   "id": "binary-buying",
   "metadata": {},
   "outputs": [
    {
     "data": {
      "text/html": [
       "<div>\n",
       "<style scoped>\n",
       "    .dataframe tbody tr th:only-of-type {\n",
       "        vertical-align: middle;\n",
       "    }\n",
       "\n",
       "    .dataframe tbody tr th {\n",
       "        vertical-align: top;\n",
       "    }\n",
       "\n",
       "    .dataframe thead th {\n",
       "        text-align: right;\n",
       "    }\n",
       "</style>\n",
       "<table border=\"1\" class=\"dataframe\">\n",
       "  <thead>\n",
       "    <tr style=\"text-align: right;\">\n",
       "      <th></th>\n",
       "      <th>Year</th>\n",
       "      <th>Month</th>\n",
       "      <th>shop_id</th>\n",
       "      <th>item_id</th>\n",
       "      <th>item_cnt_month</th>\n",
       "    </tr>\n",
       "  </thead>\n",
       "  <tbody>\n",
       "    <tr>\n",
       "      <th>0</th>\n",
       "      <td>2013</td>\n",
       "      <td>1</td>\n",
       "      <td>0</td>\n",
       "      <td>32</td>\n",
       "      <td>4</td>\n",
       "    </tr>\n",
       "    <tr>\n",
       "      <th>1</th>\n",
       "      <td>2013</td>\n",
       "      <td>1</td>\n",
       "      <td>0</td>\n",
       "      <td>33</td>\n",
       "      <td>3</td>\n",
       "    </tr>\n",
       "    <tr>\n",
       "      <th>2</th>\n",
       "      <td>2013</td>\n",
       "      <td>1</td>\n",
       "      <td>0</td>\n",
       "      <td>35</td>\n",
       "      <td>1</td>\n",
       "    </tr>\n",
       "    <tr>\n",
       "      <th>3</th>\n",
       "      <td>2013</td>\n",
       "      <td>1</td>\n",
       "      <td>0</td>\n",
       "      <td>43</td>\n",
       "      <td>1</td>\n",
       "    </tr>\n",
       "    <tr>\n",
       "      <th>4</th>\n",
       "      <td>2013</td>\n",
       "      <td>1</td>\n",
       "      <td>0</td>\n",
       "      <td>51</td>\n",
       "      <td>2</td>\n",
       "    </tr>\n",
       "    <tr>\n",
       "      <th>...</th>\n",
       "      <td>...</td>\n",
       "      <td>...</td>\n",
       "      <td>...</td>\n",
       "      <td>...</td>\n",
       "      <td>...</td>\n",
       "    </tr>\n",
       "    <tr>\n",
       "      <th>1609119</th>\n",
       "      <td>2015</td>\n",
       "      <td>10</td>\n",
       "      <td>59</td>\n",
       "      <td>22087</td>\n",
       "      <td>3</td>\n",
       "    </tr>\n",
       "    <tr>\n",
       "      <th>1609120</th>\n",
       "      <td>2015</td>\n",
       "      <td>10</td>\n",
       "      <td>59</td>\n",
       "      <td>22088</td>\n",
       "      <td>2</td>\n",
       "    </tr>\n",
       "    <tr>\n",
       "      <th>1609121</th>\n",
       "      <td>2015</td>\n",
       "      <td>10</td>\n",
       "      <td>59</td>\n",
       "      <td>22091</td>\n",
       "      <td>1</td>\n",
       "    </tr>\n",
       "    <tr>\n",
       "      <th>1609122</th>\n",
       "      <td>2015</td>\n",
       "      <td>10</td>\n",
       "      <td>59</td>\n",
       "      <td>22100</td>\n",
       "      <td>1</td>\n",
       "    </tr>\n",
       "    <tr>\n",
       "      <th>1609123</th>\n",
       "      <td>2015</td>\n",
       "      <td>10</td>\n",
       "      <td>59</td>\n",
       "      <td>22102</td>\n",
       "      <td>1</td>\n",
       "    </tr>\n",
       "  </tbody>\n",
       "</table>\n",
       "<p>1609124 rows × 5 columns</p>\n",
       "</div>"
      ],
      "text/plain": [
       "         Year  Month  shop_id  item_id  item_cnt_month\n",
       "0        2013      1        0       32               4\n",
       "1        2013      1        0       33               3\n",
       "2        2013      1        0       35               1\n",
       "3        2013      1        0       43               1\n",
       "4        2013      1        0       51               2\n",
       "...       ...    ...      ...      ...             ...\n",
       "1609119  2015     10       59    22087               3\n",
       "1609120  2015     10       59    22088               2\n",
       "1609121  2015     10       59    22091               1\n",
       "1609122  2015     10       59    22100               1\n",
       "1609123  2015     10       59    22102               1\n",
       "\n",
       "[1609124 rows x 5 columns]"
      ]
     },
     "execution_count": 17,
     "metadata": {},
     "output_type": "execute_result"
    }
   ],
   "source": [
    "train_data"
   ]
  },
  {
   "cell_type": "code",
   "execution_count": 18,
   "id": "dress-leone",
   "metadata": {},
   "outputs": [],
   "source": [
    "train_data = pd.merge(train_data, fixed_numbers, on=['Year','Month','shop_id', 'item_id'], how='inner')"
   ]
  },
  {
   "cell_type": "code",
   "execution_count": 19,
   "id": "interracial-denver",
   "metadata": {},
   "outputs": [
    {
     "data": {
      "text/html": [
       "<div>\n",
       "<style scoped>\n",
       "    .dataframe tbody tr th:only-of-type {\n",
       "        vertical-align: middle;\n",
       "    }\n",
       "\n",
       "    .dataframe tbody tr th {\n",
       "        vertical-align: top;\n",
       "    }\n",
       "\n",
       "    .dataframe thead th {\n",
       "        text-align: right;\n",
       "    }\n",
       "</style>\n",
       "<table border=\"1\" class=\"dataframe\">\n",
       "  <thead>\n",
       "    <tr style=\"text-align: right;\">\n",
       "      <th></th>\n",
       "      <th>Year</th>\n",
       "      <th>Month</th>\n",
       "      <th>shop_id</th>\n",
       "      <th>item_id</th>\n",
       "      <th>item_cnt_month</th>\n",
       "      <th>item_price</th>\n",
       "    </tr>\n",
       "  </thead>\n",
       "  <tbody>\n",
       "    <tr>\n",
       "      <th>0</th>\n",
       "      <td>2013</td>\n",
       "      <td>1</td>\n",
       "      <td>0</td>\n",
       "      <td>32</td>\n",
       "      <td>4</td>\n",
       "      <td>221.0</td>\n",
       "    </tr>\n",
       "    <tr>\n",
       "      <th>1</th>\n",
       "      <td>2013</td>\n",
       "      <td>1</td>\n",
       "      <td>0</td>\n",
       "      <td>33</td>\n",
       "      <td>3</td>\n",
       "      <td>347.0</td>\n",
       "    </tr>\n",
       "    <tr>\n",
       "      <th>2</th>\n",
       "      <td>2013</td>\n",
       "      <td>1</td>\n",
       "      <td>0</td>\n",
       "      <td>35</td>\n",
       "      <td>1</td>\n",
       "      <td>247.0</td>\n",
       "    </tr>\n",
       "    <tr>\n",
       "      <th>3</th>\n",
       "      <td>2013</td>\n",
       "      <td>1</td>\n",
       "      <td>0</td>\n",
       "      <td>43</td>\n",
       "      <td>1</td>\n",
       "      <td>221.0</td>\n",
       "    </tr>\n",
       "    <tr>\n",
       "      <th>4</th>\n",
       "      <td>2013</td>\n",
       "      <td>1</td>\n",
       "      <td>0</td>\n",
       "      <td>51</td>\n",
       "      <td>2</td>\n",
       "      <td>127.0</td>\n",
       "    </tr>\n",
       "    <tr>\n",
       "      <th>...</th>\n",
       "      <td>...</td>\n",
       "      <td>...</td>\n",
       "      <td>...</td>\n",
       "      <td>...</td>\n",
       "      <td>...</td>\n",
       "      <td>...</td>\n",
       "    </tr>\n",
       "    <tr>\n",
       "      <th>1609119</th>\n",
       "      <td>2015</td>\n",
       "      <td>10</td>\n",
       "      <td>59</td>\n",
       "      <td>22087</td>\n",
       "      <td>3</td>\n",
       "      <td>119.0</td>\n",
       "    </tr>\n",
       "    <tr>\n",
       "      <th>1609120</th>\n",
       "      <td>2015</td>\n",
       "      <td>10</td>\n",
       "      <td>59</td>\n",
       "      <td>22088</td>\n",
       "      <td>2</td>\n",
       "      <td>119.0</td>\n",
       "    </tr>\n",
       "    <tr>\n",
       "      <th>1609121</th>\n",
       "      <td>2015</td>\n",
       "      <td>10</td>\n",
       "      <td>59</td>\n",
       "      <td>22091</td>\n",
       "      <td>1</td>\n",
       "      <td>179.0</td>\n",
       "    </tr>\n",
       "    <tr>\n",
       "      <th>1609122</th>\n",
       "      <td>2015</td>\n",
       "      <td>10</td>\n",
       "      <td>59</td>\n",
       "      <td>22100</td>\n",
       "      <td>1</td>\n",
       "      <td>629.0</td>\n",
       "    </tr>\n",
       "    <tr>\n",
       "      <th>1609123</th>\n",
       "      <td>2015</td>\n",
       "      <td>10</td>\n",
       "      <td>59</td>\n",
       "      <td>22102</td>\n",
       "      <td>1</td>\n",
       "      <td>1250.0</td>\n",
       "    </tr>\n",
       "  </tbody>\n",
       "</table>\n",
       "<p>1609124 rows × 6 columns</p>\n",
       "</div>"
      ],
      "text/plain": [
       "         Year  Month  shop_id  item_id  item_cnt_month  item_price\n",
       "0        2013      1        0       32               4       221.0\n",
       "1        2013      1        0       33               3       347.0\n",
       "2        2013      1        0       35               1       247.0\n",
       "3        2013      1        0       43               1       221.0\n",
       "4        2013      1        0       51               2       127.0\n",
       "...       ...    ...      ...      ...             ...         ...\n",
       "1609119  2015     10       59    22087               3       119.0\n",
       "1609120  2015     10       59    22088               2       119.0\n",
       "1609121  2015     10       59    22091               1       179.0\n",
       "1609122  2015     10       59    22100               1       629.0\n",
       "1609123  2015     10       59    22102               1      1250.0\n",
       "\n",
       "[1609124 rows x 6 columns]"
      ]
     },
     "execution_count": 19,
     "metadata": {},
     "output_type": "execute_result"
    }
   ],
   "source": [
    "train_data"
   ]
  },
  {
   "cell_type": "code",
   "execution_count": 20,
   "id": "indian-capitol",
   "metadata": {},
   "outputs": [],
   "source": [
    "train_data_inputs = train_data.drop(['item_cnt_month', 'item_price'], axis=1).values"
   ]
  },
  {
   "cell_type": "code",
   "execution_count": 21,
   "id": "domestic-heath",
   "metadata": {},
   "outputs": [
    {
     "data": {
      "text/plain": [
       "array([[ 2013,     1,     0,    32],\n",
       "       [ 2013,     1,     0,    33],\n",
       "       [ 2013,     1,     0,    35],\n",
       "       ...,\n",
       "       [ 2015,    10,    59, 22091],\n",
       "       [ 2015,    10,    59, 22100],\n",
       "       [ 2015,    10,    59, 22102]], dtype=int64)"
      ]
     },
     "execution_count": 21,
     "metadata": {},
     "output_type": "execute_result"
    }
   ],
   "source": [
    "train_data_inputs"
   ]
  },
  {
   "cell_type": "code",
   "execution_count": 22,
   "id": "necessary-waste",
   "metadata": {},
   "outputs": [],
   "source": [
    "train_data_targets = train_data[['item_cnt_month']].values"
   ]
  },
  {
   "cell_type": "code",
   "execution_count": 23,
   "id": "working-trauma",
   "metadata": {},
   "outputs": [],
   "source": [
    "#train_data.index"
   ]
  },
  {
   "cell_type": "code",
   "execution_count": 24,
   "id": "brutal-college",
   "metadata": {},
   "outputs": [],
   "source": [
    "#train_data.values.shape, train_data.index.values.shape"
   ]
  },
  {
   "cell_type": "code",
   "execution_count": 25,
   "id": "declared-standard",
   "metadata": {},
   "outputs": [],
   "source": [
    "#train_data.index.values.reshape(1609124,1)"
   ]
  },
  {
   "cell_type": "code",
   "execution_count": 26,
   "id": "social-warehouse",
   "metadata": {},
   "outputs": [],
   "source": [
    "#train_data_inputs = train_data.index.values.reshape(len(train_data),1)"
   ]
  },
  {
   "cell_type": "code",
   "execution_count": 27,
   "id": "delayed-station",
   "metadata": {},
   "outputs": [
    {
     "data": {
      "text/html": [
       "<div>\n",
       "<style scoped>\n",
       "    .dataframe tbody tr th:only-of-type {\n",
       "        vertical-align: middle;\n",
       "    }\n",
       "\n",
       "    .dataframe tbody tr th {\n",
       "        vertical-align: top;\n",
       "    }\n",
       "\n",
       "    .dataframe thead th {\n",
       "        text-align: right;\n",
       "    }\n",
       "</style>\n",
       "<table border=\"1\" class=\"dataframe\">\n",
       "  <thead>\n",
       "    <tr style=\"text-align: right;\">\n",
       "      <th></th>\n",
       "      <th>ID</th>\n",
       "      <th>shop_id</th>\n",
       "      <th>item_id</th>\n",
       "    </tr>\n",
       "  </thead>\n",
       "  <tbody>\n",
       "    <tr>\n",
       "      <th>0</th>\n",
       "      <td>0</td>\n",
       "      <td>5</td>\n",
       "      <td>5037</td>\n",
       "    </tr>\n",
       "    <tr>\n",
       "      <th>1</th>\n",
       "      <td>1</td>\n",
       "      <td>5</td>\n",
       "      <td>5320</td>\n",
       "    </tr>\n",
       "    <tr>\n",
       "      <th>2</th>\n",
       "      <td>2</td>\n",
       "      <td>5</td>\n",
       "      <td>5233</td>\n",
       "    </tr>\n",
       "    <tr>\n",
       "      <th>3</th>\n",
       "      <td>3</td>\n",
       "      <td>5</td>\n",
       "      <td>5232</td>\n",
       "    </tr>\n",
       "    <tr>\n",
       "      <th>4</th>\n",
       "      <td>4</td>\n",
       "      <td>5</td>\n",
       "      <td>5268</td>\n",
       "    </tr>\n",
       "  </tbody>\n",
       "</table>\n",
       "</div>"
      ],
      "text/plain": [
       "   ID  shop_id  item_id\n",
       "0   0        5     5037\n",
       "1   1        5     5320\n",
       "2   2        5     5233\n",
       "3   3        5     5232\n",
       "4   4        5     5268"
      ]
     },
     "execution_count": 27,
     "metadata": {},
     "output_type": "execute_result"
    }
   ],
   "source": [
    "test_data_s = pd.read_csv(DATA_PATH + 'test.csv')\n",
    "test_data_s.head()"
   ]
  },
  {
   "cell_type": "code",
   "execution_count": 28,
   "id": "systematic-translation",
   "metadata": {},
   "outputs": [
    {
     "name": "stdout",
     "output_type": "stream",
     "text": [
      "<class 'pandas.core.frame.DataFrame'>\n",
      "RangeIndex: 214200 entries, 0 to 214199\n",
      "Data columns (total 3 columns):\n",
      " #   Column   Non-Null Count   Dtype\n",
      "---  ------   --------------   -----\n",
      " 0   ID       214200 non-null  int64\n",
      " 1   shop_id  214200 non-null  int64\n",
      " 2   item_id  214200 non-null  int64\n",
      "dtypes: int64(3)\n",
      "memory usage: 4.9 MB\n"
     ]
    }
   ],
   "source": [
    "test_data_s.info()"
   ]
  },
  {
   "cell_type": "code",
   "execution_count": 29,
   "id": "artistic-handbook",
   "metadata": {},
   "outputs": [],
   "source": [
    "test_data_s['Year'] = 2015\n",
    "test_data_s['Month'] = 11"
   ]
  },
  {
   "cell_type": "code",
   "execution_count": 30,
   "id": "nuclear-profession",
   "metadata": {},
   "outputs": [
    {
     "data": {
      "text/html": [
       "<div>\n",
       "<style scoped>\n",
       "    .dataframe tbody tr th:only-of-type {\n",
       "        vertical-align: middle;\n",
       "    }\n",
       "\n",
       "    .dataframe tbody tr th {\n",
       "        vertical-align: top;\n",
       "    }\n",
       "\n",
       "    .dataframe thead th {\n",
       "        text-align: right;\n",
       "    }\n",
       "</style>\n",
       "<table border=\"1\" class=\"dataframe\">\n",
       "  <thead>\n",
       "    <tr style=\"text-align: right;\">\n",
       "      <th></th>\n",
       "      <th>ID</th>\n",
       "      <th>shop_id</th>\n",
       "      <th>item_id</th>\n",
       "      <th>Year</th>\n",
       "      <th>Month</th>\n",
       "    </tr>\n",
       "  </thead>\n",
       "  <tbody>\n",
       "    <tr>\n",
       "      <th>0</th>\n",
       "      <td>0</td>\n",
       "      <td>5</td>\n",
       "      <td>5037</td>\n",
       "      <td>2015</td>\n",
       "      <td>11</td>\n",
       "    </tr>\n",
       "    <tr>\n",
       "      <th>1</th>\n",
       "      <td>1</td>\n",
       "      <td>5</td>\n",
       "      <td>5320</td>\n",
       "      <td>2015</td>\n",
       "      <td>11</td>\n",
       "    </tr>\n",
       "    <tr>\n",
       "      <th>2</th>\n",
       "      <td>2</td>\n",
       "      <td>5</td>\n",
       "      <td>5233</td>\n",
       "      <td>2015</td>\n",
       "      <td>11</td>\n",
       "    </tr>\n",
       "    <tr>\n",
       "      <th>3</th>\n",
       "      <td>3</td>\n",
       "      <td>5</td>\n",
       "      <td>5232</td>\n",
       "      <td>2015</td>\n",
       "      <td>11</td>\n",
       "    </tr>\n",
       "    <tr>\n",
       "      <th>4</th>\n",
       "      <td>4</td>\n",
       "      <td>5</td>\n",
       "      <td>5268</td>\n",
       "      <td>2015</td>\n",
       "      <td>11</td>\n",
       "    </tr>\n",
       "  </tbody>\n",
       "</table>\n",
       "</div>"
      ],
      "text/plain": [
       "   ID  shop_id  item_id  Year  Month\n",
       "0   0        5     5037  2015     11\n",
       "1   1        5     5320  2015     11\n",
       "2   2        5     5233  2015     11\n",
       "3   3        5     5232  2015     11\n",
       "4   4        5     5268  2015     11"
      ]
     },
     "execution_count": 30,
     "metadata": {},
     "output_type": "execute_result"
    }
   ],
   "source": [
    "test_data_s.head()"
   ]
  },
  {
   "cell_type": "code",
   "execution_count": 31,
   "id": "modified-forge",
   "metadata": {},
   "outputs": [],
   "source": [
    "#test_data_s = pd.merge(test_data_s, fixed_numbers, on=['shop_id', 'item_id', 'Year', 'Month'], how='inner')"
   ]
  },
  {
   "cell_type": "code",
   "execution_count": 32,
   "id": "headed-pharmacy",
   "metadata": {},
   "outputs": [
    {
     "data": {
      "text/plain": [
       "array(['ID', 'shop_id', 'item_id', 'Year', 'Month'], dtype=object)"
      ]
     },
     "execution_count": 32,
     "metadata": {},
     "output_type": "execute_result"
    }
   ],
   "source": [
    "test_data_s.columns.values"
   ]
  },
  {
   "cell_type": "code",
   "execution_count": 33,
   "id": "liable-therapy",
   "metadata": {},
   "outputs": [
    {
     "data": {
      "text/html": [
       "<div>\n",
       "<style scoped>\n",
       "    .dataframe tbody tr th:only-of-type {\n",
       "        vertical-align: middle;\n",
       "    }\n",
       "\n",
       "    .dataframe tbody tr th {\n",
       "        vertical-align: top;\n",
       "    }\n",
       "\n",
       "    .dataframe thead th {\n",
       "        text-align: right;\n",
       "    }\n",
       "</style>\n",
       "<table border=\"1\" class=\"dataframe\">\n",
       "  <thead>\n",
       "    <tr style=\"text-align: right;\">\n",
       "      <th></th>\n",
       "      <th>Year</th>\n",
       "      <th>Month</th>\n",
       "      <th>shop_id</th>\n",
       "      <th>item_id</th>\n",
       "    </tr>\n",
       "  </thead>\n",
       "  <tbody>\n",
       "    <tr>\n",
       "      <th>0</th>\n",
       "      <td>2015</td>\n",
       "      <td>11</td>\n",
       "      <td>5</td>\n",
       "      <td>5037</td>\n",
       "    </tr>\n",
       "    <tr>\n",
       "      <th>1</th>\n",
       "      <td>2015</td>\n",
       "      <td>11</td>\n",
       "      <td>5</td>\n",
       "      <td>5320</td>\n",
       "    </tr>\n",
       "    <tr>\n",
       "      <th>2</th>\n",
       "      <td>2015</td>\n",
       "      <td>11</td>\n",
       "      <td>5</td>\n",
       "      <td>5233</td>\n",
       "    </tr>\n",
       "    <tr>\n",
       "      <th>3</th>\n",
       "      <td>2015</td>\n",
       "      <td>11</td>\n",
       "      <td>5</td>\n",
       "      <td>5232</td>\n",
       "    </tr>\n",
       "    <tr>\n",
       "      <th>4</th>\n",
       "      <td>2015</td>\n",
       "      <td>11</td>\n",
       "      <td>5</td>\n",
       "      <td>5268</td>\n",
       "    </tr>\n",
       "  </tbody>\n",
       "</table>\n",
       "</div>"
      ],
      "text/plain": [
       "   Year  Month  shop_id  item_id\n",
       "0  2015     11        5     5037\n",
       "1  2015     11        5     5320\n",
       "2  2015     11        5     5233\n",
       "3  2015     11        5     5232\n",
       "4  2015     11        5     5268"
      ]
     },
     "execution_count": 33,
     "metadata": {},
     "output_type": "execute_result"
    }
   ],
   "source": [
    "test_data_inputs = test_data_s[['Year', 'Month', 'shop_id', 'item_id']]\n",
    "test_data_inputs.head()"
   ]
  },
  {
   "cell_type": "code",
   "execution_count": 34,
   "id": "private-journey",
   "metadata": {},
   "outputs": [],
   "source": [
    "reg = LinearRegression()"
   ]
  },
  {
   "cell_type": "code",
   "execution_count": 35,
   "id": "cooperative-service",
   "metadata": {},
   "outputs": [
    {
     "data": {
      "text/plain": [
       "LinearRegression()"
      ]
     },
     "execution_count": 35,
     "metadata": {},
     "output_type": "execute_result"
    }
   ],
   "source": [
    "reg.fit(train_data_inputs, train_data_targets)"
   ]
  },
  {
   "cell_type": "code",
   "execution_count": 36,
   "id": "neither-michigan",
   "metadata": {},
   "outputs": [
    {
     "data": {
      "text/plain": [
       "0.006131412189755769"
      ]
     },
     "execution_count": 36,
     "metadata": {},
     "output_type": "execute_result"
    }
   ],
   "source": [
    "reg.score(train_data_inputs, train_data_targets)"
   ]
  },
  {
   "cell_type": "code",
   "execution_count": 37,
   "id": "otherwise-threshold",
   "metadata": {},
   "outputs": [
    {
     "data": {
      "text/plain": [
       "array([[1.98514391],\n",
       "       [1.98512108],\n",
       "       [1.98507544],\n",
       "       ...,\n",
       "       [1.60226685],\n",
       "       [1.60206146],\n",
       "       [1.60201581]])"
      ]
     },
     "execution_count": 37,
     "metadata": {},
     "output_type": "execute_result"
    }
   ],
   "source": [
    "reg.predict(train_data_inputs)"
   ]
  },
  {
   "cell_type": "code",
   "execution_count": 38,
   "id": "perceived-request",
   "metadata": {},
   "outputs": [
    {
     "data": {
      "text/plain": [
       "array([[4],\n",
       "       [3],\n",
       "       [1],\n",
       "       ...,\n",
       "       [1],\n",
       "       [1],\n",
       "       [1]], dtype=int64)"
      ]
     },
     "execution_count": 38,
     "metadata": {},
     "output_type": "execute_result"
    }
   ],
   "source": [
    "train_data_targets"
   ]
  },
  {
   "cell_type": "code",
   "execution_count": 39,
   "id": "smooth-canon",
   "metadata": {},
   "outputs": [
    {
     "data": {
      "text/plain": [
       "array([[1.92420352],\n",
       "       [1.91774511],\n",
       "       [1.91973055],\n",
       "       ...,\n",
       "       [1.73899207],\n",
       "       [1.6501946 ],\n",
       "       [2.07647265]])"
      ]
     },
     "execution_count": 39,
     "metadata": {},
     "output_type": "execute_result"
    }
   ],
   "source": [
    "reg.predict(test_data_inputs)"
   ]
  },
  {
   "cell_type": "code",
   "execution_count": 45,
   "id": "oriented-elizabeth",
   "metadata": {},
   "outputs": [],
   "source": [
    "ans_data = test_data_s.copy()"
   ]
  },
  {
   "cell_type": "code",
   "execution_count": 46,
   "id": "recovered-auction",
   "metadata": {},
   "outputs": [],
   "source": [
    "ans_data['item_cnt_month'] = reg.predict(test_data_inputs)"
   ]
  },
  {
   "cell_type": "code",
   "execution_count": 47,
   "id": "pointed-minutes",
   "metadata": {},
   "outputs": [],
   "source": [
    "ans_data = ans_data[['ID', 'item_cnt_month']]"
   ]
  },
  {
   "cell_type": "code",
   "execution_count": 49,
   "id": "formal-plaintiff",
   "metadata": {},
   "outputs": [],
   "source": [
    "ans_data.to_csv('kc_predict_sales_submission.csv', index=False)"
   ]
  },
  {
   "cell_type": "code",
   "execution_count": null,
   "id": "incredible-glenn",
   "metadata": {},
   "outputs": [],
   "source": [
    "# tensorflow"
   ]
  },
  {
   "cell_type": "code",
   "execution_count": 60,
   "id": "aboriginal-appliance",
   "metadata": {},
   "outputs": [],
   "source": [
    "df_train_inputs = train_data.drop(['item_cnt_month', 'item_price'], axis=1)\n",
    "df_train_targets = train_data[['item_cnt_month']]"
   ]
  },
  {
   "cell_type": "code",
   "execution_count": 61,
   "id": "qualified-spiritual",
   "metadata": {},
   "outputs": [],
   "source": [
    "shuffled_indices = np.arange(df_train_inputs.shape[0])\n",
    "np.random.shuffle(shuffled_indices)\n",
    "\n",
    "train_shuffled_inputs = df_train_inputs.reindex(index=shuffled_indices)\n",
    "train_shuffled_targets = df_train_targets.reindex(index=shuffled_indices)"
   ]
  },
  {
   "cell_type": "code",
   "execution_count": 64,
   "id": "thick-mason",
   "metadata": {},
   "outputs": [
    {
     "name": "stdout",
     "output_type": "stream",
     "text": [
      "<class 'pandas.core.frame.DataFrame'>\n",
      "Int64Index: 1609124 entries, 318170 to 282972\n",
      "Data columns (total 4 columns):\n",
      " #   Column   Non-Null Count    Dtype\n",
      "---  ------   --------------    -----\n",
      " 0   Year     1609124 non-null  int64\n",
      " 1   Month    1609124 non-null  int64\n",
      " 2   shop_id  1609124 non-null  int64\n",
      " 3   item_id  1609124 non-null  int64\n",
      "dtypes: int64(4)\n",
      "memory usage: 61.4 MB\n"
     ]
    }
   ],
   "source": [
    "train_shuffled_inputs.info()"
   ]
  },
  {
   "cell_type": "code",
   "execution_count": 66,
   "id": "understanding-telling",
   "metadata": {},
   "outputs": [],
   "source": [
    "p_count = train_shuffled_inputs.shape[0]\n",
    "\n",
    "train_p_count = round(p_count * 0.8)  #四捨五入して整数に\n",
    "val_p_count = p_count - train_p_count \n",
    "\n",
    "train_p_inputs = train_shuffled_inputs[:train_p_count]\n",
    "train_p_targets = train_shuffled_targets[:train_p_count]\n",
    "\n",
    "val_p_inputs = train_shuffled_inputs[train_p_count:]\n",
    "val_p_targets = train_shuffled_targets[train_p_count:]"
   ]
  },
  {
   "cell_type": "code",
   "execution_count": 67,
   "id": "acute-socket",
   "metadata": {},
   "outputs": [],
   "source": [
    "np_train_inputs = train_p_inputs.values\n",
    "np_train_targets = train_p_targets.values\n",
    "\n",
    "np_val_inputs = val_p_inputs.values\n",
    "np_val_targets = val_p_targets.values"
   ]
  },
  {
   "cell_type": "code",
   "execution_count": 74,
   "id": "funny-negotiation",
   "metadata": {},
   "outputs": [
    {
     "data": {
      "text/plain": [
       "array([[ 2013,     6,    28, 12795],\n",
       "       [ 2013,     1,    46, 17392],\n",
       "       [ 2014,    12,    27, 21872],\n",
       "       ...,\n",
       "       [ 2014,     6,    26, 18070],\n",
       "       [ 2014,    11,    31, 17125],\n",
       "       [ 2014,     9,    29,  2607]], dtype=int64)"
      ]
     },
     "execution_count": 74,
     "metadata": {},
     "output_type": "execute_result"
    }
   ],
   "source": [
    "np_train_inputs"
   ]
  },
  {
   "cell_type": "code",
   "execution_count": 79,
   "id": "congressional-arthur",
   "metadata": {},
   "outputs": [
    {
     "name": "stdout",
     "output_type": "stream",
     "text": [
      "Epoch 1/100\n",
      "12873/12873 - 18s - loss: -1.2582e+01 - accuracy: 0.6691 - val_loss: -1.2537e+01 - val_accuracy: 0.6699\n",
      "Epoch 2/100\n",
      "12873/12873 - 17s - loss: -1.2582e+01 - accuracy: 0.6691 - val_loss: -1.2537e+01 - val_accuracy: 0.6699\n",
      "Epoch 3/100\n",
      "12873/12873 - 19s - loss: -1.2582e+01 - accuracy: 0.6691 - val_loss: -1.2537e+01 - val_accuracy: 0.6699\n"
     ]
    },
    {
     "data": {
      "text/plain": [
       "<tensorflow.python.keras.callbacks.History at 0x1f60405ca30>"
      ]
     },
     "execution_count": 79,
     "metadata": {},
     "output_type": "execute_result"
    }
   ],
   "source": [
    "inputs_size = 4\n",
    "outputs_size = 1\n",
    "hidden_layer_size = 50\n",
    "\n",
    "model = tf.keras.Sequential([\n",
    "    tf.keras.layers.Dense(hidden_layer_size, activation='relu'),\n",
    "    tf.keras.layers.Dense(hidden_layer_size, activation='relu'),\n",
    "    tf.keras.layers.Dense(outputs_size, activation='linear')\n",
    "])\n",
    "\n",
    "model.compile(optimizer='adam', loss='binary_crossentropy', metrics=['accuracy'])    #出力が確率ではないときは、損失関数にbinary_crossentropyを選択する\n",
    "\n",
    "batch_size=100\n",
    "max_epochs=100\n",
    "\n",
    "early_stopping = tf.keras.callbacks.EarlyStopping(patience=2)\n",
    "\n",
    "model.fit(np_train_inputs,\n",
    "          np_train_targets,\n",
    "          batch_size=batch_size,\n",
    "          epochs=max_epochs,\n",
    "          callbacks=[early_stopping],\n",
    "          validation_data = (np_val_inputs, np_val_targets),\n",
    "          verbose=2\n",
    "         )"
   ]
  },
  {
   "cell_type": "code",
   "execution_count": 81,
   "id": "mysterious-cause",
   "metadata": {},
   "outputs": [
    {
     "data": {
      "text/plain": [
       "array([[1758.128 ],\n",
       "       [1858.5308],\n",
       "       [1828.4147],\n",
       "       ...,\n",
       "       [5271.317 ],\n",
       "       [6547.3496],\n",
       "       [ 340.7222]], dtype=float32)"
      ]
     },
     "execution_count": 81,
     "metadata": {},
     "output_type": "execute_result"
    }
   ],
   "source": [
    "model.predict(test_data_inputs.values)   #失敗"
   ]
  },
  {
   "cell_type": "code",
   "execution_count": 82,
   "id": "personalized-surrey",
   "metadata": {},
   "outputs": [
    {
     "data": {
      "text/plain": [
       "array([[1],\n",
       "       [1],\n",
       "       [1],\n",
       "       ...,\n",
       "       [1],\n",
       "       [2],\n",
       "       [1]], dtype=int64)"
      ]
     },
     "execution_count": 82,
     "metadata": {},
     "output_type": "execute_result"
    }
   ],
   "source": [
    "np_train_targets"
   ]
  },
  {
   "cell_type": "code",
   "execution_count": null,
   "id": "enclosed-stack",
   "metadata": {},
   "outputs": [],
   "source": [
    "# シャッフルした訓練データで再度チャレンジ(sklearn)"
   ]
  },
  {
   "cell_type": "code",
   "execution_count": 83,
   "id": "basic-screen",
   "metadata": {},
   "outputs": [
    {
     "data": {
      "text/plain": [
       "LinearRegression()"
      ]
     },
     "execution_count": 83,
     "metadata": {},
     "output_type": "execute_result"
    }
   ],
   "source": [
    "reg.fit(train_shuffled_inputs, train_shuffled_targets)"
   ]
  },
  {
   "cell_type": "code",
   "execution_count": 89,
   "id": "excessive-february",
   "metadata": {},
   "outputs": [
    {
     "data": {
      "text/plain": [
       "array([[1.92420352],\n",
       "       [1.91774511],\n",
       "       [1.91973055],\n",
       "       ...,\n",
       "       [1.73899207],\n",
       "       [1.6501946 ],\n",
       "       [2.07647265]])"
      ]
     },
     "execution_count": 89,
     "metadata": {},
     "output_type": "execute_result"
    }
   ],
   "source": [
    "reg.predict(test_data_inputs)"
   ]
  },
  {
   "cell_type": "code",
   "execution_count": 88,
   "id": "sitting-integer",
   "metadata": {},
   "outputs": [
    {
     "data": {
      "text/plain": [
       "array([[2],\n",
       "       [2],\n",
       "       [2],\n",
       "       ...,\n",
       "       [2],\n",
       "       [2],\n",
       "       [2]])"
      ]
     },
     "execution_count": 88,
     "metadata": {},
     "output_type": "execute_result"
    }
   ],
   "source": [
    "#reg.predict(test_data_inputs).round().astype('int')    #四捨五入して、int化する"
   ]
  },
  {
   "cell_type": "code",
   "execution_count": 106,
   "id": "wireless-polish",
   "metadata": {},
   "outputs": [
    {
     "data": {
      "text/plain": [
       "array([[1],\n",
       "       [1],\n",
       "       [1],\n",
       "       ...,\n",
       "       [1],\n",
       "       [1],\n",
       "       [2]])"
      ]
     },
     "execution_count": 106,
     "metadata": {},
     "output_type": "execute_result"
    }
   ],
   "source": [
    "np.floor(reg.predict(test_data_inputs)).astype('int')    #切り上げして、int化"
   ]
  },
  {
   "cell_type": "code",
   "execution_count": 111,
   "id": "romantic-performance",
   "metadata": {},
   "outputs": [],
   "source": [
    "ans_data2 = test_data_s.copy()"
   ]
  },
  {
   "cell_type": "code",
   "execution_count": 112,
   "id": "associate-hudson",
   "metadata": {},
   "outputs": [],
   "source": [
    "ans_data2.drop(['Year','Month'],1, inplace=True)"
   ]
  },
  {
   "cell_type": "code",
   "execution_count": 113,
   "id": "large-structure",
   "metadata": {},
   "outputs": [],
   "source": [
    "ans_data2['item_cnt_month'] = np.floor(reg.predict(test_data_inputs)).astype('int')"
   ]
  },
  {
   "cell_type": "code",
   "execution_count": 114,
   "id": "apparent-veteran",
   "metadata": {},
   "outputs": [],
   "source": [
    "redict_sales_submission2.csvans_data2[['ID','item_cnt_month']].to_csv('kc_predict_sales_submission2.csv', index=False)"
   ]
  },
  {
   "cell_type": "code",
   "execution_count": null,
   "id": "protected-civilization",
   "metadata": {},
   "outputs": [],
   "source": [
    "#RandomForestRegressor で再チャレンジ   (決定木型の回帰)"
   ]
  },
  {
   "cell_type": "code",
   "execution_count": 117,
   "id": "respiratory-importance",
   "metadata": {},
   "outputs": [],
   "source": [
    "from sklearn.ensemble import RandomForestRegressor"
   ]
  },
  {
   "cell_type": "code",
   "execution_count": 118,
   "id": "authorized-invitation",
   "metadata": {},
   "outputs": [],
   "source": [
    "model = RandomForestRegressor()"
   ]
  },
  {
   "cell_type": "code",
   "execution_count": 133,
   "id": "corporate-invasion",
   "metadata": {},
   "outputs": [
    {
     "data": {
      "text/html": [
       "<div>\n",
       "<style scoped>\n",
       "    .dataframe tbody tr th:only-of-type {\n",
       "        vertical-align: middle;\n",
       "    }\n",
       "\n",
       "    .dataframe tbody tr th {\n",
       "        vertical-align: top;\n",
       "    }\n",
       "\n",
       "    .dataframe thead th {\n",
       "        text-align: right;\n",
       "    }\n",
       "</style>\n",
       "<table border=\"1\" class=\"dataframe\">\n",
       "  <thead>\n",
       "    <tr style=\"text-align: right;\">\n",
       "      <th></th>\n",
       "      <th>Year</th>\n",
       "      <th>Month</th>\n",
       "      <th>shop_id</th>\n",
       "      <th>item_id</th>\n",
       "    </tr>\n",
       "  </thead>\n",
       "  <tbody>\n",
       "    <tr>\n",
       "      <th>318170</th>\n",
       "      <td>-1.019532</td>\n",
       "      <td>-0.044747</td>\n",
       "      <td>-0.290612</td>\n",
       "      <td>0.338844</td>\n",
       "    </tr>\n",
       "    <tr>\n",
       "      <th>50376</th>\n",
       "      <td>-1.019532</td>\n",
       "      <td>-1.491829</td>\n",
       "      <td>0.797856</td>\n",
       "      <td>1.075675</td>\n",
       "    </tr>\n",
       "    <tr>\n",
       "      <th>1219603</th>\n",
       "      <td>0.266919</td>\n",
       "      <td>1.691751</td>\n",
       "      <td>-0.351082</td>\n",
       "      <td>1.793753</td>\n",
       "    </tr>\n",
       "    <tr>\n",
       "      <th>520866</th>\n",
       "      <td>-1.019532</td>\n",
       "      <td>1.112918</td>\n",
       "      <td>-1.681432</td>\n",
       "      <td>-0.003685</td>\n",
       "    </tr>\n",
       "    <tr>\n",
       "      <th>1036652</th>\n",
       "      <td>0.266919</td>\n",
       "      <td>0.534085</td>\n",
       "      <td>-0.411553</td>\n",
       "      <td>0.665185</td>\n",
       "    </tr>\n",
       "    <tr>\n",
       "      <th>...</th>\n",
       "      <td>...</td>\n",
       "      <td>...</td>\n",
       "      <td>...</td>\n",
       "      <td>...</td>\n",
       "    </tr>\n",
       "    <tr>\n",
       "      <th>836965</th>\n",
       "      <td>0.266919</td>\n",
       "      <td>-0.912996</td>\n",
       "      <td>1.523502</td>\n",
       "      <td>0.878204</td>\n",
       "    </tr>\n",
       "    <tr>\n",
       "      <th>734268</th>\n",
       "      <td>0.266919</td>\n",
       "      <td>-1.491829</td>\n",
       "      <td>1.281620</td>\n",
       "      <td>1.137866</td>\n",
       "    </tr>\n",
       "    <tr>\n",
       "      <th>1296706</th>\n",
       "      <td>1.553370</td>\n",
       "      <td>-1.491829</td>\n",
       "      <td>1.281620</td>\n",
       "      <td>1.807056</td>\n",
       "    </tr>\n",
       "    <tr>\n",
       "      <th>190610</th>\n",
       "      <td>-1.019532</td>\n",
       "      <td>-0.623580</td>\n",
       "      <td>-1.560491</td>\n",
       "      <td>-1.244132</td>\n",
       "    </tr>\n",
       "    <tr>\n",
       "      <th>282972</th>\n",
       "      <td>-1.019532</td>\n",
       "      <td>-0.334164</td>\n",
       "      <td>1.039738</td>\n",
       "      <td>1.795356</td>\n",
       "    </tr>\n",
       "  </tbody>\n",
       "</table>\n",
       "<p>1609124 rows × 4 columns</p>\n",
       "</div>"
      ],
      "text/plain": [
       "             Year     Month   shop_id   item_id\n",
       "318170  -1.019532 -0.044747 -0.290612  0.338844\n",
       "50376   -1.019532 -1.491829  0.797856  1.075675\n",
       "1219603  0.266919  1.691751 -0.351082  1.793753\n",
       "520866  -1.019532  1.112918 -1.681432 -0.003685\n",
       "1036652  0.266919  0.534085 -0.411553  0.665185\n",
       "...           ...       ...       ...       ...\n",
       "836965   0.266919 -0.912996  1.523502  0.878204\n",
       "734268   0.266919 -1.491829  1.281620  1.137866\n",
       "1296706  1.553370 -1.491829  1.281620  1.807056\n",
       "190610  -1.019532 -0.623580 -1.560491 -1.244132\n",
       "282972  -1.019532 -0.334164  1.039738  1.795356\n",
       "\n",
       "[1609124 rows x 4 columns]"
      ]
     },
     "execution_count": 133,
     "metadata": {},
     "output_type": "execute_result"
    }
   ],
   "source": [
    "train_shuffled_inputs.apply(preprocessing.scale)   #標準化をする例"
   ]
  },
  {
   "cell_type": "code",
   "execution_count": 137,
   "id": "employed-judge",
   "metadata": {},
   "outputs": [
    {
     "name": "stderr",
     "output_type": "stream",
     "text": [
      "<ipython-input-137-f5fb04c5833c>:1: DataConversionWarning: A column-vector y was passed when a 1d array was expected. Please change the shape of y to (n_samples,), for example using ravel().\n",
      "  model.fit(train_shuffled_inputs.apply(preprocessing.scale), train_shuffled_targets)\n"
     ]
    },
    {
     "data": {
      "text/plain": [
       "RandomForestRegressor()"
      ]
     },
     "execution_count": 137,
     "metadata": {},
     "output_type": "execute_result"
    }
   ],
   "source": [
    "model.fit(train_shuffled_inputs.apply(preprocessing.scale), train_shuffled_targets)"
   ]
  },
  {
   "cell_type": "code",
   "execution_count": 138,
   "id": "mechanical-burke",
   "metadata": {},
   "outputs": [
    {
     "data": {
      "text/plain": [
       "array([1.48, 1.11, 1.28, ..., 1.22, 1.23, 1.13])"
      ]
     },
     "execution_count": 138,
     "metadata": {},
     "output_type": "execute_result"
    }
   ],
   "source": [
    "model.predict(test_data_inputs.apply(preprocessing.scale))"
   ]
  },
  {
   "cell_type": "code",
   "execution_count": 141,
   "id": "entitled-satisfaction",
   "metadata": {},
   "outputs": [],
   "source": [
    "predict_targets = model.predict(test_data_inputs.apply(preprocessing.scale))"
   ]
  },
  {
   "cell_type": "code",
   "execution_count": 145,
   "id": "afraid-processing",
   "metadata": {},
   "outputs": [
    {
     "data": {
      "text/plain": [
       "array([1., 1., 1., ..., 1., 1., 1.])"
      ]
     },
     "execution_count": 145,
     "metadata": {},
     "output_type": "execute_result"
    }
   ],
   "source": [
    "predict_targets.round()"
   ]
  },
  {
   "cell_type": "code",
   "execution_count": 146,
   "id": "valuable-concert",
   "metadata": {},
   "outputs": [],
   "source": [
    "ans_data3 = test_data_s.copy()"
   ]
  },
  {
   "cell_type": "code",
   "execution_count": 147,
   "id": "determined-irish",
   "metadata": {},
   "outputs": [],
   "source": [
    "ans_data3.drop(['Year','Month'],1, inplace=True)"
   ]
  },
  {
   "cell_type": "code",
   "execution_count": 148,
   "id": "logical-romantic",
   "metadata": {},
   "outputs": [],
   "source": [
    "ans_data3['item_cnt_month'] = predict_targets.round()"
   ]
  },
  {
   "cell_type": "code",
   "execution_count": 149,
   "id": "bridal-climate",
   "metadata": {},
   "outputs": [],
   "source": [
    "ans_data3[['ID', 'item_cnt_month']].to_csv('kc_predict_sales_submission3.csv', index=False)"
   ]
  },
  {
   "cell_type": "code",
   "execution_count": null,
   "id": "careful-container",
   "metadata": {},
   "outputs": [],
   "source": [
    "# 標準化せずにもう一度行う"
   ]
  },
  {
   "cell_type": "code",
   "execution_count": 150,
   "id": "wrapped-doctrine",
   "metadata": {},
   "outputs": [
    {
     "name": "stderr",
     "output_type": "stream",
     "text": [
      "<ipython-input-150-bfbcd0575ff3>:1: DataConversionWarning: A column-vector y was passed when a 1d array was expected. Please change the shape of y to (n_samples,), for example using ravel().\n",
      "  model.fit(train_shuffled_inputs, train_shuffled_targets)\n"
     ]
    },
    {
     "data": {
      "text/plain": [
       "RandomForestRegressor()"
      ]
     },
     "execution_count": 150,
     "metadata": {},
     "output_type": "execute_result"
    }
   ],
   "source": [
    "model.fit(train_shuffled_inputs, train_shuffled_targets)"
   ]
  },
  {
   "cell_type": "code",
   "execution_count": 154,
   "id": "taken-savage",
   "metadata": {},
   "outputs": [],
   "source": [
    "prediction = model.predict(test_data_inputs)"
   ]
  },
  {
   "cell_type": "code",
   "execution_count": 155,
   "id": "similar-journalism",
   "metadata": {},
   "outputs": [
    {
     "data": {
      "text/plain": [
       "array([1.32, 1.94, 1.35, ..., 1.1 , 1.04, 1.03])"
      ]
     },
     "execution_count": 155,
     "metadata": {},
     "output_type": "execute_result"
    }
   ],
   "source": [
    "prediction"
   ]
  },
  {
   "cell_type": "code",
   "execution_count": 156,
   "id": "interesting-depth",
   "metadata": {},
   "outputs": [],
   "source": [
    "ans_data4 = test_data_s.copy()"
   ]
  },
  {
   "cell_type": "code",
   "execution_count": 157,
   "id": "labeled-delivery",
   "metadata": {},
   "outputs": [],
   "source": [
    "ans_data4['item_cnt_month'] = prediction.round()"
   ]
  },
  {
   "cell_type": "code",
   "execution_count": 158,
   "id": "exact-familiar",
   "metadata": {},
   "outputs": [],
   "source": [
    "ans_data4[['ID', 'item_cnt_month']].to_csv('kc_predict_sales_submission4.csv', index=False)"
   ]
  },
  {
   "cell_type": "code",
   "execution_count": null,
   "id": "right-innocent",
   "metadata": {},
   "outputs": [],
   "source": []
  }
 ],
 "metadata": {
  "kernelspec": {
   "display_name": "Python 3",
   "language": "python",
   "name": "python3"
  },
  "language_info": {
   "codemirror_mode": {
    "name": "ipython",
    "version": 3
   },
   "file_extension": ".py",
   "mimetype": "text/x-python",
   "name": "python",
   "nbconvert_exporter": "python",
   "pygments_lexer": "ipython3",
   "version": "3.8.5"
  }
 },
 "nbformat": 4,
 "nbformat_minor": 5
}
